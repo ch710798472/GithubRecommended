{
 "metadata": {
  "name": ""
 },
 "nbformat": 3,
 "nbformat_minor": 0,
 "worksheets": [
  {
   "cells": [
    {
     "cell_type": "code",
     "collapsed": false,
     "input": [
      "import requests\n",
      "import json\n",
      "from github import Github\n",
      "import networkx as nx\n",
      "from operator import itemgetter\n",
      "from collections import Counter\n",
      "from networkx.readwrite import json_graph\n",
      "import webbrowser\n",
      "import os"
     ],
     "language": "python",
     "metadata": {},
     "outputs": [],
     "prompt_number": 1
    },
    {
     "cell_type": "code",
     "collapsed": false,
     "input": [
      "ACCESS_TOKEN = '1161b718b9555cd76bf7ff9070c8f1ba300ea885'\n",
      "USER = 'edx'\n",
      "REPO = 'edx-documentation'\n",
      "client = Github(ACCESS_TOKEN, per_page=100)\n",
      "user = client.get_user(USER)\n",
      "repo = user.get_repo(REPO)\n",
      "\n",
      "stargazers = [ s for s in repo.get_stargazers() ] #\u53ef\u4ee5\u5148\u5bf9\u8fd9\u4e9b\u4eba\u6570\u8fdb\u884c\u5206\u7c7b>\u9650\u5236\n",
      "print \"\u5173\u6ce8\u4eba\u7684\u6570\u76ee: %d \\n\" % len(stargazers) #\u5982\u679c\u4eba\u6570\u5f88\u591a\uff0c\u901f\u5ea6\u5f88\u6162"
     ],
     "language": "python",
     "metadata": {},
     "outputs": []
    },
    {
     "cell_type": "code",
     "collapsed": false,
     "input": [
      "for s in repo.get_forks():\n",
      "    print s.get_"
     ],
     "language": "python",
     "metadata": {},
     "outputs": []
    },
    {
     "cell_type": "code",
     "collapsed": false,
     "input": [
      "g = nx.DiGraph()\n",
      "    g.add_node(repo.name + '(r)', type='repo', lang=repo.language, owner=user.login)\n",
      "\n",
      "    for sg in stargazers:\n",
      "        g.add_node(sg.login + '(u)', type='user')\n",
      "        g.add_edge(sg.login + '(u)', repo.name + '(r)', type='gazes')\n",
      "        print sg.login + '(u)'\n",
      "\n",
      "    for i, sg in enumerate(stargazers):\n",
      "        try:\n",
      "            for follower in sg.get_followers():\n",
      "                if follower.login + '(u)' in g:\n",
      "                    g.add_edge(follower.login + '(u)', sg.login + '(u)', type='follows')\n",
      "        except Exception, e:\n",
      "            print \"\u83b7\u53d6\u8ffd\u968f\u8005\u5931\u8d25\uff0c\u8df3\u8fc7\", sg.login, e\n",
      "\n",
      "        print \"\u6b63\u5728\u5904\u7406\u7b2c\", i+1, \" \u4e2a\u5173\u6ce8\u8005\u3002\"\n",
      "    c = Counter([e[1] for e in g.edges_iter(data=True) if e[2]['type'] == 'follows'])\n",
      "    popular_users = [(u, f) for (u, f) in c.most_common() if f > 1]\n",
      "    print \"\u53d7\u6b22\u8fce\u7684\u7528\u6237\u6570\u76ee\uff1a\", len(popular_users)\n",
      "    print \"\u6700\u53d7\u6b22\u8fce\u768410\u4e2a\u7528\u6237\uff1a\", popular_users[:10]"
     ],
     "language": "python",
     "metadata": {},
     "outputs": []
    },
    {
     "cell_type": "code",
     "collapsed": false,
     "input": [
      "MAX_REPOS = 500\n",
      "\n",
      "    for i, sg in enumerate(stargazers):\n",
      "        print sg.login\n",
      "        try:\n",
      "            for starred in sg.get_starred()[:MAX_REPOS]: # Slice to avoid supernodes\n",
      "                g.add_node(starred.name + '(r)', type='repo', lang=starred.language, owner=starred.owner.login)\n",
      "                g.add_edge(sg.login + '(u)', starred.name + '(r)', type='gazes')\n",
      "        except Exception, e: #ssl.SSLError:\n",
      "            print \"\u83b7\u53d6\u52a0\u661f\u4ed3\u5e93\u5931\u8d25\u3000\", sg.login, \"\u8df3\u8fc7.\"\n",
      "\n",
      "        print \"\u6b63\u5728\u5904\u7406\", i+1, \"\u52a0\u661f\u7684\u4ed3\u5e93\"\n",
      "    filename = \"1.1\"\n",
      "    nx.write_gpickle(g, filename)\n",
      "\n",
      "    d = json_graph.node_link_data(g)\n",
      "    filename = \"1.json\"\n",
      "    json.dump(d, open(filename, 'w'))"
     ],
     "language": "python",
     "metadata": {},
     "outputs": []
    },
    {
     "cell_type": "code",
     "collapsed": false,
     "input": [
      "g = nx.read_gpickle(\"1.1\")"
     ],
     "language": "python",
     "metadata": {},
     "outputs": []
    },
    {
     "cell_type": "code",
     "collapsed": false,
     "input": [
      "print nx.info(g)\n",
      "data = {}\n",
      "for n in g.nodes_iter():\n",
      "    if (g.node[n]['type'] == 'repo' and g.node[n]['lang'] not in data and g.node[n]['lang']):\n",
      "        data[ g.node[n]['lang']] = 1\n",
      "    elif (g.node[n]['type'] == 'repo' and g.node[n]['lang'] in data and g.node[n]['lang']) :\n",
      "        data[ g.node[n]['lang']] = data[ g.node[n]['lang']]+ 1\n",
      "    else:\n",
      "        pass\n",
      "sumRepo = sum([v for k,v in data.iteritems()])\n",
      "data1 =  sorted(data.iteritems(), key=lambda d:d[1], reverse = True )[:9]#\u6392\u5e8f\u8f93\u51fa\n",
      "others = 0\n",
      "for v in data1:\n",
      "    others = others + v[1]\n",
      "others =  sumRepo - others\n",
      "dothers = [unicode('others', \"UTF-8\"),others]\n",
      "data1.append(dothers)\n",
      "print sumRepo\n",
      "print others\n",
      "print data1\n",
      "json.dump(data1, open('1.1.pie', 'w'))"
     ],
     "language": "python",
     "metadata": {},
     "outputs": []
    },
    {
     "cell_type": "code",
     "collapsed": false,
     "input": [
      "print \"Popular repositories\"\n",
      "data2 = sorted([(n,d) for (n,d) in g.in_degree_iter() if g.node[n]['type'] == 'repo'], key=itemgetter(1), reverse=True)[:10]\n",
      "print data2\n",
      "json.dump(data2, open('1.1.rect', 'w'))"
     ],
     "language": "python",
     "metadata": {},
     "outputs": []
    },
    {
     "cell_type": "code",
     "collapsed": false,
     "input": [
      "USER = 'edx'\n",
      "REPO = 'edx-documentation'\n",
      "client = Github(\"ch710798472\",\"Mm456123\")\n",
      "user = client.get_user(USER)\n",
      "repo = user.get_repo(REPO)\n",
      "\n",
      "stargazers = [ s for s in repo.get_stargazers() ] #\u53ef\u4ee5\u5148\u5bf9\u8fd9\u4e9b\u4eba\u6570\u8fdb\u884c\u5206\u7c7b>\u9650\u5236\n",
      "print \"\u5173\u6ce8\u4eba\u7684\u6570\u76ee: %d \\n\" % len(stargazers) \n"
     ],
     "language": "python",
     "metadata": {},
     "outputs": []
    },
    {
     "cell_type": "code",
     "collapsed": false,
     "input": [
      "i = 1\n",
      "for sg in stargazers:\n",
      "    print i\n",
      "    print sg.login,\"-\",sg.email,\"-\",sg.avatar_url,\"-\",sg.followers,\"-\",sg.following,\"-\",sg.created_at\n",
      "    i = i + 1"
     ],
     "language": "python",
     "metadata": {},
     "outputs": []
    },
    {
     "cell_type": "code",
     "collapsed": false,
     "input": [
      "for s in repo.get_forks():\n",
      "    for x in s.get_forks():\n",
      "        print x"
     ],
     "language": "python",
     "metadata": {},
     "outputs": []
    },
    {
     "cell_type": "code",
     "collapsed": false,
     "input": [
      "r=requests.get('https://api.github.com/search/users?access_token=dff8d5a7bbc4f5240eac2fd4114dc5d0e87707ed&q=location:china&sort=followers')"
     ],
     "language": "python",
     "metadata": {},
     "outputs": []
    },
    {
     "cell_type": "code",
     "collapsed": false,
     "input": [
      "d=r.json()\n",
      "total_count = d['total_count']\n",
      "incomplete_results = d['incomplete_results']"
     ],
     "language": "python",
     "metadata": {},
     "outputs": []
    },
    {
     "cell_type": "code",
     "collapsed": false,
     "input": [
      "d = {\"items\":[]}\n",
      "url = 'https://api.github.com/search/users?q=location:china&sort=followers&per_page=100&page='\n",
      "for i in range(10):\n",
      "    print url + str(i+1)\n",
      "    newUrl = url + str(i+1)\n",
      "    r = requests.get(newUrl)\n",
      "    temp = r.json()\n",
      "    d['items'].extend(temp['items'])\n",
      "filename = \"user.json\"\n",
      "json.dump(d, open(filename, 'w'))"
     ],
     "language": "python",
     "metadata": {},
     "outputs": []
    },
    {
     "cell_type": "code",
     "collapsed": false,
     "input": [
      "t = {}\n",
      "j=0\n",
      "for i in d1['items']:\n",
      "#     print i['url']\n",
      "    r = requests.get(i['url'])\n",
      "    temp = r.json()\n",
      "    t[temp['login']] = temp\n",
      "    if (j%50)==0:\n",
      "        print j\n",
      "    j = j + 1\n",
      "filename = \"userinfo.json\"\n",
      "json.dump(t, open(filename, 'w'))"
     ],
     "language": "python",
     "metadata": {},
     "outputs": []
    },
    {
     "cell_type": "code",
     "collapsed": false,
     "input": [
      "with open(\"user.json\", \"r\") as f:\n",
      "    d1 = json.load(f)\n",
      "print d1['items']"
     ],
     "language": "python",
     "metadata": {},
     "outputs": []
    },
    {
     "cell_type": "code",
     "collapsed": false,
     "input": [
      "ACCESS_TOKEN = 'c55b7dfa48b0f4ed3ace41a124b5d35c52368604'\n",
      "client = Github(ACCESS_TOKEN, per_page=100)"
     ],
     "language": "python",
     "metadata": {},
     "outputs": []
    },
    {
     "cell_type": "code",
     "collapsed": false,
     "input": [
      "t = {}\n",
      "notdone=[]\n",
      "j=0\n",
      "for i in d1['items']:\n",
      "    try:\n",
      "        user = client.get_user(i['login'])\n",
      "        t[user._rawData['login']] = user._rawData\n",
      "    except Exception,e:\n",
      "        print \"time out\"\n",
      "        notdone.append(i['login'])\n",
      "    if (j%11)==0:\n",
      "        print j\n",
      "    j = j + 1\n",
      "filename = \"userinfo.json\"\n",
      "json.dump(t, open(filename, 'w'))"
     ],
     "language": "python",
     "metadata": {},
     "outputs": []
    },
    {
     "cell_type": "code",
     "collapsed": false,
     "input": [
      "from pprint import pprint\n",
      "pprint(vars(user))\n",
      "user._rawData['avatar_url']"
     ],
     "language": "python",
     "metadata": {},
     "outputs": []
    },
    {
     "cell_type": "code",
     "collapsed": false,
     "input": [
      "print notdone"
     ],
     "language": "python",
     "metadata": {},
     "outputs": []
    },
    {
     "cell_type": "code",
     "collapsed": false,
     "input": [
      "t1 = {}\n",
      "notdone1=[]\n",
      "j=0\n",
      "for i in notdone:\n",
      "    try:\n",
      "        user = client.get_user(i)\n",
      "        t1[user._rawData['login']] = user._rawData\n",
      "    except Exception,e:\n",
      "        print \"time out\"\n",
      "        notdone1.append(i)\n",
      "filename = \"userinfo.json\"\n",
      "json.dump(t1, open(filename, 'w'))"
     ],
     "language": "python",
     "metadata": {},
     "outputs": []
    },
    {
     "cell_type": "code",
     "collapsed": false,
     "input": [
      "with open(\"userinfo-1.json\", \"r\") as f:\n",
      "    d2 = json.load(f)\n",
      "print len(d2)"
     ],
     "language": "python",
     "metadata": {},
     "outputs": []
    },
    {
     "cell_type": "code",
     "collapsed": false,
     "input": [
      "# apendx = []\n",
      "d = []\n",
      "for i in d1['items']:\n",
      "    for k in d2:\n",
      "        try:\n",
      "            if i['login'] == k:\n",
      "#                 print k\n",
      "                d.append(d2[k])\n",
      "#                 apendx.append(k)\n",
      "        except Exception,e:\n",
      "            pass\n",
      "# print len(apendx)"
     ],
     "language": "python",
     "metadata": {},
     "outputs": []
    },
    {
     "cell_type": "code",
     "collapsed": false,
     "input": [
      "filename = \"userMoreInfo.json\"\n",
      "json.dump(d, open(filename, 'w'))"
     ],
     "language": "python",
     "metadata": {},
     "outputs": []
    },
    {
     "cell_type": "code",
     "collapsed": false,
     "input": [
      "print d[111]['avatar_url']"
     ],
     "language": "python",
     "metadata": {},
     "outputs": []
    },
    {
     "cell_type": "code",
     "collapsed": false,
     "input": [
      "#\u83b7\u53d6\u7528\u6237\u5934\u50cf\u56fe\u7247\u5e76\u4fdd\u5b58\n",
      "import os\n",
      "import urllib2\n",
      "def getImage(filePath,addr):\n",
      "\ttry:\n",
      "\t\tsplitPath = addr.split('/')\n",
      "\t\tfName = splitPath.pop()\n",
      "# \t\tprint fName\n",
      "\t\t\n",
      "\t\topen(filePath+fName, \"wb\").write(urllib2.urlopen(addr).read())\n",
      "\texcept Exception,e:\n",
      "\t\tprint \"[Error]Cant't download: %s:%s\" %(fName,e)"
     ],
     "language": "python",
     "metadata": {},
     "outputs": []
    },
    {
     "cell_type": "code",
     "collapsed": false,
     "input": [
      "#\u52a0\u8f7d\u672c\u5730\u7528\u6237\u6570\u636e\n",
      "with open(\"userMoreInfo.json\", \"r\") as f:\n",
      "    d = json.load(f)"
     ],
     "language": "python",
     "metadata": {},
     "outputs": []
    },
    {
     "cell_type": "code",
     "collapsed": false,
     "input": [
      "#\u4e0b\u8f7d\u7528\u6237\u5934\u50cf\u56fe\u7247\u7f13\u5b58\u5230\u672c\u5730\n",
      "filePath = 'userImages/'\n",
      "for i in d:\n",
      "    getImage(filePath,i['avatar_url'])"
     ],
     "language": "python",
     "metadata": {},
     "outputs": []
    },
    {
     "cell_type": "code",
     "collapsed": false,
     "input": [
      "#\u83b7\u53d6\u4e2d\u56fd\u533aC\u8bed\u8a00\u7684\u6392\u540d(\u524d\uff11\uff10\uff10\u540d)\n",
      "d = {\"items\":[]}\n",
      "url = 'https://api.github.com/search/users?sort=followers&q=location:china+language:C&per_page=100&page='\n",
      "rank_count=1\n",
      "for i in range(rank_count):\n",
      "    print url + str(i+1)\n",
      "    newUrl = url + str(i+1)\n",
      "    r = requests.get(newUrl)\n",
      "    temp = r.json()\n",
      "    d['items'].extend(temp['items'])\n",
      "filename = \"c_user.json\"\n",
      "json.dump(d, open(filename, 'w'))"
     ],
     "language": "python",
     "metadata": {},
     "outputs": [],
     "prompt_number": 23
    },
    {
     "cell_type": "code",
     "collapsed": false,
     "input": [
      "with open(\"c_user.json\", \"r\") as f:\n",
      "    d1 = json.load(f)\n",
      "ACCESS_TOKEN = 'e986ae79943cf8735d8906fd4d77182cdb3f6cd7'\n",
      "client = Github(ACCESS_TOKEN, per_page=100)\n",
      "t = {}\n",
      "notdone=[]\n",
      "j=0\n",
      "for i in d1['items']:\n",
      "    try:\n",
      "        user = client.get_user(i['login'])\n",
      "        t[user._rawData['login']] = user._rawData\n",
      "    except Exception,e:\n",
      "        print \"time out\"\n",
      "        notdone.append(i['login'])\n",
      "    if (j%11)==0:\n",
      "        print j\n",
      "    j = j + 1\n",
      "filename = \"c_userinfo.json\"\n",
      "json.dump(t, open(filename, 'w'))"
     ],
     "language": "python",
     "metadata": {},
     "outputs": []
    },
    {
     "cell_type": "code",
     "collapsed": false,
     "input": [
      "with open(\"c_userinfo.json\", \"r\") as f:\n",
      "    d2 = json.load(f)\n",
      "with open(\"c_user.json\", \"r\") as f:\n",
      "    d1 = json.load(f)\n",
      "d = []\n",
      "for i in d1['items']:\n",
      "    for k in d2:\n",
      "        try:\n",
      "            if i['login'] == k:\n",
      "#                 print k\n",
      "                d.append(d2[k])\n",
      "#                 apendx.append(k)\n",
      "        except Exception,e:\n",
      "            pass\n",
      "filename = \"c_userMoreInfo.json\"\n",
      "json.dump(d, open(filename, 'w'))\n",
      "#\u9700\u8981\u5b8c\u6210\u5934\u50cf\u7f13\u5b58\uff0c\u4f46\u662f\u4e2d\u56fd\u533a\u7684\u6392\u540d\u5927\u90e8\u5206\u5df2\u7ecf\u5305\u62ec\u4e86"
     ],
     "language": "python",
     "metadata": {},
     "outputs": []
    },
    {
     "cell_type": "code",
     "collapsed": true,
     "input": [
      "#\u83b7\u53d6\u4e2d\u56fd\u533aPython\u8bed\u8a00\u7684\u6392\u540d(\u524d\uff11\uff10\uff10\u540d)\n",
      "d = {\"items\":[]}\n",
      "url = 'https://api.github.com/search/users?sort=followers&q=location:china+language:python&per_page=100&page='\n",
      "rank_count=1\n",
      "filename = \"py_user.json\"\n",
      "filename1 = \"py_userinfo.json\"\n",
      "filename2 = \"py_userMoreInfo.json\"\n",
      "\n",
      "#\u83b7\u53d6\u6392\u540d\n",
      "for i in range(rank_count):\n",
      "    print url + str(i+1)\n",
      "    newUrl = url + str(i+1)\n",
      "    r = requests.get(newUrl)\n",
      "    temp = r.json()\n",
      "    d['items'].extend(temp['items'])\n",
      "\n",
      "json.dump(d, open(filename, 'w'))\n",
      "print 'finish rank user'\n",
      "\n",
      "#\u83b7\u53d6\u7528\u6237\u8be6\u7ec6\u4fe1\u606f\n",
      "with open(filename, \"r\") as f:\n",
      "    d1 = json.load(f)\n",
      "ACCESS_TOKEN = '0d1c6d6da836bc28b691f87dd34a1fbdc604c895'\n",
      "client = Github(ACCESS_TOKEN, per_page=100)\n",
      "t = {}\n",
      "notdone=[]\n",
      "j=0\n",
      "for i in d1['items']:\n",
      "    try:\n",
      "        user = client.get_user(i['login'])\n",
      "        t[user._rawData['login']] = user._rawData\n",
      "    except Exception,e:\n",
      "        print \"time out\"\n",
      "        notdone.append(i['login'])\n",
      "    if (j%11)==0:\n",
      "        print j\n",
      "    j = j + 1\n",
      "\n",
      "json.dump(t, open(filename1, 'w'))\n",
      "print 'finish user info'\n",
      "\n",
      "#\u91cd\u65b0\u6392\u5e8f\n",
      "with open(filename1, \"r\") as f:\n",
      "    d2 = json.load(f)\n",
      "with open(filename, \"r\") as f:\n",
      "    d1 = json.load(f)\n",
      "\n",
      "d = []\n",
      "for i in d1['items']:\n",
      "    for k in d2:\n",
      "        try:\n",
      "            if i['login'] == k:\n",
      "#                 print k\n",
      "                d.append(d2[k])\n",
      "#                 apendx.append(k)\n",
      "        except Exception,e:\n",
      "            pass\n",
      "\n",
      "json.dump(d, open(filename2, 'w'))\n",
      "print 'DONE'"
     ],
     "language": "python",
     "metadata": {},
     "outputs": [
      {
       "output_type": "stream",
       "stream": "stdout",
       "text": [
        "https://api.github.com/search/users?sort=followers&q=location:china+language:python&per_page=100&page=1\n",
        "finish rank user"
       ]
      },
      {
       "output_type": "stream",
       "stream": "stdout",
       "text": [
        "\n",
        "0"
       ]
      },
      {
       "output_type": "stream",
       "stream": "stdout",
       "text": [
        "\n",
        "11"
       ]
      },
      {
       "output_type": "stream",
       "stream": "stdout",
       "text": [
        "\n",
        "22"
       ]
      },
      {
       "output_type": "stream",
       "stream": "stdout",
       "text": [
        "\n",
        "33"
       ]
      },
      {
       "output_type": "stream",
       "stream": "stdout",
       "text": [
        "\n",
        "44"
       ]
      },
      {
       "output_type": "stream",
       "stream": "stdout",
       "text": [
        "\n",
        "55"
       ]
      },
      {
       "output_type": "stream",
       "stream": "stdout",
       "text": [
        "\n",
        "66"
       ]
      },
      {
       "output_type": "stream",
       "stream": "stdout",
       "text": [
        "\n",
        "77"
       ]
      },
      {
       "output_type": "stream",
       "stream": "stdout",
       "text": [
        "\n",
        "88"
       ]
      },
      {
       "output_type": "stream",
       "stream": "stdout",
       "text": [
        "\n",
        "time out"
       ]
      },
      {
       "output_type": "stream",
       "stream": "stdout",
       "text": [
        "\n",
        "99"
       ]
      },
      {
       "output_type": "stream",
       "stream": "stdout",
       "text": [
        "\n",
        "finish user info\n",
        "DONE"
       ]
      },
      {
       "output_type": "stream",
       "stream": "stdout",
       "text": [
        "\n"
       ]
      }
     ],
     "prompt_number": 3
    },
    {
     "cell_type": "code",
     "collapsed": false,
     "input": [
      "#search\u3000\n",
      "d = {\"items\":[]}\n",
      "url = 'https://api.github.com/search/users?sort=followers&q=location:china+language:python&per_page=100&page='\n",
      "rank_count=1\n",
      "\n",
      "#\u83b7\u53d6\u6392\u540d\n",
      "for i in range(rank_count):\n",
      "    print url + str(i+1)\n",
      "    newUrl = url + str(i+1)\n",
      "    r = requests.get(newUrl)\n",
      "    temp = r.json()\n",
      "    d['items'].extend(temp['items'])\n",
      "\n",
      "print 'finish rank user'\n",
      "\n",
      "#\u83b7\u53d6\u7528\u6237\u8be6\u7ec6\u4fe1\u606f\n",
      "username = 'ch710798472'\n",
      "password = 'Mm456123'\n",
      "ACCESS_TOKEN = '0d1c6d6da836bc28b691f87dd34a1fbdc604c895'\n",
      "client = Github(username,password=password, per_page=100)\n",
      "t = {}\n",
      "notdone=[]\n",
      "j=0\n",
      "for i in d['items']:\n",
      "    try:\n",
      "        user = client.get_user(i['login'])\n",
      "        t[user._rawData['login']] = user._rawData\n",
      "    except Exception,e:\n",
      "        print \"time out\"\n",
      "        notdone.append(i['login'])\n",
      "    if (j%10)==0:\n",
      "        print j\n",
      "    j = j + 1\n",
      "\n",
      "print 'finish user info'\n",
      "\n",
      "#\u91cd\u65b0\u6392\u5e8f\n",
      "\n",
      "d1 = []#\u6700\u540e\u7684\u7ed3\u679c\u5b58\u50a8\n",
      "for i in d['items']:\n",
      "    for k in t:\n",
      "        try:\n",
      "            if i['login'] == k:\n",
      "#                 print k\n",
      "                d1.append(t[k])\n",
      "#                 apendx.append(k)\n",
      "        except Exception,e:\n",
      "            pass\n",
      "\n",
      "print 'DONE'"
     ],
     "language": "python",
     "metadata": {},
     "outputs": [
      {
       "output_type": "stream",
       "stream": "stdout",
       "text": [
        "https://api.github.com/search/users?sort=followers&q=location:china+language:python&per_page=100&page=1\n",
        "finish rank user"
       ]
      },
      {
       "output_type": "stream",
       "stream": "stdout",
       "text": [
        "\n",
        "0"
       ]
      },
      {
       "output_type": "stream",
       "stream": "stdout",
       "text": [
        "\n",
        "11"
       ]
      },
      {
       "output_type": "stream",
       "stream": "stdout",
       "text": [
        "\n",
        "22"
       ]
      },
      {
       "output_type": "stream",
       "stream": "stdout",
       "text": [
        "\n",
        "33"
       ]
      },
      {
       "output_type": "stream",
       "stream": "stdout",
       "text": [
        "\n",
        "44"
       ]
      },
      {
       "output_type": "stream",
       "stream": "stdout",
       "text": [
        "\n",
        "55"
       ]
      },
      {
       "output_type": "stream",
       "stream": "stdout",
       "text": [
        "\n",
        "66"
       ]
      },
      {
       "output_type": "stream",
       "stream": "stdout",
       "text": [
        "\n",
        "77"
       ]
      },
      {
       "output_type": "stream",
       "stream": "stdout",
       "text": [
        "\n",
        "88"
       ]
      },
      {
       "output_type": "stream",
       "stream": "stdout",
       "text": [
        "\n",
        "99"
       ]
      },
      {
       "output_type": "stream",
       "stream": "stdout",
       "text": [
        "\n",
        "finish user info\n",
        "DONE\n"
       ]
      }
     ],
     "prompt_number": 3
    },
    {
     "cell_type": "code",
     "collapsed": false,
     "input": [
      "print d1"
     ],
     "language": "python",
     "metadata": {},
     "outputs": [
      {
       "output_type": "stream",
       "stream": "stdout",
       "text": [
        "[{u'public_repos': 46, u'site_admin': False, u'subscriptions_url': u'https://api.github.com/users/michaelliao/subscriptions', u'gravatar_id': u'', u'hireable': None, u'id': 470058, u'followers_url': u'https://api.github.com/users/michaelliao/followers', u'following_url': u'https://api.github.com/users/michaelliao/following{/other_user}', u'blog': u'http://www.liaoxuefeng.com', u'followers': 5099, u'location': u'Beijing, China', u'type': u'User', u'email': u'askxuefeng@gmail.com', u'bio': None, u'gists_url': u'https://api.github.com/users/michaelliao/gists{/gist_id}', u'company': u'www.liaoxuefeng.com', u'events_url': u'https://api.github.com/users/michaelliao/events{/privacy}', u'html_url': u'https://github.com/michaelliao', u'updated_at': u'2016-02-12T11:02:49Z', u'received_events_url': u'https://api.github.com/users/michaelliao/received_events', u'starred_url': u'https://api.github.com/users/michaelliao/starred{/owner}{/repo}', u'public_gists': 0, u'name': u'Michael Liao', u'organizations_url': u'https://api.github.com/users/michaelliao/orgs', u'url': u'https://api.github.com/users/michaelliao', u'created_at': u'2010-11-06T12:21:35Z', u'avatar_url': u'https://avatars.githubusercontent.com/u/470058?v=3', u'repos_url': u'https://api.github.com/users/michaelliao/repos', u'following': 0, u'login': u'michaelliao'}, {u'public_repos': 26, u'site_admin': False, u'subscriptions_url': u'https://api.github.com/users/kevinzhow/subscriptions', u'gravatar_id': u'', u'hireable': None, u'id': 1156192, u'followers_url': u'https://api.github.com/users/kevinzhow/followers', u'following_url': u'https://api.github.com/users/kevinzhow/following{/other_user}', u'blog': u'http://blog.zhowkev.in', u'followers': 1951, u'location': u'Guangzhou, China', u'type': u'User', u'email': u'kevinchou.c@gmail.com', u'bio': None, u'gists_url': u'https://api.github.com/users/kevinzhow/gists{/gist_id}', u'company': u'Catch Inc', u'events_url': u'https://api.github.com/users/kevinzhow/events{/privacy}', u'html_url': u'https://github.com/kevinzhow', u'updated_at': u'2016-02-17T03:57:49Z', u'received_events_url': u'https://api.github.com/users/kevinzhow/received_events', u'starred_url': u'https://api.github.com/users/kevinzhow/starred{/owner}{/repo}', u'public_gists': 18, u'name': u'Kevin', u'organizations_url': u'https://api.github.com/users/kevinzhow/orgs', u'url': u'https://api.github.com/users/kevinzhow', u'created_at': u'2011-10-27T17:26:44Z', u'avatar_url': u'https://avatars.githubusercontent.com/u/1156192?v=3', u'repos_url': u'https://api.github.com/users/kevinzhow/repos', u'following': 100, u'login': u'kevinzhow'}, {u'public_repos': 39, u'site_admin': False, u'subscriptions_url': u'https://api.github.com/users/phuslu/subscriptions', u'gravatar_id': u'', u'hireable': True, u'id': 195836, u'followers_url': u'https://api.github.com/users/phuslu/followers', u'following_url': u'https://api.github.com/users/phuslu/following{/other_user}', u'blog': u'https://phuslu.github.io', u'followers': 1574, u'location': u'Nanjing, China', u'type': u'User', u'email': u'phuslu@hotmail.com', u'bio': None, u'gists_url': u'https://api.github.com/users/phuslu/gists{/gist_id}', u'company': None, u'events_url': u'https://api.github.com/users/phuslu/events{/privacy}', u'html_url': u'https://github.com/phuslu', u'updated_at': u'2016-02-24T03:24:50Z', u'received_events_url': u'https://api.github.com/users/phuslu/received_events', u'starred_url': u'https://api.github.com/users/phuslu/starred{/owner}{/repo}', u'public_gists': 11, u'name': u'Phus Lu', u'organizations_url': u'https://api.github.com/users/phuslu/orgs', u'url': u'https://api.github.com/users/phuslu', u'created_at': u'2010-02-03T17:10:50Z', u'avatar_url': u'https://avatars.githubusercontent.com/u/195836?v=3', u'repos_url': u'https://api.github.com/users/phuslu/repos', u'following': 10, u'login': u'phuslu'}, {u'public_repos': 136, u'site_admin': False, u'subscriptions_url': u'https://api.github.com/users/alsotang/subscriptions', u'gravatar_id': u'', u'hireable': True, u'id': 1147375, u'followers_url': u'https://api.github.com/users/alsotang/followers', u'following_url': u'https://api.github.com/users/alsotang/following{/other_user}', u'blog': u'http://fxck.it/', u'followers': 1553, u'location': u'ShenZhen, China', u'type': u'User', u'email': u'alsotang@gmail.com', u'bio': None, u'gists_url': u'https://api.github.com/users/alsotang/gists{/gist_id}', u'company': u'Tencent', u'events_url': u'https://api.github.com/users/alsotang/events{/privacy}', u'html_url': u'https://github.com/alsotang', u'updated_at': u'2015-11-24T02:29:57Z', u'received_events_url': u'https://api.github.com/users/alsotang/received_events', u'starred_url': u'https://api.github.com/users/alsotang/starred{/owner}{/repo}', u'public_gists': 15, u'name': u'alsotang', u'organizations_url': u'https://api.github.com/users/alsotang/orgs', u'url': u'https://api.github.com/users/alsotang', u'created_at': u'2011-10-24T04:19:57Z', u'avatar_url': u'https://avatars.githubusercontent.com/u/1147375?v=3', u'repos_url': u'https://api.github.com/users/alsotang/repos', u'following': 64, u'login': u'alsotang'}, {u'public_repos': 31, u'site_admin': False, u'subscriptions_url': u'https://api.github.com/users/fxsjy/subscriptions', u'gravatar_id': u'', u'hireable': None, u'id': 167837, u'followers_url': u'https://api.github.com/users/fxsjy/followers', u'following_url': u'https://api.github.com/users/fxsjy/following{/other_user}', u'blog': None, u'followers': 835, u'location': u'Beijing, China', u'type': u'User', u'email': None, u'bio': None, u'gists_url': u'https://api.github.com/users/fxsjy/gists{/gist_id}', u'company': u'Baidu, Inc.', u'events_url': u'https://api.github.com/users/fxsjy/events{/privacy}', u'html_url': u'https://github.com/fxsjy', u'updated_at': u'2016-02-10T12:29:26Z', u'received_events_url': u'https://api.github.com/users/fxsjy/received_events', u'starred_url': u'https://api.github.com/users/fxsjy/starred{/owner}{/repo}', u'public_gists': 17, u'name': u'Sun Junyi', u'organizations_url': u'https://api.github.com/users/fxsjy/orgs', u'url': u'https://api.github.com/users/fxsjy', u'created_at': u'2009-12-15T10:20:45Z', u'avatar_url': u'https://avatars.githubusercontent.com/u/167837?v=3', u'repos_url': u'https://api.github.com/users/fxsjy/repos', u'following': 22, u'login': u'fxsjy'}, {u'public_repos': 78, u'site_admin': False, u'subscriptions_url': u'https://api.github.com/users/lilydjwg/subscriptions', u'gravatar_id': u'', u'hireable': None, u'id': 440661, u'followers_url': u'https://api.github.com/users/lilydjwg/followers', u'following_url': u'https://api.github.com/users/lilydjwg/following{/other_user}', u'blog': u'http://lilydjwg.is-programmer.com/', u'followers': 752, u'location': u'Beijing, China', u'type': u'User', u'email': u'lilydjwg@gmail.com', u'bio': None, u'gists_url': u'https://api.github.com/users/lilydjwg/gists{/gist_id}', u'company': None, u'events_url': u'https://api.github.com/users/lilydjwg/events{/privacy}', u'html_url': u'https://github.com/lilydjwg', u'updated_at': u'2016-02-14T02:52:35Z', u'received_events_url': u'https://api.github.com/users/lilydjwg/received_events', u'starred_url': u'https://api.github.com/users/lilydjwg/starred{/owner}{/repo}', u'public_gists': 7, u'name': u'\\u4f9d\\u4e91', u'organizations_url': u'https://api.github.com/users/lilydjwg/orgs', u'url': u'https://api.github.com/users/lilydjwg', u'created_at': u'2010-10-15T11:29:51Z', u'avatar_url': u'https://avatars.githubusercontent.com/u/440661?v=3', u'repos_url': u'https://api.github.com/users/lilydjwg/repos', u'following': 132, u'login': u'lilydjwg'}, {u'public_repos': 70, u'site_admin': False, u'subscriptions_url': u'https://api.github.com/users/tualatrix/subscriptions', u'gravatar_id': u'', u'hireable': True, u'id': 35811, u'followers_url': u'https://api.github.com/users/tualatrix/followers', u'following_url': u'https://api.github.com/users/tualatrix/following{/other_user}', u'blog': u'http://imtx.me', u'followers': 743, u'location': u'Hangzhou, China', u'type': u'User', u'email': u'tualatrix@gmail.com', u'bio': None, u'gists_url': u'https://api.github.com/users/tualatrix/gists{/gist_id}', u'company': None, u'events_url': u'https://api.github.com/users/tualatrix/events{/privacy}', u'html_url': u'https://github.com/tualatrix', u'updated_at': u'2016-02-18T13:26:18Z', u'received_events_url': u'https://api.github.com/users/tualatrix/received_events', u'starred_url': u'https://api.github.com/users/tualatrix/starred{/owner}{/repo}', u'public_gists': 5, u'name': u'Tualatrix Chou', u'organizations_url': u'https://api.github.com/users/tualatrix/orgs', u'url': u'https://api.github.com/users/tualatrix', u'created_at': u'2008-11-21T09:21:32Z', u'avatar_url': u'https://avatars.githubusercontent.com/u/35811?v=3', u'repos_url': u'https://api.github.com/users/tualatrix/repos', u'following': 99, u'login': u'tualatrix'}, {u'public_repos': 30, u'site_admin': False, u'subscriptions_url': u'https://api.github.com/users/LyndonChin/subscriptions', u'gravatar_id': u'', u'hireable': None, u'id': 6782576, u'followers_url': u'https://api.github.com/users/LyndonChin/followers', u'following_url': u'https://api.github.com/users/LyndonChin/following{/other_user}', u'blog': u'http://www.liangfeizc.com', u'followers': 618, u'location': u'Hangzhou, Zhejiang, China', u'type': u'User', u'email': u'njliangfei@gmail.com', u'bio': None, u'gists_url': u'https://api.github.com/users/LyndonChin/gists{/gist_id}', u'company': u'Alibaba', u'events_url': u'https://api.github.com/users/LyndonChin/events{/privacy}', u'html_url': u'https://github.com/LyndonChin', u'updated_at': u'2016-01-18T11:19:11Z', u'received_events_url': u'https://api.github.com/users/LyndonChin/received_events', u'starred_url': u'https://api.github.com/users/LyndonChin/starred{/owner}{/repo}', u'public_gists': 1, u'name': u'liangfei', u'organizations_url': u'https://api.github.com/users/LyndonChin/orgs', u'url': u'https://api.github.com/users/LyndonChin', u'created_at': u'2014-02-25T13:09:17Z', u'avatar_url': u'https://avatars.githubusercontent.com/u/6782576?v=3', u'repos_url': u'https://api.github.com/users/LyndonChin/repos', u'following': 45, u'login': u'LyndonChin'}, {u'public_repos': 48, u'site_admin': False, u'subscriptions_url': u'https://api.github.com/users/hongqn/subscriptions', u'gravatar_id': u'', u'hireable': None, u'id': 405587, u'followers_url': u'https://api.github.com/users/hongqn/followers', u'following_url': u'https://api.github.com/users/hongqn/following{/other_user}', u'blog': u'http://www.douban.com/people/hongqn/', u'followers': 612, u'location': u'Beijing, China', u'type': u'User', u'email': u'hongqn@gmail.com', u'bio': None, u'gists_url': u'https://api.github.com/users/hongqn/gists{/gist_id}', u'company': None, u'events_url': u'https://api.github.com/users/hongqn/events{/privacy}', u'html_url': u'https://github.com/hongqn', u'updated_at': u'2016-02-02T08:25:07Z', u'received_events_url': u'https://api.github.com/users/hongqn/received_events', u'starred_url': u'https://api.github.com/users/hongqn/starred{/owner}{/repo}', u'public_gists': 12, u'name': u'Qiangning Hong', u'organizations_url': u'https://api.github.com/users/hongqn/orgs', u'url': u'https://api.github.com/users/hongqn', u'created_at': u'2010-09-18T05:00:49Z', u'avatar_url': u'https://avatars.githubusercontent.com/u/405587?v=3', u'repos_url': u'https://api.github.com/users/hongqn/repos', u'following': 10, u'login': u'hongqn'}, {u'public_repos': 30, u'site_admin': False, u'subscriptions_url': u'https://api.github.com/users/wklken/subscriptions', u'gravatar_id': u'', u'hireable': True, u'id': 2002216, u'followers_url': u'https://api.github.com/users/wklken/followers', u'following_url': u'https://api.github.com/users/wklken/following{/other_user}', u'blog': u'http://wklken.me/', u'followers': 521, u'location': u'ShenZhen China', u'type': u'User', u'email': u'wklken@yeah.net', u'bio': None, u'gists_url': u'https://api.github.com/users/wklken/gists{/gist_id}', u'company': None, u'events_url': u'https://api.github.com/users/wklken/events{/privacy}', u'html_url': u'https://github.com/wklken', u'updated_at': u'2015-12-29T16:06:18Z', u'received_events_url': u'https://api.github.com/users/wklken/received_events', u'starred_url': u'https://api.github.com/users/wklken/starred{/owner}{/repo}', u'public_gists': 3, u'name': u'wklken', u'organizations_url': u'https://api.github.com/users/wklken/orgs', u'url': u'https://api.github.com/users/wklken', u'created_at': u'2012-07-19T02:04:50Z', u'avatar_url': u'https://avatars.githubusercontent.com/u/2002216?v=3', u'repos_url': u'https://api.github.com/users/wklken/repos', u'following': 14, u'login': u'wklken'}, {u'public_repos': 88, u'site_admin': False, u'subscriptions_url': u'https://api.github.com/users/ZoomQuiet/subscriptions', u'gravatar_id': u'', u'hireable': True, u'id': 22494, u'followers_url': u'https://api.github.com/users/ZoomQuiet/followers', u'following_url': u'https://api.github.com/users/ZoomQuiet/following{/other_user}', u'blog': u'http://about.me/zoom.quiet', u'followers': 519, u'location': u'ZhuHai,China,Earth', u'type': u'User', u'email': u'zoomquiet+git@gmail.com', u'bio': None, u'gists_url': u'https://api.github.com/users/ZoomQuiet/gists{/gist_id}', u'company': u'ijinshan.com', u'events_url': u'https://api.github.com/users/ZoomQuiet/events{/privacy}', u'html_url': u'https://github.com/ZoomQuiet', u'updated_at': u'2016-02-20T09:14:41Z', u'received_events_url': u'https://api.github.com/users/ZoomQuiet/received_events', u'starred_url': u'https://api.github.com/users/ZoomQuiet/starred{/owner}{/repo}', u'public_gists': 26, u'name': u'Zoom.Quiet', u'organizations_url': u'https://api.github.com/users/ZoomQuiet/orgs', u'url': u'https://api.github.com/users/ZoomQuiet', u'created_at': u'2008-08-29T16:20:03Z', u'avatar_url': u'https://avatars.githubusercontent.com/u/22494?v=3', u'repos_url': u'https://api.github.com/users/ZoomQuiet/repos', u'following': 128, u'login': u'ZoomQuiet'}, {u'public_repos': 94, u'site_admin': False, u'subscriptions_url': u'https://api.github.com/users/andelf/subscriptions', u'gravatar_id': u'', u'hireable': True, u'id': 72891, u'followers_url': u'https://api.github.com/users/andelf/followers', u'following_url': u'https://api.github.com/users/andelf/following{/other_user}', u'blog': u'http://twitter.com/andelf', u'followers': 513, u'location': u'Beijing, China', u'type': u'User', u'email': u'andelf@gmail.com', u'bio': None, u'gists_url': u'https://api.github.com/users/andelf/gists{/gist_id}', u'company': None, u'events_url': u'https://api.github.com/users/andelf/events{/privacy}', u'html_url': u'https://github.com/andelf', u'updated_at': u'2016-02-07T20:21:54Z', u'received_events_url': u'https://api.github.com/users/andelf/received_events', u'starred_url': u'https://api.github.com/users/andelf/starred{/owner}{/repo}', u'public_gists': 25, u'name': u'ShuYu Wang', u'organizations_url': u'https://api.github.com/users/andelf/orgs', u'url': u'https://api.github.com/users/andelf', u'created_at': u'2009-04-12T03:10:26Z', u'avatar_url': u'https://avatars.githubusercontent.com/u/72891?v=3', u'repos_url': u'https://api.github.com/users/andelf/repos', u'following': 34, u'login': u'andelf'}, {u'public_repos': 18, u'site_admin': False, u'subscriptions_url': u'https://api.github.com/users/jiangxin/subscriptions', u'gravatar_id': u'', u'hireable': None, u'id': 183860, u'followers_url': u'https://api.github.com/users/jiangxin/followers', u'following_url': u'https://api.github.com/users/jiangxin/following{/other_user}', u'blog': u'http://www.worldhello.net/', u'followers': 483, u'location': u'Beijing, China', u'type': u'User', u'email': u'worldhello.net@gmail.com', u'bio': None, u'gists_url': u'https://api.github.com/users/jiangxin/gists{/gist_id}', u'company': u'http://www.ossxp.com/', u'events_url': u'https://api.github.com/users/jiangxin/events{/privacy}', u'html_url': u'https://github.com/jiangxin', u'updated_at': u'2016-02-07T17:58:54Z', u'received_events_url': u'https://api.github.com/users/jiangxin/received_events', u'starred_url': u'https://api.github.com/users/jiangxin/starred{/owner}{/repo}', u'public_gists': 4, u'name': u'Jiang Xin', u'organizations_url': u'https://api.github.com/users/jiangxin/orgs', u'url': u'https://api.github.com/users/jiangxin', u'created_at': u'2010-01-17T03:09:51Z', u'avatar_url': u'https://avatars.githubusercontent.com/u/183860?v=3', u'repos_url': u'https://api.github.com/users/jiangxin/repos', u'following': 5, u'login': u'jiangxin'}, {u'public_repos': 80, u'site_admin': False, u'subscriptions_url': u'https://api.github.com/users/siddontang/subscriptions', u'gravatar_id': u'', u'hireable': True, u'id': 1080370, u'followers_url': u'https://api.github.com/users/siddontang/followers', u'following_url': u'https://api.github.com/users/siddontang/following{/other_user}', u'blog': u'http://siddontang.com', u'followers': 479, u'location': u'China', u'type': u'User', u'email': u'siddontang@gmail.com', u'bio': None, u'gists_url': u'https://api.github.com/users/siddontang/gists{/gist_id}', u'company': u'PingCAP', u'events_url': u'https://api.github.com/users/siddontang/events{/privacy}', u'html_url': u'https://github.com/siddontang', u'updated_at': u'2016-02-20T02:23:29Z', u'received_events_url': u'https://api.github.com/users/siddontang/received_events', u'starred_url': u'https://api.github.com/users/siddontang/starred{/owner}{/repo}', u'public_gists': 19, u'name': u'siddontang', u'organizations_url': u'https://api.github.com/users/siddontang/orgs', u'url': u'https://api.github.com/users/siddontang', u'created_at': u'2011-09-26T11:23:58Z', u'avatar_url': u'https://avatars.githubusercontent.com/u/1080370?v=3', u'repos_url': u'https://api.github.com/users/siddontang/repos', u'following': 0, u'login': u'siddontang'}, {u'public_repos': 91, u'site_admin': False, u'subscriptions_url': u'https://api.github.com/users/hit9/subscriptions', u'gravatar_id': u'', u'hireable': None, u'id': 1687443, u'followers_url': u'https://api.github.com/users/hit9/followers', u'following_url': u'https://api.github.com/users/hit9/following{/other_user}', u'blog': u'http://hit9.github.io', u'followers': 477, u'location': u'ShangHai, China', u'type': u'User', u'email': u'hit9@icloud.com', u'bio': None, u'gists_url': u'https://api.github.com/users/hit9/gists{/gist_id}', u'company': u'Eleme, Inc.', u'events_url': u'https://api.github.com/users/hit9/events{/privacy}', u'html_url': u'https://github.com/hit9', u'updated_at': u'2016-02-13T03:35:46Z', u'received_events_url': u'https://api.github.com/users/hit9/received_events', u'starred_url': u'https://api.github.com/users/hit9/starred{/owner}{/repo}', u'public_gists': 25, u'name': u'Chao Wang', u'organizations_url': u'https://api.github.com/users/hit9/orgs', u'url': u'https://api.github.com/users/hit9', u'created_at': u'2012-04-28T08:04:22Z', u'avatar_url': u'https://avatars.githubusercontent.com/u/1687443?v=3', u'repos_url': u'https://api.github.com/users/hit9/repos', u'following': 105, u'login': u'hit9'}, {u'public_repos': 11, u'site_admin': False, u'subscriptions_url': u'https://api.github.com/users/Yixiaohan/subscriptions', u'gravatar_id': u'', u'hireable': True, u'id': 1506425, u'followers_url': u'https://api.github.com/users/Yixiaohan/followers', u'following_url': u'https://api.github.com/users/Yixiaohan/following{/other_user}', u'blog': None, u'followers': 469, u'location': u'China,Beijing', u'type': u'User', u'email': u'shijiangge@gmail.com', u'bio': None, u'gists_url': u'https://api.github.com/users/Yixiaohan/gists{/gist_id}', u'company': None, u'events_url': u'https://api.github.com/users/Yixiaohan/events{/privacy}', u'html_url': u'https://github.com/Yixiaohan', u'updated_at': u'2016-02-15T02:28:58Z', u'received_events_url': u'https://api.github.com/users/Yixiaohan/received_events', u'starred_url': u'https://api.github.com/users/Yixiaohan/starred{/owner}{/repo}', u'public_gists': 0, u'name': u'\\u6613\\u67ad\\u5bd2', u'organizations_url': u'https://api.github.com/users/Yixiaohan/orgs', u'url': u'https://api.github.com/users/Yixiaohan', u'created_at': u'2012-03-06T10:20:17Z', u'avatar_url': u'https://avatars.githubusercontent.com/u/1506425?v=3', u'repos_url': u'https://api.github.com/users/Yixiaohan/repos', u'following': 31, u'login': u'Yixiaohan'}, {u'public_repos': 39, u'site_admin': False, u'subscriptions_url': u'https://api.github.com/users/isnowfy/subscriptions', u'gravatar_id': u'', u'hireable': None, u'id': 596274, u'followers_url': u'https://api.github.com/users/isnowfy/followers', u'following_url': u'https://api.github.com/users/isnowfy/following{/other_user}', u'blog': u'www.isnowfy.com', u'followers': 459, u'location': u'China', u'type': u'User', u'email': None, u'bio': None, u'gists_url': u'https://api.github.com/users/isnowfy/gists{/gist_id}', u'company': None, u'events_url': u'https://api.github.com/users/isnowfy/events{/privacy}', u'html_url': u'https://github.com/isnowfy', u'updated_at': u'2016-01-29T06:03:38Z', u'received_events_url': u'https://api.github.com/users/isnowfy/received_events', u'starred_url': u'https://api.github.com/users/isnowfy/starred{/owner}{/repo}', u'public_gists': 4, u'name': u'Rui Wang', u'organizations_url': u'https://api.github.com/users/isnowfy/orgs', u'url': u'https://api.github.com/users/isnowfy', u'created_at': u'2011-02-02T06:42:50Z', u'avatar_url': u'https://avatars.githubusercontent.com/u/596274?v=3', u'repos_url': u'https://api.github.com/users/isnowfy/repos', u'following': 55, u'login': u'isnowfy'}, {u'public_repos': 64, u'site_admin': False, u'subscriptions_url': u'https://api.github.com/users/yanyiwu/subscriptions', u'gravatar_id': u'', u'hireable': None, u'id': 2162645, u'followers_url': u'https://api.github.com/users/yanyiwu/followers', u'following_url': u'https://api.github.com/users/yanyiwu/following{/other_user}', u'blog': u'http://yanyiwu.com', u'followers': 443, u'location': u'Beijing,China', u'type': u'User', u'email': u'i@yanyiwu.com', u'bio': None, u'gists_url': u'https://api.github.com/users/yanyiwu/gists{/gist_id}', u'company': None, u'events_url': u'https://api.github.com/users/yanyiwu/events{/privacy}', u'html_url': u'https://github.com/yanyiwu', u'updated_at': u'2016-02-17T02:47:14Z', u'received_events_url': u'https://api.github.com/users/yanyiwu/received_events', u'starred_url': u'https://api.github.com/users/yanyiwu/starred{/owner}{/repo}', u'public_gists': 1, u'name': u'Yanyi Wu', u'organizations_url': u'https://api.github.com/users/yanyiwu/orgs', u'url': u'https://api.github.com/users/yanyiwu', u'created_at': u'2012-08-16T11:10:24Z', u'avatar_url': u'https://avatars.githubusercontent.com/u/2162645?v=3', u'repos_url': u'https://api.github.com/users/yanyiwu/repos', u'following': 24, u'login': u'yanyiwu'}, {u'public_repos': 158, u'site_admin': False, u'subscriptions_url': u'https://api.github.com/users/gnemoug/subscriptions', u'gravatar_id': u'', u'hireable': True, u'id': 1902153, u'followers_url': u'https://api.github.com/users/gnemoug/followers', u'following_url': u'https://api.github.com/users/gnemoug/following{/other_user}', u'blog': None, u'followers': 428, u'location': u'beijing, china', u'type': u'User', u'email': u'gnemoug@gmail.com', u'bio': None, u'gists_url': u'https://api.github.com/users/gnemoug/gists{/gist_id}', u'company': u'\\u90ed\\u731b', u'events_url': u'https://api.github.com/users/gnemoug/events{/privacy}', u'html_url': u'https://github.com/gnemoug', u'updated_at': u'2016-02-01T06:19:17Z', u'received_events_url': u'https://api.github.com/users/gnemoug/received_events', u'starred_url': u'https://api.github.com/users/gnemoug/starred{/owner}{/repo}', u'public_gists': 4, u'name': u'\\u90ed\\u731b', u'organizations_url': u'https://api.github.com/users/gnemoug/orgs', u'url': u'https://api.github.com/users/gnemoug', u'created_at': u'2012-06-28T11:41:30Z', u'avatar_url': u'https://avatars.githubusercontent.com/u/1902153?v=3', u'repos_url': u'https://api.github.com/users/gnemoug/repos', u'following': 187, u'login': u'gnemoug'}, {u'public_repos': 45, u'site_admin': False, u'subscriptions_url': u'https://api.github.com/users/qingfeng/subscriptions', u'gravatar_id': u'', u'hireable': True, u'id': 18495, u'followers_url': u'https://api.github.com/users/qingfeng/followers', u'following_url': u'https://api.github.com/users/qingfeng/following{/other_user}', u'blog': u'http://qingfeng.github.com/', u'followers': 420, u'location': u'China Beijing', u'type': u'User', u'email': u'qingfenghello@gmail.com', u'bio': None, u'gists_url': u'https://api.github.com/users/qingfeng/gists{/gist_id}', u'company': u'QingFengCloud', u'events_url': u'https://api.github.com/users/qingfeng/events{/privacy}', u'html_url': u'https://github.com/qingfeng', u'updated_at': u'2016-01-04T14:21:25Z', u'received_events_url': u'https://api.github.com/users/qingfeng/received_events', u'starred_url': u'https://api.github.com/users/qingfeng/starred{/owner}{/repo}', u'public_gists': 84, u'name': u'QingFeng', u'organizations_url': u'https://api.github.com/users/qingfeng/orgs', u'url': u'https://api.github.com/users/qingfeng', u'created_at': u'2008-07-26T16:18:56Z', u'avatar_url': u'https://avatars.githubusercontent.com/u/18495?v=3', u'repos_url': u'https://api.github.com/users/qingfeng/repos', u'following': 74, u'login': u'qingfeng'}, {u'public_repos': 48, u'site_admin': False, u'subscriptions_url': u'https://api.github.com/users/liancheng/subscriptions', u'gravatar_id': u'', u'hireable': None, u'id': 230655, u'followers_url': u'https://api.github.com/users/liancheng/followers', u'following_url': u'https://api.github.com/users/liancheng/following{/other_user}', u'blog': u'https://www.linkedin.com/in/liancheng', u'followers': 417, u'location': u'Beijing, China', u'type': u'User', u'email': u'lian.cs.zju@gmail.com', u'bio': None, u'gists_url': u'https://api.github.com/users/liancheng/gists{/gist_id}', u'company': u'Databricks', u'events_url': u'https://api.github.com/users/liancheng/events{/privacy}', u'html_url': u'https://github.com/liancheng', u'updated_at': u'2016-02-05T01:08:01Z', u'received_events_url': u'https://api.github.com/users/liancheng/received_events', u'starred_url': u'https://api.github.com/users/liancheng/starred{/owner}{/repo}', u'public_gists': 30, u'name': u'Cheng Lian', u'organizations_url': u'https://api.github.com/users/liancheng/orgs', u'url': u'https://api.github.com/users/liancheng', u'created_at': u'2010-03-26T02:12:19Z', u'avatar_url': u'https://avatars.githubusercontent.com/u/230655?v=3', u'repos_url': u'https://api.github.com/users/liancheng/repos', u'following': 11, u'login': u'liancheng'}, {u'public_repos': 20, u'site_admin': False, u'subscriptions_url': u'https://api.github.com/users/humiaozuzu/subscriptions', u'gravatar_id': u'', u'hireable': None, u'id': 300016, u'followers_url': u'https://api.github.com/users/humiaozuzu/followers', u'following_url': u'https://api.github.com/users/humiaozuzu/following{/other_user}', u'blog': u'http://miao.hu', u'followers': 402, u'location': u'Beijing, China', u'type': u'User', u'email': u'maplevalley8@gmail.com', u'bio': None, u'gists_url': u'https://api.github.com/users/humiaozuzu/gists{/gist_id}', u'company': None, u'events_url': u'https://api.github.com/users/humiaozuzu/events{/privacy}', u'html_url': u'https://github.com/humiaozuzu', u'updated_at': u'2016-02-22T10:59:46Z', u'received_events_url': u'https://api.github.com/users/humiaozuzu/received_events', u'starred_url': u'https://api.github.com/users/humiaozuzu/starred{/owner}{/repo}', u'public_gists': 3, u'name': u'Maple', u'organizations_url': u'https://api.github.com/users/humiaozuzu/orgs', u'url': u'https://api.github.com/users/humiaozuzu', u'created_at': u'2010-06-08T15:53:44Z', u'avatar_url': u'https://avatars.githubusercontent.com/u/300016?v=3', u'repos_url': u'https://api.github.com/users/humiaozuzu/repos', u'following': 75, u'login': u'humiaozuzu'}, {u'public_repos': 94, u'site_admin': False, u'subscriptions_url': u'https://api.github.com/users/yueyoum/subscriptions', u'gravatar_id': u'', u'hireable': True, u'id': 2081686, u'followers_url': u'https://api.github.com/users/yueyoum/followers', u'following_url': u'https://api.github.com/users/yueyoum/following{/other_user}', u'blog': u'http://yueyoum.github.io/', u'followers': 356, u'location': u'Chengdu, China', u'type': u'User', u'email': u'yueyoum@gmail.com', u'bio': None, u'gists_url': u'https://api.github.com/users/yueyoum/gists{/gist_id}', u'company': None, u'events_url': u'https://api.github.com/users/yueyoum/events{/privacy}', u'html_url': u'https://github.com/yueyoum', u'updated_at': u'2016-02-16T07:14:15Z', u'received_events_url': u'https://api.github.com/users/yueyoum/received_events', u'starred_url': u'https://api.github.com/users/yueyoum/starred{/owner}{/repo}', u'public_gists': 14, u'name': u'Wang Chao', u'organizations_url': u'https://api.github.com/users/yueyoum/orgs', u'url': u'https://api.github.com/users/yueyoum', u'created_at': u'2012-08-02T05:36:35Z', u'avatar_url': u'https://avatars.githubusercontent.com/u/2081686?v=3', u'repos_url': u'https://api.github.com/users/yueyoum/repos', u'following': 130, u'login': u'yueyoum'}, {u'public_repos': 204, u'site_admin': False, u'subscriptions_url': u'https://api.github.com/users/felixonmars/subscriptions', u'gravatar_id': u'', u'hireable': None, u'id': 1006477, u'followers_url': u'https://api.github.com/users/felixonmars/followers', u'following_url': u'https://api.github.com/users/felixonmars/following{/other_user}', u'blog': u'http://felixc.at', u'followers': 339, u'location': u'Wuhan, Hubei, China', u'type': u'User', u'email': u'felixonmars@archlinux.org', u'bio': None, u'gists_url': u'https://api.github.com/users/felixonmars/gists{/gist_id}', u'company': u'Brothers Bridge Technology', u'events_url': u'https://api.github.com/users/felixonmars/events{/privacy}', u'html_url': u'https://github.com/felixonmars', u'updated_at': u'2016-02-21T15:59:14Z', u'received_events_url': u'https://api.github.com/users/felixonmars/received_events', u'starred_url': u'https://api.github.com/users/felixonmars/starred{/owner}{/repo}', u'public_gists': 6, u'name': u'Felix Yan', u'organizations_url': u'https://api.github.com/users/felixonmars/orgs', u'url': u'https://api.github.com/users/felixonmars', u'created_at': u'2011-08-26T12:35:50Z', u'avatar_url': u'https://avatars.githubusercontent.com/u/1006477?v=3', u'repos_url': u'https://api.github.com/users/felixonmars/repos', u'following': 129, u'login': u'felixonmars'}, {u'public_repos': 71, u'site_admin': False, u'subscriptions_url': u'https://api.github.com/users/zonyitoo/subscriptions', u'gravatar_id': u'', u'hireable': True, u'id': 1067951, u'followers_url': u'https://api.github.com/users/zonyitoo/followers', u'following_url': u'https://api.github.com/users/zonyitoo/following{/other_user}', u'blog': u'https://twitter.com/zonyitoo', u'followers': 334, u'location': u'Guangzhou, Guangdong, China', u'type': u'User', u'email': u'zonyitoo@gmail.com', u'bio': None, u'gists_url': u'https://api.github.com/users/zonyitoo/gists{/gist_id}', u'company': None, u'events_url': u'https://api.github.com/users/zonyitoo/events{/privacy}', u'html_url': u'https://github.com/zonyitoo', u'updated_at': u'2016-02-23T05:17:05Z', u'received_events_url': u'https://api.github.com/users/zonyitoo/received_events', u'starred_url': u'https://api.github.com/users/zonyitoo/starred{/owner}{/repo}', u'public_gists': 8, u'name': u'Y. T. CHUNG', u'organizations_url': u'https://api.github.com/users/zonyitoo/orgs', u'url': u'https://api.github.com/users/zonyitoo', u'created_at': u'2011-09-21T13:09:32Z', u'avatar_url': u'https://avatars.githubusercontent.com/u/1067951?v=3', u'repos_url': u'https://api.github.com/users/zonyitoo/repos', u'following': 116, u'login': u'zonyitoo'}, {u'public_repos': 87, u'site_admin': False, u'subscriptions_url': u'https://api.github.com/users/PeterCxy/subscriptions', u'gravatar_id': u'', u'hireable': None, u'id': 4532423, u'followers_url': u'https://api.github.com/users/PeterCxy/followers', u'following_url': u'https://api.github.com/users/PeterCxy/following{/other_user}', u'blog': u'https://typeblog.net', u'followers': 333, u'location': u'Suzhou, China', u'type': u'User', u'email': u'xqsx43cxy@126.com', u'bio': None, u'gists_url': u'https://api.github.com/users/PeterCxy/gists{/gist_id}', u'company': None, u'events_url': u'https://api.github.com/users/PeterCxy/events{/privacy}', u'html_url': u'https://github.com/PeterCxy', u'updated_at': u'2016-02-23T20:22:03Z', u'received_events_url': u'https://api.github.com/users/PeterCxy/received_events', u'starred_url': u'https://api.github.com/users/PeterCxy/starred{/owner}{/repo}', u'public_gists': 1, u'name': u'Peter Cai', u'organizations_url': u'https://api.github.com/users/PeterCxy/orgs', u'url': u'https://api.github.com/users/PeterCxy', u'created_at': u'2013-05-26T12:01:47Z', u'avatar_url': u'https://avatars.githubusercontent.com/u/4532423?v=3', u'repos_url': u'https://api.github.com/users/PeterCxy/repos', u'following': 15, u'login': u'PeterCxy'}, {u'public_repos': 111, u'site_admin': False, u'subscriptions_url': u'https://api.github.com/users/LingyuCoder/subscriptions', u'gravatar_id': u'', u'hireable': True, u'id': 2663351, u'followers_url': u'https://api.github.com/users/LingyuCoder/followers', u'following_url': u'https://api.github.com/users/LingyuCoder/following{/other_user}', u'blog': u'http://lingyu.wang', u'followers': 283, u'location': u'China', u'type': u'User', u'email': u'lingyucoder@gmail.com', u'bio': None, u'gists_url': u'https://api.github.com/users/LingyuCoder/gists{/gist_id}', u'company': u'Tmall', u'events_url': u'https://api.github.com/users/LingyuCoder/events{/privacy}', u'html_url': u'https://github.com/LingyuCoder', u'updated_at': u'2016-02-22T02:29:24Z', u'received_events_url': u'https://api.github.com/users/LingyuCoder/received_events', u'starred_url': u'https://api.github.com/users/LingyuCoder/starred{/owner}{/repo}', u'public_gists': 4, u'name': u'\\u5929\\u9576', u'organizations_url': u'https://api.github.com/users/LingyuCoder/orgs', u'url': u'https://api.github.com/users/LingyuCoder', u'created_at': u'2012-10-27T12:05:04Z', u'avatar_url': u'https://avatars.githubusercontent.com/u/2663351?v=3', u'repos_url': u'https://api.github.com/users/LingyuCoder/repos', u'following': 149, u'login': u'LingyuCoder'}, {u'public_repos': 55, u'site_admin': False, u'subscriptions_url': u'https://api.github.com/users/RicterZ/subscriptions', u'gravatar_id': u'', u'hireable': None, u'id': 5282759, u'followers_url': u'https://api.github.com/users/RicterZ/followers', u'following_url': u'https://api.github.com/users/RicterZ/following{/other_user}', u'blog': u'http://www.ricter.me', u'followers': 270, u'location': u'Beijing, China', u'type': u'User', u'email': None, u'bio': None, u'gists_url': u'https://api.github.com/users/RicterZ/gists{/gist_id}', u'company': None, u'events_url': u'https://api.github.com/users/RicterZ/events{/privacy}', u'html_url': u'https://github.com/RicterZ', u'updated_at': u'2016-02-08T20:24:09Z', u'received_events_url': u'https://api.github.com/users/RicterZ/received_events', u'starred_url': u'https://api.github.com/users/RicterZ/starred{/owner}{/repo}', u'public_gists': 4, u'name': u'Ricter Zheng', u'organizations_url': u'https://api.github.com/users/RicterZ/orgs', u'url': u'https://api.github.com/users/RicterZ', u'created_at': u'2013-08-22T00:45:50Z', u'avatar_url': u'https://avatars.githubusercontent.com/u/5282759?v=3', u'repos_url': u'https://api.github.com/users/RicterZ/repos', u'following': 36, u'login': u'RicterZ'}, {u'public_repos': 95, u'site_admin': False, u'subscriptions_url': u'https://api.github.com/users/liruqi/subscriptions', u'gravatar_id': u'', u'hireable': True, u'id': 244492, u'followers_url': u'https://api.github.com/users/liruqi/followers', u'following_url': u'https://api.github.com/users/liruqi/following{/other_user}', u'blog': u'http://liruqi.info', u'followers': 268, u'location': u'Beijing, China', u'type': u'User', u'email': u'liruqi@gmail.com', u'bio': None, u'gists_url': u'https://api.github.com/users/liruqi/gists{/gist_id}', u'company': u'Microsoft', u'events_url': u'https://api.github.com/users/liruqi/events{/privacy}', u'html_url': u'https://github.com/liruqi', u'updated_at': u'2016-01-24T04:52:45Z', u'received_events_url': u'https://api.github.com/users/liruqi/received_events', u'starred_url': u'https://api.github.com/users/liruqi/starred{/owner}{/repo}', u'public_gists': 18, u'name': u'Ruqi', u'organizations_url': u'https://api.github.com/users/liruqi/orgs', u'url': u'https://api.github.com/users/liruqi', u'created_at': u'2010-04-15T08:55:37Z', u'avatar_url': u'https://avatars.githubusercontent.com/u/244492?v=3', u'repos_url': u'https://api.github.com/users/liruqi/repos', u'following': 137, u'login': u'liruqi'}, {u'public_repos': 39, u'site_admin': False, u'subscriptions_url': u'https://api.github.com/users/whtsky/subscriptions', u'gravatar_id': u'', u'hireable': None, u'id': 876694, u'followers_url': u'https://api.github.com/users/whtsky/followers', u'following_url': u'https://api.github.com/users/whtsky/following{/other_user}', u'blog': None, u'followers': 263, u'location': u'Jinan, China', u'type': u'User', u'email': u'whtsky@gmail.com', u'bio': None, u'gists_url': u'https://api.github.com/users/whtsky/gists{/gist_id}', u'company': None, u'events_url': u'https://api.github.com/users/whtsky/events{/privacy}', u'html_url': u'https://github.com/whtsky', u'updated_at': u'2016-01-29T15:26:47Z', u'received_events_url': u'https://api.github.com/users/whtsky/received_events', u'starred_url': u'https://api.github.com/users/whtsky/starred{/owner}{/repo}', u'public_gists': 6, u'name': u'whtsky', u'organizations_url': u'https://api.github.com/users/whtsky/orgs', u'url': u'https://api.github.com/users/whtsky', u'created_at': u'2011-06-26T12:43:40Z', u'avatar_url': u'https://avatars.githubusercontent.com/u/876694?v=3', u'repos_url': u'https://api.github.com/users/whtsky/repos', u'following': 19, u'login': u'whtsky'}, {u'public_repos': 35, u'site_admin': False, u'subscriptions_url': u'https://api.github.com/users/caesar0301/subscriptions', u'gravatar_id': u'', u'hireable': True, u'id': 499254, u'followers_url': u'https://api.github.com/users/caesar0301/followers', u'following_url': u'https://api.github.com/users/caesar0301/following{/other_user}', u'blog': u'http://xiaming.me', u'followers': 256, u'location': u'Shanghai, China', u'type': u'User', u'email': u'chen@xiaming.me', u'bio': None, u'gists_url': u'https://api.github.com/users/caesar0301/gists{/gist_id}', u'company': u'Shanghai Jiao Tong Univ.', u'events_url': u'https://api.github.com/users/caesar0301/events{/privacy}', u'html_url': u'https://github.com/caesar0301', u'updated_at': u'2016-02-15T17:33:51Z', u'received_events_url': u'https://api.github.com/users/caesar0301/received_events', u'starred_url': u'https://api.github.com/users/caesar0301/starred{/owner}{/repo}', u'public_gists': 2, u'name': u'Xiaming', u'organizations_url': u'https://api.github.com/users/caesar0301/orgs', u'url': u'https://api.github.com/users/caesar0301', u'created_at': u'2010-11-27T17:46:57Z', u'avatar_url': u'https://avatars.githubusercontent.com/u/499254?v=3', u'repos_url': u'https://api.github.com/users/caesar0301/repos', u'following': 84, u'login': u'caesar0301'}, {u'public_repos': 91, u'site_admin': False, u'subscriptions_url': u'https://api.github.com/users/tonyseek/subscriptions', u'gravatar_id': u'', u'hireable': None, u'id': 624598, u'followers_url': u'https://api.github.com/users/tonyseek/followers', u'following_url': u'https://api.github.com/users/tonyseek/following{/other_user}', u'blog': u'https://tonyseek.com', u'followers': 239, u'location': u'Beijing, China', u'type': u'User', u'email': u'tonyseek@gmail.com', u'bio': None, u'gists_url': u'https://api.github.com/users/tonyseek/gists{/gist_id}', u'company': None, u'events_url': u'https://api.github.com/users/tonyseek/events{/privacy}', u'html_url': u'https://github.com/tonyseek', u'updated_at': u'2016-01-26T15:22:35Z', u'received_events_url': u'https://api.github.com/users/tonyseek/received_events', u'starred_url': u'https://api.github.com/users/tonyseek/starred{/owner}{/repo}', u'public_gists': 47, u'name': u'Jiangge Zhang', u'organizations_url': u'https://api.github.com/users/tonyseek/orgs', u'url': u'https://api.github.com/users/tonyseek', u'created_at': u'2011-02-18T04:08:36Z', u'avatar_url': u'https://avatars.githubusercontent.com/u/624598?v=3', u'repos_url': u'https://api.github.com/users/tonyseek/repos', u'following': 174, u'login': u'tonyseek'}, {u'public_repos': 37, u'site_admin': False, u'subscriptions_url': u'https://api.github.com/users/shanzi/subscriptions', u'gravatar_id': u'', u'hireable': True, u'id': 557294, u'followers_url': u'https://api.github.com/users/shanzi/followers', u'following_url': u'https://api.github.com/users/shanzi/following{/other_user}', u'blog': u'chasezhang.me', u'followers': 235, u'location': u'shanghai, China', u'type': u'User', u'email': u'i@chasezhang.me', u'bio': None, u'gists_url': u'https://api.github.com/users/shanzi/gists{/gist_id}', u'company': u'diumoo.net', u'events_url': u'https://api.github.com/users/shanzi/events{/privacy}', u'html_url': u'https://github.com/shanzi', u'updated_at': u'2016-02-23T02:47:40Z', u'received_events_url': u'https://api.github.com/users/shanzi/received_events', u'starred_url': u'https://api.github.com/users/shanzi/starred{/owner}{/repo}', u'public_gists': 11, u'name': u'Chase Zhang', u'organizations_url': u'https://api.github.com/users/shanzi/orgs', u'url': u'https://api.github.com/users/shanzi', u'created_at': u'2011-01-11T12:00:34Z', u'avatar_url': u'https://avatars.githubusercontent.com/u/557294?v=3', u'repos_url': u'https://api.github.com/users/shanzi/repos', u'following': 144, u'login': u'shanzi'}, {u'public_repos': 16, u'site_admin': False, u'subscriptions_url': u'https://api.github.com/users/9miao/subscriptions', u'gravatar_id': u'', u'hireable': True, u'id': 5196133, u'followers_url': u'https://api.github.com/users/9miao/followers', u'following_url': u'https://api.github.com/users/9miao/following{/other_user}', u'blog': u'http://www.9miao.com', u'followers': 217, u'location': u'Beijing ,China', u'type': u'User', u'email': u'opensource@9miao.com', u'bio': None, u'gists_url': u'https://api.github.com/users/9miao/gists{/gist_id}', u'company': u'9miao Mobile Game', u'events_url': u'https://api.github.com/users/9miao/events{/privacy}', u'html_url': u'https://github.com/9miao', u'updated_at': u'2015-11-05T09:39:32Z', u'received_events_url': u'https://api.github.com/users/9miao/received_events', u'starred_url': u'https://api.github.com/users/9miao/starred{/owner}{/repo}', u'public_gists': 0, u'name': u'9miao Mobile Game', u'organizations_url': u'https://api.github.com/users/9miao/orgs', u'url': u'https://api.github.com/users/9miao', u'created_at': u'2013-08-09T09:01:24Z', u'avatar_url': u'https://avatars.githubusercontent.com/u/5196133?v=3', u'repos_url': u'https://api.github.com/users/9miao/repos', u'following': 0, u'login': u'9miao'}, {u'public_repos': 152, u'site_admin': False, u'subscriptions_url': u'https://api.github.com/users/ChenglongChen/subscriptions', u'gravatar_id': u'', u'hireable': None, u'id': 6316171, u'followers_url': u'https://api.github.com/users/ChenglongChen/followers', u'following_url': u'https://api.github.com/users/ChenglongChen/following{/other_user}', u'blog': None, u'followers': 209, u'location': u'Shenzhen, China', u'type': u'User', u'email': u'c.chenglong@gmail.com', u'bio': None, u'gists_url': u'https://api.github.com/users/ChenglongChen/gists{/gist_id}', u'company': u'Tencent', u'events_url': u'https://api.github.com/users/ChenglongChen/events{/privacy}', u'html_url': u'https://github.com/ChenglongChen', u'updated_at': u'2016-02-22T16:34:30Z', u'received_events_url': u'https://api.github.com/users/ChenglongChen/received_events', u'starred_url': u'https://api.github.com/users/ChenglongChen/starred{/owner}{/repo}', u'public_gists': 0, u'name': u'Chenglong Chen', u'organizations_url': u'https://api.github.com/users/ChenglongChen/orgs', u'url': u'https://api.github.com/users/ChenglongChen', u'created_at': u'2014-01-04T05:52:56Z', u'avatar_url': u'https://avatars.githubusercontent.com/u/6316171?v=3', u'repos_url': u'https://api.github.com/users/ChenglongChen/repos', u'following': 34, u'login': u'ChenglongChen'}, {u'public_repos': 10, u'site_admin': False, u'subscriptions_url': u'https://api.github.com/users/chen3feng/subscriptions', u'gravatar_id': u'', u'hireable': None, u'id': 1998410, u'followers_url': u'https://api.github.com/users/chen3feng/followers', u'following_url': u'https://api.github.com/users/chen3feng/following{/other_user}', u'blog': None, u'followers': 209, u'location': u'Shenzhen, China', u'type': u'User', u'email': None, u'bio': None, u'gists_url': u'https://api.github.com/users/chen3feng/gists{/gist_id}', u'company': u'Tencent', u'events_url': u'https://api.github.com/users/chen3feng/events{/privacy}', u'html_url': u'https://github.com/chen3feng', u'updated_at': u'2015-10-20T10:30:34Z', u'received_events_url': u'https://api.github.com/users/chen3feng/received_events', u'starred_url': u'https://api.github.com/users/chen3feng/starred{/owner}{/repo}', u'public_gists': 0, u'name': u'CHEN Feng', u'organizations_url': u'https://api.github.com/users/chen3feng/orgs', u'url': u'https://api.github.com/users/chen3feng', u'created_at': u'2012-07-18T12:49:36Z', u'avatar_url': u'https://avatars.githubusercontent.com/u/1998410?v=3', u'repos_url': u'https://api.github.com/users/chen3feng/repos', u'following': 0, u'login': u'chen3feng'}, {u'public_repos': 44, u'site_admin': False, u'subscriptions_url': u'https://api.github.com/users/bigeagle/subscriptions', u'gravatar_id': u'', u'hireable': True, u'id': 548512, u'followers_url': u'https://api.github.com/users/bigeagle/followers', u'following_url': u'https://api.github.com/users/bigeagle/following{/other_user}', u'blog': u'https://bigeagle.me/', u'followers': 204, u'location': u'Beijing, China', u'type': u'User', u'email': u'justin.w.xd@gmail.com', u'bio': None, u'gists_url': u'https://api.github.com/users/bigeagle/gists{/gist_id}', u'company': u'NICS lab of Tsinghua university', u'events_url': u'https://api.github.com/users/bigeagle/events{/privacy}', u'html_url': u'https://github.com/bigeagle', u'updated_at': u'2016-02-13T08:48:44Z', u'received_events_url': u'https://api.github.com/users/bigeagle/received_events', u'starred_url': u'https://api.github.com/users/bigeagle/starred{/owner}{/repo}', u'public_gists': 29, u'name': u'bigeagle', u'organizations_url': u'https://api.github.com/users/bigeagle/orgs', u'url': u'https://api.github.com/users/bigeagle', u'created_at': u'2011-01-05T11:35:32Z', u'avatar_url': u'https://avatars.githubusercontent.com/u/548512?v=3', u'repos_url': u'https://api.github.com/users/bigeagle/repos', u'following': 72, u'login': u'bigeagle'}, {u'public_repos': 78, u'site_admin': False, u'subscriptions_url': u'https://api.github.com/users/hewigovens/subscriptions', u'gravatar_id': u'', u'hireable': True, u'id': 360470, u'followers_url': u'https://api.github.com/users/hewigovens/followers', u'following_url': u'https://api.github.com/users/hewigovens/following{/other_user}', u'blog': u'https://twitter.com/hewigovens', u'followers': 204, u'location': u'China', u'type': u'User', u'email': u'hewigovens@gmail.com', u'bio': None, u'gists_url': u'https://api.github.com/users/hewigovens/gists{/gist_id}', u'company': u'Fourplex Labs', u'events_url': u'https://api.github.com/users/hewigovens/events{/privacy}', u'html_url': u'https://github.com/hewigovens', u'updated_at': u'2016-02-22T06:37:27Z', u'received_events_url': u'https://api.github.com/users/hewigovens/received_events', u'starred_url': u'https://api.github.com/users/hewigovens/starred{/owner}{/repo}', u'public_gists': 15, u'name': u'hewig xu', u'organizations_url': u'https://api.github.com/users/hewigovens/orgs', u'url': u'https://api.github.com/users/hewigovens', u'created_at': u'2010-08-11T02:57:38Z', u'avatar_url': u'https://avatars.githubusercontent.com/u/360470?v=3', u'repos_url': u'https://api.github.com/users/hewigovens/repos', u'following': 42, u'login': u'hewigovens'}, {u'public_repos': 51, u'site_admin': False, u'subscriptions_url': u'https://api.github.com/users/biergaizi/subscriptions', u'gravatar_id': u'', u'hireable': None, u'id': 1310693, u'followers_url': u'https://api.github.com/users/biergaizi/followers', u'following_url': u'https://api.github.com/users/biergaizi/following{/other_user}', u'blog': u'https://biergaizi.info', u'followers': 203, u'location': u'Beijing, China', u'type': u'User', u'email': u'biergaizi@member.fsf.org', u'bio': None, u'gists_url': u'https://api.github.com/users/biergaizi/gists{/gist_id}', u'company': None, u'events_url': u'https://api.github.com/users/biergaizi/events{/privacy}', u'html_url': u'https://github.com/biergaizi', u'updated_at': u'2016-02-22T06:24:11Z', u'received_events_url': u'https://api.github.com/users/biergaizi/received_events', u'starred_url': u'https://api.github.com/users/biergaizi/starred{/owner}{/repo}', u'public_gists': 11, u'name': u'Tom Li', u'organizations_url': u'https://api.github.com/users/biergaizi/orgs', u'url': u'https://api.github.com/users/biergaizi', u'created_at': u'2012-01-07T01:02:41Z', u'avatar_url': u'https://avatars.githubusercontent.com/u/1310693?v=3', u'repos_url': u'https://api.github.com/users/biergaizi/repos', u'following': 74, u'login': u'biergaizi'}, {u'public_repos': 33, u'site_admin': False, u'subscriptions_url': u'https://api.github.com/users/smallnest/subscriptions', u'gravatar_id': u'', u'hireable': True, u'id': 865763, u'followers_url': u'https://api.github.com/users/smallnest/followers', u'following_url': u'https://api.github.com/users/smallnest/following{/other_user}', u'blog': u'http://colobu.com', u'followers': 203, u'location': u'China', u'type': u'User', u'email': u'smallnest@gmail.com', u'bio': None, u'gists_url': u'https://api.github.com/users/smallnest/gists{/gist_id}', u'company': None, u'events_url': u'https://api.github.com/users/smallnest/events{/privacy}', u'html_url': u'https://github.com/smallnest', u'updated_at': u'2016-02-23T06:10:45Z', u'received_events_url': u'https://api.github.com/users/smallnest/received_events', u'starred_url': u'https://api.github.com/users/smallnest/starred{/owner}{/repo}', u'public_gists': 7, u'name': u'smallnest', u'organizations_url': u'https://api.github.com/users/smallnest/orgs', u'url': u'https://api.github.com/users/smallnest', u'created_at': u'2011-06-22T02:01:20Z', u'avatar_url': u'https://avatars.githubusercontent.com/u/865763?v=3', u'repos_url': u'https://api.github.com/users/smallnest/repos', u'following': 0, u'login': u'smallnest'}, {u'public_repos': 41, u'site_admin': False, u'subscriptions_url': u'https://api.github.com/users/smallfish/subscriptions', u'gravatar_id': u'', u'hireable': True, u'id': 105860, u'followers_url': u'https://api.github.com/users/smallfish/followers', u'following_url': u'https://api.github.com/users/smallfish/following{/other_user}', u'blog': u'http://chenxiaoyu.org', u'followers': 203, u'location': u'Hangzhou, China', u'type': u'User', u'email': u'smallfish.xy@gmail.com', u'bio': None, u'gists_url': u'https://api.github.com/users/smallfish/gists{/gist_id}', u'company': u'Alibaba, Alipay.com', u'events_url': u'https://api.github.com/users/smallfish/events{/privacy}', u'html_url': u'https://github.com/smallfish', u'updated_at': u'2016-02-02T09:48:12Z', u'received_events_url': u'https://api.github.com/users/smallfish/received_events', u'starred_url': u'https://api.github.com/users/smallfish/starred{/owner}{/repo}', u'public_gists': 3, u'name': u'\\u9648\\u5c0f\\u7389', u'organizations_url': u'https://api.github.com/users/smallfish/orgs', u'url': u'https://api.github.com/users/smallfish', u'created_at': u'2009-07-17T03:51:33Z', u'avatar_url': u'https://avatars.githubusercontent.com/u/105860?v=3', u'repos_url': u'https://api.github.com/users/smallfish/repos', u'following': 6, u'login': u'smallfish'}, {u'public_repos': 18, u'site_admin': False, u'subscriptions_url': u'https://api.github.com/users/yrom/subscriptions', u'gravatar_id': u'', u'hireable': None, u'id': 2888674, u'followers_url': u'https://api.github.com/users/yrom/followers', u'following_url': u'https://api.github.com/users/yrom/following{/other_user}', u'blog': u'http://www.yrom.net', u'followers': 201, u'location': u'China', u'type': u'User', u'email': u'hi@yongrong.wang', u'bio': None, u'gists_url': u'https://api.github.com/users/yrom/gists{/gist_id}', u'company': None, u'events_url': u'https://api.github.com/users/yrom/events{/privacy}', u'html_url': u'https://github.com/yrom', u'updated_at': u'2016-02-23T13:16:53Z', u'received_events_url': u'https://api.github.com/users/yrom/received_events', u'starred_url': u'https://api.github.com/users/yrom/starred{/owner}{/repo}', u'public_gists': 9, u'name': u'Yrom Wang', u'organizations_url': u'https://api.github.com/users/yrom/orgs', u'url': u'https://api.github.com/users/yrom', u'created_at': u'2012-11-26T03:59:27Z', u'avatar_url': u'https://avatars.githubusercontent.com/u/2888674?v=3', u'repos_url': u'https://api.github.com/users/yrom/repos', u'following': 23, u'login': u'yrom'}, {u'public_repos': 31, u'site_admin': False, u'subscriptions_url': u'https://api.github.com/users/vicalloy/subscriptions', u'gravatar_id': u'', u'hireable': True, u'id': 43507, u'followers_url': u'https://api.github.com/users/vicalloy/followers', u'following_url': u'https://api.github.com/users/vicalloy/following{/other_user}', u'blog': u'http://haoluobo.com/', u'followers': 196, u'location': u'HangZhou, China', u'type': u'User', u'email': u'zbirder@gmail.com', u'bio': None, u'gists_url': u'https://api.github.com/users/vicalloy/gists{/gist_id}', u'company': None, u'events_url': u'https://api.github.com/users/vicalloy/events{/privacy}', u'html_url': u'https://github.com/vicalloy', u'updated_at': u'2016-01-28T08:06:21Z', u'received_events_url': u'https://api.github.com/users/vicalloy/received_events', u'starred_url': u'https://api.github.com/users/vicalloy/starred{/owner}{/repo}', u'public_gists': 2, u'name': u'vicalloy', u'organizations_url': u'https://api.github.com/users/vicalloy/orgs', u'url': u'https://api.github.com/users/vicalloy', u'created_at': u'2008-12-31T14:23:25Z', u'avatar_url': u'https://avatars.githubusercontent.com/u/43507?v=3', u'repos_url': u'https://api.github.com/users/vicalloy/repos', u'following': 8, u'login': u'vicalloy'}, {u'public_repos': 17, u'site_admin': False, u'subscriptions_url': u'https://api.github.com/users/tankywoo/subscriptions', u'gravatar_id': u'', u'hireable': None, u'id': 1169499, u'followers_url': u'https://api.github.com/users/tankywoo/followers', u'following_url': u'https://api.github.com/users/tankywoo/following{/other_user}', u'blog': u'https://tankywoo.com', u'followers': 195, u'location': u'Beijing, China', u'type': u'User', u'email': u'me@tankywoo.com', u'bio': None, u'gists_url': u'https://api.github.com/users/tankywoo/gists{/gist_id}', u'company': u'Knownsec', u'events_url': u'https://api.github.com/users/tankywoo/events{/privacy}', u'html_url': u'https://github.com/tankywoo', u'updated_at': u'2016-02-23T07:54:17Z', u'received_events_url': u'https://api.github.com/users/tankywoo/received_events', u'starred_url': u'https://api.github.com/users/tankywoo/starred{/owner}{/repo}', u'public_gists': 17, u'name': u'Tanky Woo', u'organizations_url': u'https://api.github.com/users/tankywoo/orgs', u'url': u'https://api.github.com/users/tankywoo', u'created_at': u'2011-11-03T10:55:48Z', u'avatar_url': u'https://avatars.githubusercontent.com/u/1169499?v=3', u'repos_url': u'https://api.github.com/users/tankywoo/repos', u'following': 12, u'login': u'tankywoo'}, {u'public_repos': 30, u'site_admin': False, u'subscriptions_url': u'https://api.github.com/users/OpenGG/subscriptions', u'gravatar_id': u'', u'hireable': True, u'id': 1005452, u'followers_url': u'https://api.github.com/users/OpenGG/followers', u'following_url': u'https://api.github.com/users/OpenGG/following{/other_user}', u'blog': u'http://opengg.me', u'followers': 193, u'location': u'Shanghai, China', u'type': u'User', u'email': u'liy099@gmail.com', u'bio': None, u'gists_url': u'https://api.github.com/users/OpenGG/gists{/gist_id}', u'company': u'Shanghai Jiao Tong University', u'events_url': u'https://api.github.com/users/OpenGG/events{/privacy}', u'html_url': u'https://github.com/OpenGG', u'updated_at': u'2016-01-25T01:57:55Z', u'received_events_url': u'https://api.github.com/users/OpenGG/received_events', u'starred_url': u'https://api.github.com/users/OpenGG/starred{/owner}{/repo}', u'public_gists': 4, u'name': u'OpenGG', u'organizations_url': u'https://api.github.com/users/OpenGG/orgs', u'url': u'https://api.github.com/users/OpenGG', u'created_at': u'2011-08-26T00:31:56Z', u'avatar_url': u'https://avatars.githubusercontent.com/u/1005452?v=3', u'repos_url': u'https://api.github.com/users/OpenGG/repos', u'following': 1, u'login': u'OpenGG'}, {u'public_repos': 37, u'site_admin': False, u'subscriptions_url': u'https://api.github.com/users/tioover/subscriptions', u'gravatar_id': u'', u'hireable': True, u'id': 930060, u'followers_url': u'https://api.github.com/users/tioover/followers', u'following_url': u'https://api.github.com/users/tioover/following{/other_user}', u'blog': u'http://eggfan.org/', u'followers': 190, u'location': u'Chengdu, China', u'type': u'User', u'email': u'tioover@gmail.com', u'bio': None, u'gists_url': u'https://api.github.com/users/tioover/gists{/gist_id}', u'company': None, u'events_url': u'https://api.github.com/users/tioover/events{/privacy}', u'html_url': u'https://github.com/tioover', u'updated_at': u'2016-02-22T20:24:05Z', u'received_events_url': u'https://api.github.com/users/tioover/received_events', u'starred_url': u'https://api.github.com/users/tioover/starred{/owner}{/repo}', u'public_gists': 54, u'name': u'Tengfei Xu', u'organizations_url': u'https://api.github.com/users/tioover/orgs', u'url': u'https://api.github.com/users/tioover', u'created_at': u'2011-07-21T12:00:00Z', u'avatar_url': u'https://avatars.githubusercontent.com/u/930060?v=3', u'repos_url': u'https://api.github.com/users/tioover/repos', u'following': 81, u'login': u'tioover'}, {u'public_repos': 24, u'site_admin': False, u'subscriptions_url': u'https://api.github.com/users/liluo/subscriptions', u'gravatar_id': u'', u'hireable': None, u'id': 741755, u'followers_url': u'https://api.github.com/users/liluo/followers', u'following_url': u'https://api.github.com/users/liluo/following{/other_user}', u'blog': u'liluo.org', u'followers': 189, u'location': u'Shanghai, China', u'type': u'User', u'email': u'i@liluo.org', u'bio': None, u'gists_url': u'https://api.github.com/users/liluo/gists{/gist_id}', u'company': u'Douban Inc.', u'events_url': u'https://api.github.com/users/liluo/events{/privacy}', u'html_url': u'https://github.com/liluo', u'updated_at': u'2016-02-19T13:56:15Z', u'received_events_url': u'https://api.github.com/users/liluo/received_events', u'starred_url': u'https://api.github.com/users/liluo/starred{/owner}{/repo}', u'public_gists': 26, u'name': u'liluo', u'organizations_url': u'https://api.github.com/users/liluo/orgs', u'url': u'https://api.github.com/users/liluo', u'created_at': u'2011-04-20T16:13:49Z', u'avatar_url': u'https://avatars.githubusercontent.com/u/741755?v=3', u'repos_url': u'https://api.github.com/users/liluo/repos', u'following': 30, u'login': u'liluo'}, {u'public_repos': 183, u'site_admin': False, u'subscriptions_url': u'https://api.github.com/users/m13253/subscriptions', u'gravatar_id': u'', u'hireable': None, u'id': 1808930, u'followers_url': u'https://api.github.com/users/m13253/followers', u'following_url': u'https://api.github.com/users/m13253/following{/other_user}', u'blog': u'http://m13253.blogspot.com/', u'followers': 182, u'location': u'Anhui, China', u'type': u'User', u'email': u'm13253@hotmail.com', u'bio': None, u'gists_url': u'https://api.github.com/users/m13253/gists{/gist_id}', u'company': None, u'events_url': u'https://api.github.com/users/m13253/events{/privacy}', u'html_url': u'https://github.com/m13253', u'updated_at': u'2016-02-11T06:40:55Z', u'received_events_url': u'https://api.github.com/users/m13253/received_events', u'starred_url': u'https://api.github.com/users/m13253/starred{/owner}{/repo}', u'public_gists': 27, u'name': u'Star Brilliant', u'organizations_url': u'https://api.github.com/users/m13253/orgs', u'url': u'https://api.github.com/users/m13253', u'created_at': u'2012-06-02T07:37:41Z', u'avatar_url': u'https://avatars.githubusercontent.com/u/1808930?v=3', u'repos_url': u'https://api.github.com/users/m13253/repos', u'following': 66, u'login': u'm13253'}, {u'public_repos': 43, u'site_admin': False, u'subscriptions_url': u'https://api.github.com/users/kalasoo/subscriptions', u'gravatar_id': u'', u'hireable': None, u'id': 1555092, u'followers_url': u'https://api.github.com/users/kalasoo/followers', u'following_url': u'https://api.github.com/users/kalasoo/following{/other_user}', u'blog': u'http://www.ming.today', u'followers': 181, u'location': u'Beijing, China', u'type': u'User', u'email': u'ym.kalasoo@gmail.com', u'bio': None, u'gists_url': u'https://api.github.com/users/kalasoo/gists{/gist_id}', u'company': u'Impressive', u'events_url': u'https://api.github.com/users/kalasoo/events{/privacy}', u'html_url': u'https://github.com/kalasoo', u'updated_at': u'2016-02-17T09:34:05Z', u'received_events_url': u'https://api.github.com/users/kalasoo/received_events', u'starred_url': u'https://api.github.com/users/kalasoo/starred{/owner}{/repo}', u'public_gists': 1, u'name': u'kalasoo', u'organizations_url': u'https://api.github.com/users/kalasoo/orgs', u'url': u'https://api.github.com/users/kalasoo', u'created_at': u'2012-03-20T02:50:25Z', u'avatar_url': u'https://avatars.githubusercontent.com/u/1555092?v=3', u'repos_url': u'https://api.github.com/users/kalasoo/repos', u'following': 83, u'login': u'kalasoo'}, {u'public_repos': 6, u'site_admin': False, u'subscriptions_url': u'https://api.github.com/users/chineking/subscriptions', u'gravatar_id': u'', u'hireable': None, u'id': 357506, u'followers_url': u'https://api.github.com/users/chineking/followers', u'following_url': u'https://api.github.com/users/chineking/following{/other_user}', u'blog': u'http://qinxuye.me', u'followers': 180, u'location': u'Hangzhou, China', u'type': u'User', u'email': u'qin@qinxuye.me', u'bio': None, u'gists_url': u'https://api.github.com/users/chineking/gists{/gist_id}', u'company': u'Alibaba.inc', u'events_url': u'https://api.github.com/users/chineking/events{/privacy}', u'html_url': u'https://github.com/chineking', u'updated_at': u'2016-02-01T15:46:46Z', u'received_events_url': u'https://api.github.com/users/chineking/received_events', u'starred_url': u'https://api.github.com/users/chineking/starred{/owner}{/repo}', u'public_gists': 0, u'name': u'Chine King', u'organizations_url': u'https://api.github.com/users/chineking/orgs', u'url': u'https://api.github.com/users/chineking', u'created_at': u'2010-08-08T05:05:54Z', u'avatar_url': u'https://avatars.githubusercontent.com/u/357506?v=3', u'repos_url': u'https://api.github.com/users/chineking/repos', u'following': 6, u'login': u'chineking'}, {u'public_repos': 24, u'site_admin': False, u'subscriptions_url': u'https://api.github.com/users/Yaccc/subscriptions', u'gravatar_id': u'', u'hireable': None, u'id': 5906306, u'followers_url': u'https://api.github.com/users/Yaccc/followers', u'following_url': u'https://api.github.com/users/Yaccc/following{/other_user}', u'blog': u'yaccc.0xff.ws', u'followers': 179, u'location': u'Beijing, China', u'type': u'User', u'email': u'pursuer_xie@foxmail.com', u'bio': None, u'gists_url': u'https://api.github.com/users/Yaccc/gists{/gist_id}', u'company': u'\\x08Meituan', u'events_url': u'https://api.github.com/users/Yaccc/events{/privacy}', u'html_url': u'https://github.com/Yaccc', u'updated_at': u'2016-02-18T11:30:57Z', u'received_events_url': u'https://api.github.com/users/Yaccc/received_events', u'starred_url': u'https://api.github.com/users/Yaccc/starred{/owner}{/repo}', u'public_gists': 0, u'name': u'Zhaodong Xie', u'organizations_url': u'https://api.github.com/users/Yaccc/orgs', u'url': u'https://api.github.com/users/Yaccc', u'created_at': u'2013-11-11T05:12:43Z', u'avatar_url': u'https://avatars.githubusercontent.com/u/5906306?v=3', u'repos_url': u'https://api.github.com/users/Yaccc/repos', u'following': 28, u'login': u'Yaccc'}, {u'public_repos': 57, u'site_admin': False, u'subscriptions_url': u'https://api.github.com/users/Flowerowl/subscriptions', u'gravatar_id': u'', u'hireable': True, u'id': 1586995, u'followers_url': u'https://api.github.com/users/Flowerowl/followers', u'following_url': u'https://api.github.com/users/Flowerowl/following{/other_user}', u'blog': u'http://lazynight.me', u'followers': 178, u'location': u'Beijing,China', u'type': u'User', u'email': u'lazynightz@gmail.com', u'bio': None, u'gists_url': u'https://api.github.com/users/Flowerowl/gists{/gist_id}', u'company': u'KAKA', u'events_url': u'https://api.github.com/users/Flowerowl/events{/privacy}', u'html_url': u'https://github.com/Flowerowl', u'updated_at': u'2016-02-18T15:23:23Z', u'received_events_url': u'https://api.github.com/users/Flowerowl/received_events', u'starred_url': u'https://api.github.com/users/Flowerowl/starred{/owner}{/repo}', u'public_gists': 8, u'name': u'Zhe Yu', u'organizations_url': u'https://api.github.com/users/Flowerowl/orgs', u'url': u'https://api.github.com/users/Flowerowl', u'created_at': u'2012-03-29T12:39:56Z', u'avatar_url': u'https://avatars.githubusercontent.com/u/1586995?v=3', u'repos_url': u'https://api.github.com/users/Flowerowl/repos', u'following': 66, u'login': u'Flowerowl'}, {u'public_repos': 1, u'site_admin': False, u'subscriptions_url': u'https://api.github.com/users/onlyswan/subscriptions', u'gravatar_id': u'', u'hireable': None, u'id': 10988326, u'followers_url': u'https://api.github.com/users/onlyswan/followers', u'following_url': u'https://api.github.com/users/onlyswan/following{/other_user}', u'blog': None, u'followers': 161, u'location': u'China', u'type': u'User', u'email': u'dear.swan@gmail.com', u'bio': None, u'gists_url': u'https://api.github.com/users/onlyswan/gists{/gist_id}', u'company': None, u'events_url': u'https://api.github.com/users/onlyswan/events{/privacy}', u'html_url': u'https://github.com/onlyswan', u'updated_at': u'2015-09-01T20:37:05Z', u'received_events_url': u'https://api.github.com/users/onlyswan/received_events', u'starred_url': u'https://api.github.com/users/onlyswan/starred{/owner}{/repo}', u'public_gists': 0, u'name': u'OnlySwan', u'organizations_url': u'https://api.github.com/users/onlyswan/orgs', u'url': u'https://api.github.com/users/onlyswan', u'created_at': u'2015-02-13T06:05:52Z', u'avatar_url': u'https://avatars.githubusercontent.com/u/10988326?v=3', u'repos_url': u'https://api.github.com/users/onlyswan/repos', u'following': 62, u'login': u'onlyswan'}, {u'public_repos': 96, u'site_admin': False, u'subscriptions_url': u'https://api.github.com/users/xen0n/subscriptions', u'gravatar_id': u'', u'hireable': None, u'id': 1175567, u'followers_url': u'https://api.github.com/users/xen0n/followers', u'following_url': u'https://api.github.com/users/xen0n/following{/other_user}', u'blog': None, u'followers': 158, u'location': u'Wuxi, Jiangsu, China', u'type': u'User', u'email': None, u'bio': None, u'gists_url': u'https://api.github.com/users/xen0n/gists{/gist_id}', u'company': u'Jiangnan University', u'events_url': u'https://api.github.com/users/xen0n/events{/privacy}', u'html_url': u'https://github.com/xen0n', u'updated_at': u'2016-02-08T20:25:38Z', u'received_events_url': u'https://api.github.com/users/xen0n/received_events', u'starred_url': u'https://api.github.com/users/xen0n/starred{/owner}{/repo}', u'public_gists': 4, u'name': u'Wang Xuerui', u'organizations_url': u'https://api.github.com/users/xen0n/orgs', u'url': u'https://api.github.com/users/xen0n', u'created_at': u'2011-11-06T09:07:08Z', u'avatar_url': u'https://avatars.githubusercontent.com/u/1175567?v=3', u'repos_url': u'https://api.github.com/users/xen0n/repos', u'following': 195, u'login': u'xen0n'}, {u'public_repos': 74, u'site_admin': False, u'subscriptions_url': u'https://api.github.com/users/atupal/subscriptions', u'gravatar_id': u'', u'hireable': None, u'id': 1540389, u'followers_url': u'https://api.github.com/users/atupal/followers', u'following_url': u'https://api.github.com/users/atupal/following{/other_user}', u'blog': u'https://atupal.org', u'followers': 157, u'location': u'hust,  china', u'type': u'User', u'email': u'me@atupal.org', u'bio': None, u'gists_url': u'https://api.github.com/users/atupal/gists{/gist_id}', u'company': None, u'events_url': u'https://api.github.com/users/atupal/events{/privacy}', u'html_url': u'https://github.com/atupal', u'updated_at': u'2016-02-20T04:01:57Z', u'received_events_url': u'https://api.github.com/users/atupal/received_events', u'starred_url': u'https://api.github.com/users/atupal/starred{/owner}{/repo}', u'public_gists': 46, u'name': u'kangle yu', u'organizations_url': u'https://api.github.com/users/atupal/orgs', u'url': u'https://api.github.com/users/atupal', u'created_at': u'2012-03-15T13:16:34Z', u'avatar_url': u'https://avatars.githubusercontent.com/u/1540389?v=3', u'repos_url': u'https://api.github.com/users/atupal/repos', u'following': 254, u'login': u'atupal'}, {u'public_repos': 117, u'site_admin': False, u'subscriptions_url': u'https://api.github.com/users/jianingy/subscriptions', u'gravatar_id': u'', u'hireable': None, u'id': 22854, u'followers_url': u'https://api.github.com/users/jianingy/followers', u'following_url': u'https://api.github.com/users/jianingy/following{/other_user}', u'blog': u'blog.jianingy.com', u'followers': 154, u'location': u'Beijing, China', u'type': u'User', u'email': u'jianingy.yang@gmail.com', u'bio': None, u'gists_url': u'https://api.github.com/users/jianingy/gists{/gist_id}', u'company': None, u'events_url': u'https://api.github.com/users/jianingy/events{/privacy}', u'html_url': u'https://github.com/jianingy', u'updated_at': u'2016-02-05T16:30:12Z', u'received_events_url': u'https://api.github.com/users/jianingy/received_events', u'starred_url': u'https://api.github.com/users/jianingy/starred{/owner}{/repo}', u'public_gists': 29, u'name': u'Jianing Yang', u'organizations_url': u'https://api.github.com/users/jianingy/orgs', u'url': u'https://api.github.com/users/jianingy', u'created_at': u'2008-09-02T13:21:20Z', u'avatar_url': u'https://avatars.githubusercontent.com/u/22854?v=3', u'repos_url': u'https://api.github.com/users/jianingy/repos', u'following': 39, u'login': u'jianingy'}, {u'public_repos': 129, u'site_admin': False, u'subscriptions_url': u'https://api.github.com/users/mozillazg/subscriptions', u'gravatar_id': u'', u'hireable': True, u'id': 485054, u'followers_url': u'https://api.github.com/users/mozillazg/followers', u'following_url': u'https://api.github.com/users/mozillazg/following{/other_user}', u'blog': u'https://mozillazg.com', u'followers': 151, u'location': u'China', u'type': u'User', u'email': u'mozillazg101@gmail.com', u'bio': None, u'gists_url': u'https://api.github.com/users/mozillazg/gists{/gist_id}', u'company': None, u'events_url': u'https://api.github.com/users/mozillazg/events{/privacy}', u'html_url': u'https://github.com/mozillazg', u'updated_at': u'2016-02-22T15:30:37Z', u'received_events_url': u'https://api.github.com/users/mozillazg/received_events', u'starred_url': u'https://api.github.com/users/mozillazg/starred{/owner}{/repo}', u'public_gists': 19, u'name': u'mozillazg', u'organizations_url': u'https://api.github.com/users/mozillazg/orgs', u'url': u'https://api.github.com/users/mozillazg', u'created_at': u'2010-11-17T06:52:01Z', u'avatar_url': u'https://avatars.githubusercontent.com/u/485054?v=3', u'repos_url': u'https://api.github.com/users/mozillazg/repos', u'following': 53, u'login': u'mozillazg'}, {u'public_repos': 6, u'site_admin': False, u'subscriptions_url': u'https://api.github.com/users/huhamhire/subscriptions', u'gravatar_id': u'', u'hireable': None, u'id': 1697264, u'followers_url': u'https://api.github.com/users/huhamhire/followers', u'following_url': u'https://api.github.com/users/huhamhire/following{/other_user}', u'blog': u'https://blog.huhamhire.com', u'followers': 149, u'location': u'Wuxi, China', u'type': u'User', u'email': u'me@huhamhire.com', u'bio': None, u'gists_url': u'https://api.github.com/users/huhamhire/gists{/gist_id}', u'company': u'FineReport Inc.', u'events_url': u'https://api.github.com/users/huhamhire/events{/privacy}', u'html_url': u'https://github.com/huhamhire', u'updated_at': u'2016-02-18T03:07:35Z', u'received_events_url': u'https://api.github.com/users/huhamhire/received_events', u'starred_url': u'https://api.github.com/users/huhamhire/starred{/owner}{/repo}', u'public_gists': 0, u'name': u'Huhamhire', u'organizations_url': u'https://api.github.com/users/huhamhire/orgs', u'url': u'https://api.github.com/users/huhamhire', u'created_at': u'2012-05-02T01:26:20Z', u'avatar_url': u'https://avatars.githubusercontent.com/u/1697264?v=3', u'repos_url': u'https://api.github.com/users/huhamhire/repos', u'following': 5, u'login': u'huhamhire'}, {u'public_repos': 27, u'site_admin': False, u'subscriptions_url': u'https://api.github.com/users/RayPS/subscriptions', u'gravatar_id': u'', u'hireable': True, u'id': 1941540, u'followers_url': u'https://api.github.com/users/RayPS/followers', u'following_url': u'https://api.github.com/users/RayPS/following{/other_user}', u'blog': u'http://www.RayPS.com', u'followers': 147, u'location': u'GuangZhou,China', u'type': u'User', u'email': u'ray@rayps.com', u'bio': None, u'gists_url': u'https://api.github.com/users/RayPS/gists{/gist_id}', u'company': u'Indie', u'events_url': u'https://api.github.com/users/RayPS/events{/privacy}', u'html_url': u'https://github.com/RayPS', u'updated_at': u'2016-01-18T16:55:53Z', u'received_events_url': u'https://api.github.com/users/RayPS/received_events', u'starred_url': u'https://api.github.com/users/RayPS/starred{/owner}{/repo}', u'public_gists': 9, u'name': u'Ray', u'organizations_url': u'https://api.github.com/users/RayPS/orgs', u'url': u'https://api.github.com/users/RayPS', u'created_at': u'2012-07-09T08:50:48Z', u'avatar_url': u'https://avatars.githubusercontent.com/u/1941540?v=3', u'repos_url': u'https://api.github.com/users/RayPS/repos', u'following': 43, u'login': u'RayPS'}, {u'public_repos': 9, u'site_admin': False, u'subscriptions_url': u'https://api.github.com/users/timebug/subscriptions', u'gravatar_id': u'', u'hireable': None, u'id': 416154, u'followers_url': u'https://api.github.com/users/timebug/followers', u'following_url': u'https://api.github.com/users/timebug/following{/other_user}', u'blog': u'http://io.upyun.com', u'followers': 141, u'location': u'Hangzhou, China', u'type': u'User', u'email': u'timebug.info@gmail.com', u'bio': None, u'gists_url': u'https://api.github.com/users/timebug/gists{/gist_id}', u'company': u'UPYUN', u'events_url': u'https://api.github.com/users/timebug/events{/privacy}', u'html_url': u'https://github.com/timebug', u'updated_at': u'2016-02-22T09:15:17Z', u'received_events_url': u'https://api.github.com/users/timebug/received_events', u'starred_url': u'https://api.github.com/users/timebug/starred{/owner}{/repo}', u'public_gists': 5, u'name': u'Monkey Zhang', u'organizations_url': u'https://api.github.com/users/timebug/orgs', u'url': u'https://api.github.com/users/timebug', u'created_at': u'2010-09-26T06:20:02Z', u'avatar_url': u'https://avatars.githubusercontent.com/u/416154?v=3', u'repos_url': u'https://api.github.com/users/timebug/repos', u'following': 83, u'login': u'timebug'}, {u'public_repos': 13, u'site_admin': False, u'subscriptions_url': u'https://api.github.com/users/yeahwu/subscriptions', u'gravatar_id': u'', u'hireable': None, u'id': 13328328, u'followers_url': u'https://api.github.com/users/yeahwu/followers', u'following_url': u'https://api.github.com/users/yeahwu/following{/other_user}', u'blog': u'https://twitter.com/yeahwu404', u'followers': 136, u'location': u'China', u'type': u'User', u'email': None, u'bio': None, u'gists_url': u'https://api.github.com/users/yeahwu/gists{/gist_id}', u'company': None, u'events_url': u'https://api.github.com/users/yeahwu/events{/privacy}', u'html_url': u'https://github.com/yeahwu', u'updated_at': u'2016-02-23T10:18:59Z', u'received_events_url': u'https://api.github.com/users/yeahwu/received_events', u'starred_url': u'https://api.github.com/users/yeahwu/starred{/owner}{/repo}', u'public_gists': 1, u'name': u'YeahWu', u'organizations_url': u'https://api.github.com/users/yeahwu/orgs', u'url': u'https://api.github.com/users/yeahwu', u'created_at': u'2015-07-14T07:06:06Z', u'avatar_url': u'https://avatars.githubusercontent.com/u/13328328?v=3', u'repos_url': u'https://api.github.com/users/yeahwu/repos', u'following': 5, u'login': u'yeahwu'}, {u'public_repos': 35, u'site_admin': False, u'subscriptions_url': u'https://api.github.com/users/ragnraok/subscriptions', u'gravatar_id': u'', u'hireable': None, u'id': 1225596, u'followers_url': u'https://api.github.com/users/ragnraok/followers', u'following_url': u'https://api.github.com/users/ragnraok/following{/other_user}', u'blog': u'http://ragnraok.github.io/', u'followers': 134, u'location': u'ZhongShan, China', u'type': u'User', u'email': u'okone1288@gmail.com', u'bio': None, u'gists_url': u'https://api.github.com/users/ragnraok/gists{/gist_id}', u'company': u'Tencent', u'events_url': u'https://api.github.com/users/ragnraok/events{/privacy}', u'html_url': u'https://github.com/ragnraok', u'updated_at': u'2016-02-13T10:21:46Z', u'received_events_url': u'https://api.github.com/users/ragnraok/received_events', u'starred_url': u'https://api.github.com/users/ragnraok/starred{/owner}{/repo}', u'public_gists': 3, u'name': u'RagnarokStack', u'organizations_url': u'https://api.github.com/users/ragnraok/orgs', u'url': u'https://api.github.com/users/ragnraok', u'created_at': u'2011-11-28T15:17:56Z', u'avatar_url': u'https://avatars.githubusercontent.com/u/1225596?v=3', u'repos_url': u'https://api.github.com/users/ragnraok/repos', u'following': 144, u'login': u'ragnraok'}, {u'public_repos': 42, u'site_admin': False, u'subscriptions_url': u'https://api.github.com/users/lxyu/subscriptions', u'gravatar_id': u'', u'hireable': None, u'id': 678685, u'followers_url': u'https://api.github.com/users/lxyu/followers', u'following_url': u'https://api.github.com/users/lxyu/following{/other_user}', u'blog': u'http://lxyu.net', u'followers': 134, u'location': u'shanghai, china', u'type': u'User', u'email': u'github@lxyu.net', u'bio': None, u'gists_url': u'https://api.github.com/users/lxyu/gists{/gist_id}', u'company': u'ele.me', u'events_url': u'https://api.github.com/users/lxyu/events{/privacy}', u'html_url': u'https://github.com/lxyu', u'updated_at': u'2016-02-22T02:23:25Z', u'received_events_url': u'https://api.github.com/users/lxyu/received_events', u'starred_url': u'https://api.github.com/users/lxyu/starred{/owner}{/repo}', u'public_gists': 17, u'name': u'Lx Yu', u'organizations_url': u'https://api.github.com/users/lxyu/orgs', u'url': u'https://api.github.com/users/lxyu', u'created_at': u'2011-03-19T13:48:12Z', u'avatar_url': u'https://avatars.githubusercontent.com/u/678685?v=3', u'repos_url': u'https://api.github.com/users/lxyu/repos', u'following': 64, u'login': u'lxyu'}, {u'public_repos': 22, u'site_admin': False, u'subscriptions_url': u'https://api.github.com/users/adyliu/subscriptions', u'gravatar_id': u'', u'hireable': None, u'id': 1171396, u'followers_url': u'https://api.github.com/users/adyliu/followers', u'following_url': u'https://api.github.com/users/adyliu/following{/other_user}', u'blog': u'http://imxylz.com', u'followers': 131, u'location': u'Beijing, China', u'type': u'User', u'email': u'imxylz@gmail.com', u'bio': None, u'gists_url': u'https://api.github.com/users/adyliu/gists{/gist_id}', u'company': None, u'events_url': u'https://api.github.com/users/adyliu/events{/privacy}', u'html_url': u'https://github.com/adyliu', u'updated_at': u'2016-02-22T20:23:57Z', u'received_events_url': u'https://api.github.com/users/adyliu/received_events', u'starred_url': u'https://api.github.com/users/adyliu/starred{/owner}{/repo}', u'public_gists': 7, u'name': u'Ady Liu', u'organizations_url': u'https://api.github.com/users/adyliu/orgs', u'url': u'https://api.github.com/users/adyliu', u'created_at': u'2011-11-04T03:13:12Z', u'avatar_url': u'https://avatars.githubusercontent.com/u/1171396?v=3', u'repos_url': u'https://api.github.com/users/adyliu/repos', u'following': 127, u'login': u'adyliu'}, {u'public_repos': 22, u'site_admin': False, u'subscriptions_url': u'https://api.github.com/users/JmPotato/subscriptions', u'gravatar_id': u'', u'hireable': True, u'id': 1446531, u'followers_url': u'https://api.github.com/users/JmPotato/followers', u'following_url': u'https://api.github.com/users/JmPotato/following{/other_user}', u'blog': u'http://ipotato.me', u'followers': 131, u'location': u'China', u'type': u'User', u'email': u'ghzpotato@gmail.com', u'bio': None, u'gists_url': u'https://api.github.com/users/JmPotato/gists{/gist_id}', u'company': None, u'events_url': u'https://api.github.com/users/JmPotato/events{/privacy}', u'html_url': u'https://github.com/JmPotato', u'updated_at': u'2016-02-12T16:31:26Z', u'received_events_url': u'https://api.github.com/users/JmPotato/received_events', u'starred_url': u'https://api.github.com/users/JmPotato/starred{/owner}{/repo}', u'public_gists': 5, u'name': u'JmPotato', u'organizations_url': u'https://api.github.com/users/JmPotato/orgs', u'url': u'https://api.github.com/users/JmPotato', u'created_at': u'2012-02-17T12:49:27Z', u'avatar_url': u'https://avatars.githubusercontent.com/u/1446531?v=3', u'repos_url': u'https://api.github.com/users/JmPotato/repos', u'following': 36, u'login': u'JmPotato'}, {u'public_repos': 350, u'site_admin': False, u'subscriptions_url': u'https://api.github.com/users/Gwill/subscriptions', u'gravatar_id': u'', u'hireable': True, u'id': 692980, u'followers_url': u'https://api.github.com/users/Gwill/followers', u'following_url': u'https://api.github.com/users/Gwill/following{/other_user}', u'blog': u'http://ieqi.net', u'followers': 130, u'location': u'Xiamen, China', u'type': u'User', u'email': u'g_will@ieqi.com', u'bio': None, u'gists_url': u'https://api.github.com/users/Gwill/gists{/gist_id}', u'company': None, u'events_url': u'https://api.github.com/users/Gwill/events{/privacy}', u'html_url': u'https://github.com/Gwill', u'updated_at': u'2016-02-05T16:03:38Z', u'received_events_url': u'https://api.github.com/users/Gwill/received_events', u'starred_url': u'https://api.github.com/users/Gwill/starred{/owner}{/repo}', u'public_gists': 28, u'name': u'G_will', u'organizations_url': u'https://api.github.com/users/Gwill/orgs', u'url': u'https://api.github.com/users/Gwill', u'created_at': u'2011-03-27T05:24:16Z', u'avatar_url': u'https://avatars.githubusercontent.com/u/692980?v=3', u'repos_url': u'https://api.github.com/users/Gwill/repos', u'following': 146, u'login': u'Gwill'}, {u'public_repos': 17, u'site_admin': False, u'subscriptions_url': u'https://api.github.com/users/Wizmann/subscriptions', u'gravatar_id': u'', u'hireable': True, u'id': 1270921, u'followers_url': u'https://api.github.com/users/Wizmann/followers', u'following_url': u'https://api.github.com/users/Wizmann/following{/other_user}', u'blog': u'wizmann.tk', u'followers': 130, u'location': u'Beijing, China', u'type': u'User', u'email': u'mail.kuuy@gmail.com', u'bio': None, u'gists_url': u'https://api.github.com/users/Wizmann/gists{/gist_id}', u'company': None, u'events_url': u'https://api.github.com/users/Wizmann/events{/privacy}', u'html_url': u'https://github.com/Wizmann', u'updated_at': u'2016-02-22T12:41:48Z', u'received_events_url': u'https://api.github.com/users/Wizmann/received_events', u'starred_url': u'https://api.github.com/users/Wizmann/starred{/owner}{/repo}', u'public_gists': 36, u'name': u'Moody \"Kuuy\" Wizmann', u'organizations_url': u'https://api.github.com/users/Wizmann/orgs', u'url': u'https://api.github.com/users/Wizmann', u'created_at': u'2011-12-18T13:19:42Z', u'avatar_url': u'https://avatars.githubusercontent.com/u/1270921?v=3', u'repos_url': u'https://api.github.com/users/Wizmann/repos', u'following': 16, u'login': u'Wizmann'}, {u'public_repos': 43, u'site_admin': False, u'subscriptions_url': u'https://api.github.com/users/mckelvin/subscriptions', u'gravatar_id': u'', u'hireable': True, u'id': 865677, u'followers_url': u'https://api.github.com/users/mckelvin/followers', u'following_url': u'https://api.github.com/users/mckelvin/following{/other_user}', u'blog': u'https://plus.google.com/114175506136437522681', u'followers': 127, u'location': u'Beijing, China', u'type': u'User', u'email': u'kelvin0576@gmail.com', u'bio': None, u'gists_url': u'https://api.github.com/users/mckelvin/gists{/gist_id}', u'company': u'Douban Inc.', u'events_url': u'https://api.github.com/users/mckelvin/events{/privacy}', u'html_url': u'https://github.com/mckelvin', u'updated_at': u'2016-02-21T15:14:59Z', u'received_events_url': u'https://api.github.com/users/mckelvin/received_events', u'starred_url': u'https://api.github.com/users/mckelvin/starred{/owner}{/repo}', u'public_gists': 85, u'name': u'PAN, Myautsai', u'organizations_url': u'https://api.github.com/users/mckelvin/orgs', u'url': u'https://api.github.com/users/mckelvin', u'created_at': u'2011-06-22T01:02:20Z', u'avatar_url': u'https://avatars.githubusercontent.com/u/865677?v=3', u'repos_url': u'https://api.github.com/users/mckelvin/repos', u'following': 65, u'login': u'mckelvin'}, {u'public_repos': 56, u'site_admin': False, u'subscriptions_url': u'https://api.github.com/users/huxuan/subscriptions', u'gravatar_id': u'', u'hireable': True, u'id': 726061, u'followers_url': u'https://api.github.com/users/huxuan/followers', u'following_url': u'https://api.github.com/users/huxuan/following{/other_user}', u'blog': u'http://xuan.hu/', u'followers': 124, u'location': u'Beijing,China', u'type': u'User', u'email': u'i+github@huxuan.org', u'bio': None, u'gists_url': u'https://api.github.com/users/huxuan/gists{/gist_id}', u'company': u'Peking University', u'events_url': u'https://api.github.com/users/huxuan/events{/privacy}', u'html_url': u'https://github.com/huxuan', u'updated_at': u'2016-02-19T05:52:25Z', u'received_events_url': u'https://api.github.com/users/huxuan/received_events', u'starred_url': u'https://api.github.com/users/huxuan/starred{/owner}{/repo}', u'public_gists': 0, u'name': u'Xuan Hu (Sean)', u'organizations_url': u'https://api.github.com/users/huxuan/orgs', u'url': u'https://api.github.com/users/huxuan', u'created_at': u'2011-04-13T01:03:39Z', u'avatar_url': u'https://avatars.githubusercontent.com/u/726061?v=3', u'repos_url': u'https://api.github.com/users/huxuan/repos', u'following': 107, u'login': u'huxuan'}, {u'public_repos': 36, u'site_admin': False, u'subscriptions_url': u'https://api.github.com/users/lxneng/subscriptions', u'gravatar_id': u'', u'hireable': True, u'id': 112606, u'followers_url': u'https://api.github.com/users/lxneng/followers', u'following_url': u'https://api.github.com/users/lxneng/following{/other_user}', u'blog': u'https://lxneng.com', u'followers': 122, u'location': u'Shanghai, China', u'type': u'User', u'email': u'lxneng@gmail.com', u'bio': None, u'gists_url': u'https://api.github.com/users/lxneng/gists{/gist_id}', u'company': None, u'events_url': u'https://api.github.com/users/lxneng/events{/privacy}', u'html_url': u'https://github.com/lxneng', u'updated_at': u'2016-01-04T02:37:17Z', u'received_events_url': u'https://api.github.com/users/lxneng/received_events', u'starred_url': u'https://api.github.com/users/lxneng/starred{/owner}{/repo}', u'public_gists': 283, u'name': u'Eric Lo', u'organizations_url': u'https://api.github.com/users/lxneng/orgs', u'url': u'https://api.github.com/users/lxneng', u'created_at': u'2009-08-06T16:32:07Z', u'avatar_url': u'https://avatars.githubusercontent.com/u/112606?v=3', u'repos_url': u'https://api.github.com/users/lxneng/repos', u'following': 391, u'login': u'lxneng'}, {u'public_repos': 120, u'site_admin': False, u'subscriptions_url': u'https://api.github.com/users/wangxiaomo/subscriptions', u'gravatar_id': u'', u'hireable': True, u'id': 1225272, u'followers_url': u'https://api.github.com/users/wangxiaomo/followers', u'following_url': u'https://api.github.com/users/wangxiaomo/following{/other_user}', u'blog': u'http://wangxiaomo.space', u'followers': 119, u'location': u'China', u'type': u'User', u'email': u'wxm4ever+github@gmail.com', u'bio': None, u'gists_url': u'https://api.github.com/users/wangxiaomo/gists{/gist_id}', u'company': u'freelancer', u'events_url': u'https://api.github.com/users/wangxiaomo/events{/privacy}', u'html_url': u'https://github.com/wangxiaomo', u'updated_at': u'2016-02-19T12:15:55Z', u'received_events_url': u'https://api.github.com/users/wangxiaomo/received_events', u'starred_url': u'https://api.github.com/users/wangxiaomo/starred{/owner}{/repo}', u'public_gists': 35, u'name': u'wangxiaomo', u'organizations_url': u'https://api.github.com/users/wangxiaomo/orgs', u'url': u'https://api.github.com/users/wangxiaomo', u'created_at': u'2011-11-28T13:00:20Z', u'avatar_url': u'https://avatars.githubusercontent.com/u/1225272?v=3', u'repos_url': u'https://api.github.com/users/wangxiaomo/repos', u'following': 127, u'login': u'wangxiaomo'}, {u'public_repos': 42, u'site_admin': False, u'subscriptions_url': u'https://api.github.com/users/JustinFincher/subscriptions', u'gravatar_id': u'', u'hireable': True, u'id': 8359912, u'followers_url': u'https://api.github.com/users/JustinFincher/followers', u'following_url': u'https://api.github.com/users/JustinFincher/following{/other_user}', u'blog': u'http://www.justzht.com', u'followers': 118, u'location': u'Changsha, China', u'type': u'User', u'email': u'zhtsu47@me.com', u'bio': None, u'gists_url': u'https://api.github.com/users/JustinFincher/gists{/gist_id}', u'company': u'Fin GameWorks', u'events_url': u'https://api.github.com/users/JustinFincher/events{/privacy}', u'html_url': u'https://github.com/JustinFincher', u'updated_at': u'2016-02-16T14:15:14Z', u'received_events_url': u'https://api.github.com/users/JustinFincher/received_events', u'starred_url': u'https://api.github.com/users/JustinFincher/starred{/owner}{/repo}', u'public_gists': 0, u'name': u'JustZht', u'organizations_url': u'https://api.github.com/users/JustinFincher/orgs', u'url': u'https://api.github.com/users/JustinFincher', u'created_at': u'2014-08-05T06:50:54Z', u'avatar_url': u'https://avatars.githubusercontent.com/u/8359912?v=3', u'repos_url': u'https://api.github.com/users/JustinFincher/repos', u'following': 118, u'login': u'JustinFincher'}, {u'public_repos': 283, u'site_admin': False, u'subscriptions_url': u'https://api.github.com/users/yetone/subscriptions', u'gravatar_id': u'', u'hireable': True, u'id': 1206493, u'followers_url': u'https://api.github.com/users/yetone/followers', u'following_url': u'https://api.github.com/users/yetone/following{/other_user}', u'blog': u'http://collipa.com', u'followers': 118, u'location': u'Beijing, China', u'type': u'User', u'email': u'yetoneful@gmail.com', u'bio': None, u'gists_url': u'https://api.github.com/users/yetone/gists{/gist_id}', u'company': u'Douban Inc.', u'events_url': u'https://api.github.com/users/yetone/events{/privacy}', u'html_url': u'https://github.com/yetone', u'updated_at': u'2015-11-30T10:26:41Z', u'received_events_url': u'https://api.github.com/users/yetone/received_events', u'starred_url': u'https://api.github.com/users/yetone/starred{/owner}{/repo}', u'public_gists': 20, u'name': u'yetone', u'organizations_url': u'https://api.github.com/users/yetone/orgs', u'url': u'https://api.github.com/users/yetone', u'created_at': u'2011-11-19T14:26:08Z', u'avatar_url': u'https://avatars.githubusercontent.com/u/1206493?v=3', u'repos_url': u'https://api.github.com/users/yetone/repos', u'following': 344, u'login': u'yetone'}, {u'public_repos': 36, u'site_admin': False, u'subscriptions_url': u'https://api.github.com/users/buke/subscriptions', u'gravatar_id': u'', u'hireable': True, u'id': 1013738, u'followers_url': u'https://api.github.com/users/buke/followers', u'following_url': u'https://api.github.com/users/buke/following{/other_user}', u'blog': u'http://buke.github.io', u'followers': 117, u'location': u'Guangzhou, Guangdong, China', u'type': u'User', u'email': u'wangbuke@gmail.com', u'bio': None, u'gists_url': u'https://api.github.com/users/buke/gists{/gist_id}', u'company': None, u'events_url': u'https://api.github.com/users/buke/events{/privacy}', u'html_url': u'https://github.com/buke', u'updated_at': u'2016-02-14T01:59:30Z', u'received_events_url': u'https://api.github.com/users/buke/received_events', u'starred_url': u'https://api.github.com/users/buke/starred{/owner}{/repo}', u'public_gists': 4, u'name': u'buke', u'organizations_url': u'https://api.github.com/users/buke/orgs', u'url': u'https://api.github.com/users/buke', u'created_at': u'2011-08-30T06:39:08Z', u'avatar_url': u'https://avatars.githubusercontent.com/u/1013738?v=3', u'repos_url': u'https://api.github.com/users/buke/repos', u'following': 6, u'login': u'buke'}, {u'public_repos': 9, u'site_admin': False, u'subscriptions_url': u'https://api.github.com/users/xxg1413/subscriptions', u'gravatar_id': u'', u'hireable': True, u'id': 1381803, u'followers_url': u'https://api.github.com/users/xxg1413/followers', u'following_url': u'https://api.github.com/users/xxg1413/following{/other_user}', u'blog': None, u'followers': 116, u'location': u'China', u'type': u'User', u'email': u'xxg1413@gmail.com', u'bio': None, u'gists_url': u'https://api.github.com/users/xxg1413/gists{/gist_id}', u'company': None, u'events_url': u'https://api.github.com/users/xxg1413/events{/privacy}', u'html_url': u'https://github.com/xxg1413', u'updated_at': u'2016-02-16T08:09:53Z', u'received_events_url': u'https://api.github.com/users/xxg1413/received_events', u'starred_url': u'https://api.github.com/users/xxg1413/starred{/owner}{/repo}', u'public_gists': 10, u'name': u'Jimmy Xiang', u'organizations_url': u'https://api.github.com/users/xxg1413/orgs', u'url': u'https://api.github.com/users/xxg1413', u'created_at': u'2012-01-26T11:34:01Z', u'avatar_url': u'https://avatars.githubusercontent.com/u/1381803?v=3', u'repos_url': u'https://api.github.com/users/xxg1413/repos', u'following': 2, u'login': u'xxg1413'}, {u'public_repos': 23, u'site_admin': False, u'subscriptions_url': u'https://api.github.com/users/fantix/subscriptions', u'gravatar_id': u'', u'hireable': None, u'id': 1751601, u'followers_url': u'https://api.github.com/users/fantix/followers', u'following_url': u'https://api.github.com/users/fantix/following{/other_user}', u'blog': u'http://about.me/fantix', u'followers': 113, u'location': u'Beijing, China', u'type': u'User', u'email': None, u'bio': None, u'gists_url': u'https://api.github.com/users/fantix/gists{/gist_id}', u'company': None, u'events_url': u'https://api.github.com/users/fantix/events{/privacy}', u'html_url': u'https://github.com/fantix', u'updated_at': u'2016-02-22T07:13:53Z', u'received_events_url': u'https://api.github.com/users/fantix/received_events', u'starred_url': u'https://api.github.com/users/fantix/starred{/owner}{/repo}', u'public_gists': 2, u'name': u'Fantix King', u'organizations_url': u'https://api.github.com/users/fantix/orgs', u'url': u'https://api.github.com/users/fantix', u'created_at': u'2012-05-18T07:52:30Z', u'avatar_url': u'https://avatars.githubusercontent.com/u/1751601?v=3', u'repos_url': u'https://api.github.com/users/fantix/repos', u'following': 42, u'login': u'fantix'}, {u'public_repos': 67, u'site_admin': False, u'subscriptions_url': u'https://api.github.com/users/dantezhu/subscriptions', u'gravatar_id': u'', u'hireable': None, u'id': 1105212, u'followers_url': u'https://api.github.com/users/dantezhu/followers', u'following_url': u'https://api.github.com/users/dantezhu/following{/other_user}', u'blog': u'http://www.vimer.cn', u'followers': 113, u'location': u'china', u'type': u'User', u'email': u'dantezhu@qq.com', u'bio': None, u'gists_url': u'https://api.github.com/users/dantezhu/gists{/gist_id}', u'company': u'panda', u'events_url': u'https://api.github.com/users/dantezhu/events{/privacy}', u'html_url': u'https://github.com/dantezhu', u'updated_at': u'2016-02-10T03:41:06Z', u'received_events_url': u'https://api.github.com/users/dantezhu/received_events', u'starred_url': u'https://api.github.com/users/dantezhu/starred{/owner}{/repo}', u'public_gists': 1, u'name': u'nianyang zhu', u'organizations_url': u'https://api.github.com/users/dantezhu/orgs', u'url': u'https://api.github.com/users/dantezhu', u'created_at': u'2011-10-05T15:48:57Z', u'avatar_url': u'https://avatars.githubusercontent.com/u/1105212?v=3', u'repos_url': u'https://api.github.com/users/dantezhu/repos', u'following': 3, u'login': u'dantezhu'}, {u'public_repos': 41, u'site_admin': False, u'subscriptions_url': u'https://api.github.com/users/felinx/subscriptions', u'gravatar_id': u'', u'hireable': None, u'id': 127191, u'followers_url': u'https://api.github.com/users/felinx/followers', u'following_url': u'https://api.github.com/users/felinx/following{/other_user}', u'blog': u'http://feilong.me', u'followers': 110, u'location': u'Shanghai, China', u'type': u'User', u'email': None, u'bio': None, u'gists_url': u'https://api.github.com/users/felinx/gists{/gist_id}', u'company': u'Palmhold Co.,Ltd', u'events_url': u'https://api.github.com/users/felinx/events{/privacy}', u'html_url': u'https://github.com/felinx', u'updated_at': u'2015-11-20T06:23:43Z', u'received_events_url': u'https://api.github.com/users/felinx/received_events', u'starred_url': u'https://api.github.com/users/felinx/starred{/owner}{/repo}', u'public_gists': 6, u'name': u'felinx', u'organizations_url': u'https://api.github.com/users/felinx/orgs', u'url': u'https://api.github.com/users/felinx', u'created_at': u'2009-09-15T10:05:42Z', u'avatar_url': u'https://avatars.githubusercontent.com/u/127191?v=3', u'repos_url': u'https://api.github.com/users/felinx/repos', u'following': 32, u'login': u'felinx'}, {u'public_repos': 508, u'site_admin': False, u'subscriptions_url': u'https://api.github.com/users/allengaller/subscriptions', u'gravatar_id': u'', u'hireable': True, u'id': 186652, u'followers_url': u'https://api.github.com/users/allengaller/followers', u'following_url': u'https://api.github.com/users/allengaller/following{/other_user}', u'blog': u'http://allengaller.com', u'followers': 110, u'location': u'Shenzhen, China', u'type': u'User', u'email': u'allengaller@gmail.com', u'bio': None, u'gists_url': u'https://api.github.com/users/allengaller/gists{/gist_id}', u'company': u'aliyun.com', u'events_url': u'https://api.github.com/users/allengaller/events{/privacy}', u'html_url': u'https://github.com/allengaller', u'updated_at': u'2016-02-15T06:35:10Z', u'received_events_url': u'https://api.github.com/users/allengaller/received_events', u'starred_url': u'https://api.github.com/users/allengaller/starred{/owner}{/repo}', u'public_gists': 2, u'name': u'Allen Galler', u'organizations_url': u'https://api.github.com/users/allengaller/orgs', u'url': u'https://api.github.com/users/allengaller', u'created_at': u'2010-01-21T03:32:08Z', u'avatar_url': u'https://avatars.githubusercontent.com/u/186652?v=3', u'repos_url': u'https://api.github.com/users/allengaller/repos', u'following': 770, u'login': u'allengaller'}, {u'public_repos': 95, u'site_admin': False, u'subscriptions_url': u'https://api.github.com/users/littleq0903/subscriptions', u'gravatar_id': u'', u'hireable': None, u'id': 374786, u'followers_url': u'https://api.github.com/users/littleq0903/followers', u'following_url': u'https://api.github.com/users/littleq0903/following{/other_user}', u'blog': u'http://about.me/littleq', u'followers': 108, u'location': u'Beijing, China', u'type': u'User', u'email': u'littleq0903@gmail.com', u'bio': None, u'gists_url': u'https://api.github.com/users/littleq0903/gists{/gist_id}', u'company': u'Microsoft', u'events_url': u'https://api.github.com/users/littleq0903/events{/privacy}', u'html_url': u'https://github.com/littleq0903', u'updated_at': u'2016-02-23T07:00:51Z', u'received_events_url': u'https://api.github.com/users/littleq0903/received_events', u'starred_url': u'https://api.github.com/users/littleq0903/starred{/owner}{/repo}', u'public_gists': 40, u'name': u'Colin Su', u'organizations_url': u'https://api.github.com/users/littleq0903/orgs', u'url': u'https://api.github.com/users/littleq0903', u'created_at': u'2010-08-24T16:45:53Z', u'avatar_url': u'https://avatars.githubusercontent.com/u/374786?v=3', u'repos_url': u'https://api.github.com/users/littleq0903/repos', u'following': 184, u'login': u'littleq0903'}, {u'public_repos': 78, u'site_admin': False, u'subscriptions_url': u'https://api.github.com/users/cloudaice/subscriptions', u'gravatar_id': u'', u'hireable': True, u'id': 747028, u'followers_url': u'https://api.github.com/users/cloudaice/followers', u'following_url': u'https://api.github.com/users/cloudaice/following{/other_user}', u'blog': u'cloudaice.com', u'followers': 108, u'location': u'Beijing china', u'type': u'User', u'email': u'cloudaice@gmail.com', u'bio': None, u'gists_url': u'https://api.github.com/users/cloudaice/gists{/gist_id}', u'company': u'XIAOMI', u'events_url': u'https://api.github.com/users/cloudaice/events{/privacy}', u'html_url': u'https://github.com/cloudaice', u'updated_at': u'2016-01-17T07:12:22Z', u'received_events_url': u'https://api.github.com/users/cloudaice/received_events', u'starred_url': u'https://api.github.com/users/cloudaice/starred{/owner}{/repo}', u'public_gists': 26, u'name': u'\\u9879\\u8d85', u'organizations_url': u'https://api.github.com/users/cloudaice/orgs', u'url': u'https://api.github.com/users/cloudaice', u'created_at': u'2011-04-23T05:15:03Z', u'avatar_url': u'https://avatars.githubusercontent.com/u/747028?v=3', u'repos_url': u'https://api.github.com/users/cloudaice/repos', u'following': 47, u'login': u'cloudaice'}, {u'public_repos': 59, u'site_admin': False, u'subscriptions_url': u'https://api.github.com/users/cedricporter/subscriptions', u'gravatar_id': u'', u'hireable': None, u'id': 1559563, u'followers_url': u'https://api.github.com/users/cedricporter/followers', u'following_url': u'https://api.github.com/users/cedricporter/following{/other_user}', u'blog': u'http://everet.org/', u'followers': 108, u'location': u'Guangzhou, China', u'type': u'User', u'email': u'et@everet.org', u'bio': None, u'gists_url': u'https://api.github.com/users/cedricporter/gists{/gist_id}', u'company': None, u'events_url': u'https://api.github.com/users/cedricporter/events{/privacy}', u'html_url': u'https://github.com/cedricporter', u'updated_at': u'2016-02-13T16:12:59Z', u'received_events_url': u'https://api.github.com/users/cedricporter/received_events', u'starred_url': u'https://api.github.com/users/cedricporter/starred{/owner}{/repo}', u'public_gists': 12, u'name': u'Stupid ET', u'organizations_url': u'https://api.github.com/users/cedricporter/orgs', u'url': u'https://api.github.com/users/cedricporter', u'created_at': u'2012-03-21T03:46:10Z', u'avatar_url': u'https://avatars.githubusercontent.com/u/1559563?v=3', u'repos_url': u'https://api.github.com/users/cedricporter/repos', u'following': 145, u'login': u'cedricporter'}, {u'public_repos': 8, u'site_admin': False, u'subscriptions_url': u'https://api.github.com/users/yinian1992/subscriptions', u'gravatar_id': u'', u'hireable': None, u'id': 435060, u'followers_url': u'https://api.github.com/users/yinian1992/followers', u'following_url': u'https://api.github.com/users/yinian1992/following{/other_user}', u'blog': None, u'followers': 107, u'location': u'China', u'type': u'User', u'email': u'yinian@jinkan.org', u'bio': None, u'gists_url': u'https://api.github.com/users/yinian1992/gists{/gist_id}', u'company': u'Aperture Science', u'events_url': u'https://api.github.com/users/yinian1992/events{/privacy}', u'html_url': u'https://github.com/yinian1992', u'updated_at': u'2016-02-18T13:38:35Z', u'received_events_url': u'https://api.github.com/users/yinian1992/received_events', u'starred_url': u'https://api.github.com/users/yinian1992/starred{/owner}{/repo}', u'public_gists': 8, u'name': u'\\u4ea6\\u5ff5', u'organizations_url': u'https://api.github.com/users/yinian1992/orgs', u'url': u'https://api.github.com/users/yinian1992', u'created_at': u'2010-10-11T08:09:02Z', u'avatar_url': u'https://avatars.githubusercontent.com/u/435060?v=3', u'repos_url': u'https://api.github.com/users/yinian1992/repos', u'following': 36, u'login': u'yinian1992'}, {u'public_repos': 74, u'site_admin': False, u'subscriptions_url': u'https://api.github.com/users/adieu/subscriptions', u'gravatar_id': u'', u'hireable': None, u'id': 17115, u'followers_url': u'https://api.github.com/users/adieu/followers', u'following_url': u'https://api.github.com/users/adieu/following{/other_user}', u'blog': u'http://www.adieu.me', u'followers': 106, u'location': u'Shanghai, China', u'type': u'User', u'email': u'adieu@adieu.me', u'bio': None, u'gists_url': u'https://api.github.com/users/adieu/gists{/gist_id}', u'company': None, u'events_url': u'https://api.github.com/users/adieu/events{/privacy}', u'html_url': u'https://github.com/adieu', u'updated_at': u'2016-02-17T10:02:46Z', u'received_events_url': u'https://api.github.com/users/adieu/received_events', u'starred_url': u'https://api.github.com/users/adieu/starred{/owner}{/repo}', u'public_gists': 3, u'name': u'Adieu', u'organizations_url': u'https://api.github.com/users/adieu/orgs', u'url': u'https://api.github.com/users/adieu', u'created_at': u'2008-07-15T13:57:27Z', u'avatar_url': u'https://avatars.githubusercontent.com/u/17115?v=3', u'repos_url': u'https://api.github.com/users/adieu/repos', u'following': 12, u'login': u'adieu'}, {u'public_repos': 77, u'site_admin': False, u'subscriptions_url': u'https://api.github.com/users/ifduyue/subscriptions', u'gravatar_id': u'', u'hireable': None, u'id': 568900, u'followers_url': u'https://api.github.com/users/ifduyue/followers', u'following_url': u'https://api.github.com/users/ifduyue/following{/other_user}', u'blog': None, u'followers': 106, u'location': u'China', u'type': u'User', u'email': u'ifduyue@gmail.com', u'bio': None, u'gists_url': u'https://api.github.com/users/ifduyue/gists{/gist_id}', u'company': None, u'events_url': u'https://api.github.com/users/ifduyue/events{/privacy}', u'html_url': u'https://github.com/ifduyue', u'updated_at': u'2016-02-18T02:53:23Z', u'received_events_url': u'https://api.github.com/users/ifduyue/received_events', u'starred_url': u'https://api.github.com/users/ifduyue/starred{/owner}{/repo}', u'public_gists': 33, u'name': u'Yue Du', u'organizations_url': u'https://api.github.com/users/ifduyue/orgs', u'url': u'https://api.github.com/users/ifduyue', u'created_at': u'2011-01-17T14:11:34Z', u'avatar_url': u'https://avatars.githubusercontent.com/u/568900?v=3', u'repos_url': u'https://api.github.com/users/ifduyue/repos', u'following': 88, u'login': u'ifduyue'}, {u'public_repos': 123, u'site_admin': False, u'subscriptions_url': u'https://api.github.com/users/technologiclee/subscriptions', u'gravatar_id': u'', u'hireable': True, u'id': 93859, u'followers_url': u'https://api.github.com/users/technologiclee/followers', u'following_url': u'https://api.github.com/users/technologiclee/following{/other_user}', u'blog': u'http://www.google.com/profiles/technologiclee', u'followers': 106, u'location': u'Shenzhen China', u'type': u'User', u'email': u'technologiclee@gmail.com', u'bio': None, u'gists_url': u'https://api.github.com/users/technologiclee/gists{/gist_id}', u'company': u'looking for startups', u'events_url': u'https://api.github.com/users/technologiclee/events{/privacy}', u'html_url': u'https://github.com/technologiclee', u'updated_at': u'2016-02-07T16:04:58Z', u'received_events_url': u'https://api.github.com/users/technologiclee/received_events', u'starred_url': u'https://api.github.com/users/technologiclee/starred{/owner}{/repo}', u'public_gists': 3, u'name': u'Lee Nelson', u'organizations_url': u'https://api.github.com/users/technologiclee/orgs', u'url': u'https://api.github.com/users/technologiclee', u'created_at': u'2009-06-10T05:55:15Z', u'avatar_url': u'https://avatars.githubusercontent.com/u/93859?v=3', u'repos_url': u'https://api.github.com/users/technologiclee/repos', u'following': 7660, u'login': u'technologiclee'}, {u'public_repos': 34, u'site_admin': False, u'subscriptions_url': u'https://api.github.com/users/yejianye/subscriptions', u'gravatar_id': u'', u'hireable': None, u'id': 58540, u'followers_url': u'https://api.github.com/users/yejianye/followers', u'following_url': u'https://api.github.com/users/yejianye/following{/other_user}', u'blog': u'http://yejianye.com', u'followers': 105, u'location': u'Shanghai, China', u'type': u'User', u'email': u'yejianye@gmail.com', u'bio': None, u'gists_url': u'https://api.github.com/users/yejianye/gists{/gist_id}', u'company': u'Glow Inc.', u'events_url': u'https://api.github.com/users/yejianye/events{/privacy}', u'html_url': u'https://github.com/yejianye', u'updated_at': u'2016-02-22T06:13:43Z', u'received_events_url': u'https://api.github.com/users/yejianye/received_events', u'starred_url': u'https://api.github.com/users/yejianye/starred{/owner}{/repo}', u'public_gists': 9, u'name': u'Ryan Ye', u'organizations_url': u'https://api.github.com/users/yejianye/orgs', u'url': u'https://api.github.com/users/yejianye', u'created_at': u'2009-02-27T12:52:52Z', u'avatar_url': u'https://avatars.githubusercontent.com/u/58540?v=3', u'repos_url': u'https://api.github.com/users/yejianye/repos', u'following': 5, u'login': u'yejianye'}, {u'public_repos': 55, u'site_admin': False, u'subscriptions_url': u'https://api.github.com/users/jackyyf/subscriptions', u'gravatar_id': u'', u'hireable': True, u'id': 2260355, u'followers_url': u'https://api.github.com/users/jackyyf/followers', u'following_url': u'https://api.github.com/users/jackyyf/following{/other_user}', u'blog': u'https://jackyyf.com', u'followers': 104, u'location': u'Shanghai, China', u'type': u'User', u'email': u'root@jackyyf.com', u'bio': None, u'gists_url': u'https://api.github.com/users/jackyyf/gists{/gist_id}', u'company': u'Fudan University', u'events_url': u'https://api.github.com/users/jackyyf/events{/privacy}', u'html_url': u'https://github.com/jackyyf', u'updated_at': u'2016-02-22T20:24:06Z', u'received_events_url': u'https://api.github.com/users/jackyyf/received_events', u'starred_url': u'https://api.github.com/users/jackyyf/starred{/owner}{/repo}', u'public_gists': 44, u'name': u'Yifu Yu', u'organizations_url': u'https://api.github.com/users/jackyyf/orgs', u'url': u'https://api.github.com/users/jackyyf', u'created_at': u'2012-09-01T11:52:45Z', u'avatar_url': u'https://avatars.githubusercontent.com/u/2260355?v=3', u'repos_url': u'https://api.github.com/users/jackyyf/repos', u'following': 50, u'login': u'jackyyf'}, {u'public_repos': 21, u'site_admin': False, u'subscriptions_url': u'https://api.github.com/users/yanghua/subscriptions', u'gravatar_id': u'', u'hireable': True, u'id': 2283778, u'followers_url': u'https://api.github.com/users/yanghua/followers', u'following_url': u'https://api.github.com/users/yanghua/following{/other_user}', u'blog': u'http://vinoyang.com', u'followers': 104, u'location': u'Nanjing, China', u'type': u'User', u'email': u'yanghua1127@gmail.com', u'bio': None, u'gists_url': u'https://api.github.com/users/yanghua/gists{/gist_id}', u'company': None, u'events_url': u'https://api.github.com/users/yanghua/events{/privacy}', u'html_url': u'https://github.com/yanghua', u'updated_at': u'2015-11-26T02:29:17Z', u'received_events_url': u'https://api.github.com/users/yanghua/received_events', u'starred_url': u'https://api.github.com/users/yanghua/starred{/owner}{/repo}', u'public_gists': 6, u'name': u'vinoyang', u'organizations_url': u'https://api.github.com/users/yanghua/orgs', u'url': u'https://api.github.com/users/yanghua', u'created_at': u'2012-09-05T09:30:05Z', u'avatar_url': u'https://avatars.githubusercontent.com/u/2283778?v=3', u'repos_url': u'https://api.github.com/users/yanghua/repos', u'following': 11, u'login': u'yanghua'}, {u'public_repos': 26, u'site_admin': False, u'subscriptions_url': u'https://api.github.com/users/reverland/subscriptions', u'gravatar_id': u'', u'hireable': True, u'id': 1418726, u'followers_url': u'https://api.github.com/users/reverland/followers', u'following_url': u'https://api.github.com/users/reverland/following{/other_user}', u'blog': u'http://reverland.org', u'followers': 100, u'location': u'Beijing, China', u'type': u'User', u'email': u'lhtlyy@gmail.com', u'bio': None, u'gists_url': u'https://api.github.com/users/reverland/gists{/gist_id}', u'company': u'Beijing University of Posts and Telecommunications', u'events_url': u'https://api.github.com/users/reverland/events{/privacy}', u'html_url': u'https://github.com/reverland', u'updated_at': u'2016-02-18T08:25:31Z', u'received_events_url': u'https://api.github.com/users/reverland/received_events', u'starred_url': u'https://api.github.com/users/reverland/starred{/owner}{/repo}', u'public_gists': 0, u'name': u'Liu Yuyang', u'organizations_url': u'https://api.github.com/users/reverland/orgs', u'url': u'https://api.github.com/users/reverland', u'created_at': u'2012-02-08T07:20:57Z', u'avatar_url': u'https://avatars.githubusercontent.com/u/1418726?v=3', u'repos_url': u'https://api.github.com/users/reverland/repos', u'following': 108, u'login': u'reverland'}, {u'public_repos': 16, u'site_admin': False, u'subscriptions_url': u'https://api.github.com/users/Oneplus/subscriptions', u'gravatar_id': u'', u'hireable': None, u'id': 745499, u'followers_url': u'https://api.github.com/users/Oneplus/followers', u'following_url': u'https://api.github.com/users/Oneplus/following{/other_user}', u'blog': u'http://yjliu.net', u'followers': 100, u'location': u'Harbin, China', u'type': u'User', u'email': u'oneplus.lau@gmail.com', u'bio': None, u'gists_url': u'https://api.github.com/users/Oneplus/gists{/gist_id}', u'company': None, u'events_url': u'https://api.github.com/users/Oneplus/events{/privacy}', u'html_url': u'https://github.com/Oneplus', u'updated_at': u'2015-11-28T08:10:45Z', u'received_events_url': u'https://api.github.com/users/Oneplus/received_events', u'starred_url': u'https://api.github.com/users/Oneplus/starred{/owner}{/repo}', u'public_gists': 5, u'name': u'Yijia Liu', u'organizations_url': u'https://api.github.com/users/Oneplus/orgs', u'url': u'https://api.github.com/users/Oneplus', u'created_at': u'2011-04-22T08:36:32Z', u'avatar_url': u'https://avatars.githubusercontent.com/u/745499?v=3', u'repos_url': u'https://api.github.com/users/Oneplus/repos', u'following': 23, u'login': u'Oneplus'}, {u'public_repos': 27, u'site_admin': False, u'subscriptions_url': u'https://api.github.com/users/auxten/subscriptions', u'gravatar_id': u'', u'hireable': True, u'id': 240147, u'followers_url': u'https://api.github.com/users/auxten/followers', u'following_url': u'https://api.github.com/users/auxten/following{/other_user}', u'blog': u'https://www.zhihu.com/people/auxten', u'followers': 99, u'location': u'beijing,China', u'type': u'User', u'email': u'auxtenwpc@gmail.com', u'bio': None, u'gists_url': u'https://api.github.com/users/auxten/gists{/gist_id}', u'company': u'Baidu', u'events_url': u'https://api.github.com/users/auxten/events{/privacy}', u'html_url': u'https://github.com/auxten', u'updated_at': u'2016-01-05T05:42:28Z', u'received_events_url': u'https://api.github.com/users/auxten/received_events', u'starred_url': u'https://api.github.com/users/auxten/starred{/owner}{/repo}', u'public_gists': 0, u'name': u'auxten', u'organizations_url': u'https://api.github.com/users/auxten/orgs', u'url': u'https://api.github.com/users/auxten', u'created_at': u'2010-04-09T09:00:05Z', u'avatar_url': u'https://avatars.githubusercontent.com/u/240147?v=3', u'repos_url': u'https://api.github.com/users/auxten/repos', u'following': 17, u'login': u'auxten'}, {u'public_repos': 17, u'site_admin': False, u'subscriptions_url': u'https://api.github.com/users/piglei/subscriptions', u'gravatar_id': u'', u'hireable': None, u'id': 731266, u'followers_url': u'https://api.github.com/users/piglei/followers', u'following_url': u'https://api.github.com/users/piglei/following{/other_user}', u'blog': u'http://www.zlovezl.cn', u'followers': 95, u'location': u'ShenZhen, China', u'type': u'User', u'email': u'piglei2007@gmail.com', u'bio': None, u'gists_url': u'https://api.github.com/users/piglei/gists{/gist_id}', u'company': u'Tencent', u'events_url': u'https://api.github.com/users/piglei/events{/privacy}', u'html_url': u'https://github.com/piglei', u'updated_at': u'2016-02-01T07:25:24Z', u'received_events_url': u'https://api.github.com/users/piglei/received_events', u'starred_url': u'https://api.github.com/users/piglei/starred{/owner}{/repo}', u'public_gists': 1, u'name': u'piglei', u'organizations_url': u'https://api.github.com/users/piglei/orgs', u'url': u'https://api.github.com/users/piglei', u'created_at': u'2011-04-15T10:18:47Z', u'avatar_url': u'https://avatars.githubusercontent.com/u/731266?v=3', u'repos_url': u'https://api.github.com/users/piglei/repos', u'following': 44, u'login': u'piglei'}, {u'public_repos': 8, u'site_admin': False, u'subscriptions_url': u'https://api.github.com/users/SerhoLiu/subscriptions', u'gravatar_id': u'', u'hireable': None, u'id': 1080404, u'followers_url': u'https://api.github.com/users/SerhoLiu/followers', u'following_url': u'https://api.github.com/users/SerhoLiu/following{/other_user}', u'blog': u'http://serholiu.com', u'followers': 92, u'location': u'Chengdu China', u'type': u'User', u'email': None, u'bio': None, u'gists_url': u'https://api.github.com/users/SerhoLiu/gists{/gist_id}', u'company': u'SL.', u'events_url': u'https://api.github.com/users/SerhoLiu/events{/privacy}', u'html_url': u'https://github.com/SerhoLiu', u'updated_at': u'2016-02-23T13:36:10Z', u'received_events_url': u'https://api.github.com/users/SerhoLiu/received_events', u'starred_url': u'https://api.github.com/users/SerhoLiu/starred{/owner}{/repo}', u'public_gists': 5, u'name': u'Serho Liu', u'organizations_url': u'https://api.github.com/users/SerhoLiu/orgs', u'url': u'https://api.github.com/users/SerhoLiu', u'created_at': u'2011-09-26T11:38:14Z', u'avatar_url': u'https://avatars.githubusercontent.com/u/1080404?v=3', u'repos_url': u'https://api.github.com/users/SerhoLiu/repos', u'following': 1, u'login': u'SerhoLiu'}, {u'public_repos': 32, u'site_admin': False, u'subscriptions_url': u'https://api.github.com/users/hepochen/subscriptions', u'gravatar_id': u'', u'hireable': None, u'id': 396846, u'followers_url': u'https://api.github.com/users/hepochen/followers', u'following_url': u'https://api.github.com/users/hepochen/following{/other_user}', u'blog': None, u'followers': 92, u'location': u'Hangzhou, China', u'type': u'User', u'email': None, u'bio': None, u'gists_url': u'https://api.github.com/users/hepochen/gists{/gist_id}', u'company': None, u'events_url': u'https://api.github.com/users/hepochen/events{/privacy}', u'html_url': u'https://github.com/hepochen', u'updated_at': u'2015-11-25T14:47:20Z', u'received_events_url': u'https://api.github.com/users/hepochen/received_events', u'starred_url': u'https://api.github.com/users/hepochen/starred{/owner}{/repo}', u'public_gists': 2, u'name': None, u'organizations_url': u'https://api.github.com/users/hepochen/orgs', u'url': u'https://api.github.com/users/hepochen', u'created_at': u'2010-09-13T00:27:26Z', u'avatar_url': u'https://avatars.githubusercontent.com/u/396846?v=3', u'repos_url': u'https://api.github.com/users/hepochen/repos', u'following': 12, u'login': u'hepochen'}, {u'public_repos': 13, u'site_admin': False, u'subscriptions_url': u'https://api.github.com/users/xiahouzuoxin/subscriptions', u'gravatar_id': u'', u'hireable': True, u'id': 4554770, u'followers_url': u'https://api.github.com/users/xiahouzuoxin/followers', u'following_url': u'https://api.github.com/users/xiahouzuoxin/following{/other_user}', u'blog': u'https://xiahouzuoxin.github.io', u'followers': 91, u'location': u'Hangzhou, China', u'type': u'User', u'email': u'xiahouzuoxin@163.com', u'bio': None, u'gists_url': u'https://api.github.com/users/xiahouzuoxin/gists{/gist_id}', u'company': None, u'events_url': u'https://api.github.com/users/xiahouzuoxin/events{/privacy}', u'html_url': u'https://github.com/xiahouzuoxin', u'updated_at': u'2016-02-21T01:35:18Z', u'received_events_url': u'https://api.github.com/users/xiahouzuoxin/received_events', u'starred_url': u'https://api.github.com/users/xiahouzuoxin/starred{/owner}{/repo}', u'public_gists': 0, u'name': u'xiahouzuoxin', u'organizations_url': u'https://api.github.com/users/xiahouzuoxin/orgs', u'url': u'https://api.github.com/users/xiahouzuoxin', u'created_at': u'2013-05-29T01:05:12Z', u'avatar_url': u'https://avatars.githubusercontent.com/u/4554770?v=3', u'repos_url': u'https://api.github.com/users/xiahouzuoxin/repos', u'following': 17, u'login': u'xiahouzuoxin'}, {u'public_repos': 19, u'site_admin': False, u'subscriptions_url': u'https://api.github.com/users/manateelazycat/subscriptions', u'gravatar_id': u'', u'hireable': None, u'id': 237487, u'followers_url': u'https://api.github.com/users/manateelazycat/followers', u'following_url': u'https://api.github.com/users/manateelazycat/following{/other_user}', u'blog': u'http://haskell.org/haskellwiki/Manatee', u'followers': 90, u'location': u'China', u'type': u'User', u'email': u'lazycat.manatee@gmail.com', u'bio': None, u'gists_url': u'https://api.github.com/users/manateelazycat/gists{/gist_id}', u'company': u'Linux Deepin Team', u'events_url': u'https://api.github.com/users/manateelazycat/events{/privacy}', u'html_url': u'https://github.com/manateelazycat', u'updated_at': u'2016-01-04T10:38:07Z', u'received_events_url': u'https://api.github.com/users/manateelazycat/received_events', u'starred_url': u'https://api.github.com/users/manateelazycat/starred{/owner}{/repo}', u'public_gists': 0, u'name': u'Andy Stewart', u'organizations_url': u'https://api.github.com/users/manateelazycat/orgs', u'url': u'https://api.github.com/users/manateelazycat', u'created_at': u'2010-04-05T21:41:57Z', u'avatar_url': u'https://avatars.githubusercontent.com/u/237487?v=3', u'repos_url': u'https://api.github.com/users/manateelazycat/repos', u'following': 0, u'login': u'manateelazycat'}, {u'public_repos': 59, u'site_admin': False, u'subscriptions_url': u'https://api.github.com/users/jollychang/subscriptions', u'gravatar_id': u'', u'hireable': None, u'id': 64213, u'followers_url': u'https://api.github.com/users/jollychang/followers', u'following_url': u'https://api.github.com/users/jollychang/following{/other_user}', u'blog': u'http://testlog.jollychang.com', u'followers': 90, u'location': u'Beijing,China', u'type': u'User', u'email': u'jollychang@gmail.com', u'bio': None, u'gists_url': u'https://api.github.com/users/jollychang/gists{/gist_id}', u'company': u'Zhihu', u'events_url': u'https://api.github.com/users/jollychang/events{/privacy}', u'html_url': u'https://github.com/jollychang', u'updated_at': u'2016-01-18T03:32:00Z', u'received_events_url': u'https://api.github.com/users/jollychang/received_events', u'starred_url': u'https://api.github.com/users/jollychang/starred{/owner}{/repo}', u'public_gists': 83, u'name': u'William Zhang', u'organizations_url': u'https://api.github.com/users/jollychang/orgs', u'url': u'https://api.github.com/users/jollychang', u'created_at': u'2009-03-17T09:40:01Z', u'avatar_url': u'https://avatars.githubusercontent.com/u/64213?v=3', u'repos_url': u'https://api.github.com/users/jollychang/repos', u'following': 40, u'login': u'jollychang'}, {u'public_repos': 21, u'site_admin': False, u'subscriptions_url': u'https://api.github.com/users/muzuiget/subscriptions', u'gravatar_id': u'', u'hireable': None, u'id': 330812, u'followers_url': u'https://api.github.com/users/muzuiget/followers', u'following_url': u'https://api.github.com/users/muzuiget/following{/other_user}', u'blog': u'http://qixinglu.com', u'followers': 88, u'location': u'Guangzhou, China', u'type': u'User', u'email': u'muzuiget@gmail.com', u'bio': None, u'gists_url': u'https://api.github.com/users/muzuiget/gists{/gist_id}', u'company': None, u'events_url': u'https://api.github.com/users/muzuiget/events{/privacy}', u'html_url': u'https://github.com/muzuiget', u'updated_at': u'2016-02-18T16:07:40Z', u'received_events_url': u'https://api.github.com/users/muzuiget/received_events', u'starred_url': u'https://api.github.com/users/muzuiget/starred{/owner}{/repo}', u'public_gists': 3, u'name': u'muzuiget', u'organizations_url': u'https://api.github.com/users/muzuiget/orgs', u'url': u'https://api.github.com/users/muzuiget', u'created_at': u'2010-07-13T13:45:33Z', u'avatar_url': u'https://avatars.githubusercontent.com/u/330812?v=3', u'repos_url': u'https://api.github.com/users/muzuiget/repos', u'following': 0, u'login': u'muzuiget'}, {u'public_repos': 22, u'site_admin': False, u'subscriptions_url': u'https://api.github.com/users/allenm/subscriptions', u'gravatar_id': u'', u'hireable': True, u'id': 237176, u'followers_url': u'https://api.github.com/users/allenm/followers', u'following_url': u'https://api.github.com/users/allenm/following{/other_user}', u'blog': u'http://blog.allenm.me', u'followers': 87, u'location': u'hangzhou, china', u'type': u'User', u'email': u'github@allenm.me', u'bio': None, u'gists_url': u'https://api.github.com/users/allenm/gists{/gist_id}', u'company': u'Alibaba', u'events_url': u'https://api.github.com/users/allenm/events{/privacy}', u'html_url': u'https://github.com/allenm', u'updated_at': u'2016-02-19T13:53:26Z', u'received_events_url': u'https://api.github.com/users/allenm/received_events', u'starred_url': u'https://api.github.com/users/allenm/starred{/owner}{/repo}', u'public_gists': 5, u'name': u'Allen.M', u'organizations_url': u'https://api.github.com/users/allenm/orgs', u'url': u'https://api.github.com/users/allenm', u'created_at': u'2010-04-05T13:27:11Z', u'avatar_url': u'https://avatars.githubusercontent.com/u/237176?v=3', u'repos_url': u'https://api.github.com/users/allenm/repos', u'following': 52, u'login': u'allenm'}]\n"
       ]
      }
     ],
     "prompt_number": 8
    },
    {
     "cell_type": "code",
     "collapsed": false,
     "input": [],
     "language": "python",
     "metadata": {},
     "outputs": []
    }
   ],
   "metadata": {}
  }
 ]
}