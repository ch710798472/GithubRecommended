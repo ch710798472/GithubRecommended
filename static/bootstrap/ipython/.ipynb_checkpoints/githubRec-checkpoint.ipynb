{
 "metadata": {
  "name": ""
 },
 "nbformat": 3,
 "nbformat_minor": 0,
 "worksheets": [
  {
   "cells": [
    {
     "cell_type": "code",
     "collapsed": false,
     "input": [
      "import requests\n",
      "import json\n",
      "from github import Github\n",
      "import networkx as nx\n",
      "from operator import itemgetter\n",
      "from collections import Counter\n",
      "from networkx.readwrite import json_graph\n",
      "import webbrowser\n",
      "import os"
     ],
     "language": "python",
     "metadata": {},
     "outputs": []
    },
    {
     "cell_type": "code",
     "collapsed": false,
     "input": [
      "ACCESS_TOKEN = '1161b718b9555cd76bf7ff9070c8f1ba300ea885'\n",
      "USER = 'edx'\n",
      "REPO = 'edx-documentation'\n",
      "client = Github(ACCESS_TOKEN, per_page=100)\n",
      "user = client.get_user(USER)\n",
      "repo = user.get_repo(REPO)\n",
      "\n",
      "stargazers = [ s for s in repo.get_stargazers() ] #\u53ef\u4ee5\u5148\u5bf9\u8fd9\u4e9b\u4eba\u6570\u8fdb\u884c\u5206\u7c7b>\u9650\u5236\n",
      "print \"\u5173\u6ce8\u4eba\u7684\u6570\u76ee: %d \\n\" % len(stargazers) #\u5982\u679c\u4eba\u6570\u5f88\u591a\uff0c\u901f\u5ea6\u5f88\u6162"
     ],
     "language": "python",
     "metadata": {},
     "outputs": []
    },
    {
     "cell_type": "code",
     "collapsed": false,
     "input": [
      "for s in repo.get_forks():\n",
      "    print s.get_"
     ],
     "language": "python",
     "metadata": {},
     "outputs": []
    },
    {
     "cell_type": "code",
     "collapsed": false,
     "input": [
      "g = nx.DiGraph()\n",
      "    g.add_node(repo.name + '(r)', type='repo', lang=repo.language, owner=user.login)\n",
      "\n",
      "    for sg in stargazers:\n",
      "        g.add_node(sg.login + '(u)', type='user')\n",
      "        g.add_edge(sg.login + '(u)', repo.name + '(r)', type='gazes')\n",
      "        print sg.login + '(u)'\n",
      "\n",
      "    for i, sg in enumerate(stargazers):\n",
      "        try:\n",
      "            for follower in sg.get_followers():\n",
      "                if follower.login + '(u)' in g:\n",
      "                    g.add_edge(follower.login + '(u)', sg.login + '(u)', type='follows')\n",
      "        except Exception, e:\n",
      "            print \"\u83b7\u53d6\u8ffd\u968f\u8005\u5931\u8d25\uff0c\u8df3\u8fc7\", sg.login, e\n",
      "\n",
      "        print \"\u6b63\u5728\u5904\u7406\u7b2c\", i+1, \" \u4e2a\u5173\u6ce8\u8005\u3002\"\n",
      "    c = Counter([e[1] for e in g.edges_iter(data=True) if e[2]['type'] == 'follows'])\n",
      "    popular_users = [(u, f) for (u, f) in c.most_common() if f > 1]\n",
      "    print \"\u53d7\u6b22\u8fce\u7684\u7528\u6237\u6570\u76ee\uff1a\", len(popular_users)\n",
      "    print \"\u6700\u53d7\u6b22\u8fce\u768410\u4e2a\u7528\u6237\uff1a\", popular_users[:10]"
     ],
     "language": "python",
     "metadata": {},
     "outputs": []
    },
    {
     "cell_type": "code",
     "collapsed": false,
     "input": [
      "MAX_REPOS = 500\n",
      "\n",
      "    for i, sg in enumerate(stargazers):\n",
      "        print sg.login\n",
      "        try:\n",
      "            for starred in sg.get_starred()[:MAX_REPOS]: # Slice to avoid supernodes\n",
      "                g.add_node(starred.name + '(r)', type='repo', lang=starred.language, owner=starred.owner.login)\n",
      "                g.add_edge(sg.login + '(u)', starred.name + '(r)', type='gazes')\n",
      "        except Exception, e: #ssl.SSLError:\n",
      "            print \"\u83b7\u53d6\u52a0\u661f\u4ed3\u5e93\u5931\u8d25\u3000\", sg.login, \"\u8df3\u8fc7.\"\n",
      "\n",
      "        print \"\u6b63\u5728\u5904\u7406\", i+1, \"\u52a0\u661f\u7684\u4ed3\u5e93\"\n",
      "    filename = \"1.1\"\n",
      "    nx.write_gpickle(g, filename)\n",
      "\n",
      "    d = json_graph.node_link_data(g)\n",
      "    filename = \"1.json\"\n",
      "    json.dump(d, open(filename, 'w'))"
     ],
     "language": "python",
     "metadata": {},
     "outputs": []
    },
    {
     "cell_type": "code",
     "collapsed": false,
     "input": [
      "g = nx.read_gpickle(\"1.1\")"
     ],
     "language": "python",
     "metadata": {},
     "outputs": []
    },
    {
     "cell_type": "code",
     "collapsed": false,
     "input": [
      "print nx.info(g)\n",
      "data = {}\n",
      "for n in g.nodes_iter():\n",
      "    if (g.node[n]['type'] == 'repo' and g.node[n]['lang'] not in data and g.node[n]['lang']):\n",
      "        data[ g.node[n]['lang']] = 1\n",
      "    elif (g.node[n]['type'] == 'repo' and g.node[n]['lang'] in data and g.node[n]['lang']) :\n",
      "        data[ g.node[n]['lang']] = data[ g.node[n]['lang']]+ 1\n",
      "    else:\n",
      "        pass\n",
      "sumRepo = sum([v for k,v in data.iteritems()])\n",
      "data1 =  sorted(data.iteritems(), key=lambda d:d[1], reverse = True )[:9]#\u6392\u5e8f\u8f93\u51fa\n",
      "others = 0\n",
      "for v in data1:\n",
      "    others = others + v[1]\n",
      "others =  sumRepo - others\n",
      "dothers = [unicode('others', \"UTF-8\"),others]\n",
      "data1.append(dothers)\n",
      "print sumRepo\n",
      "print others\n",
      "print data1\n",
      "json.dump(data1, open('1.1.pie', 'w'))"
     ],
     "language": "python",
     "metadata": {},
     "outputs": []
    },
    {
     "cell_type": "code",
     "collapsed": false,
     "input": [
      "print \"Popular repositories\"\n",
      "data2 = sorted([(n,d) for (n,d) in g.in_degree_iter() if g.node[n]['type'] == 'repo'], key=itemgetter(1), reverse=True)[:10]\n",
      "print data2\n",
      "json.dump(data2, open('1.1.rect', 'w'))"
     ],
     "language": "python",
     "metadata": {},
     "outputs": []
    },
    {
     "cell_type": "code",
     "collapsed": false,
     "input": [
      "USER = 'edx'\n",
      "REPO = 'edx-documentation'\n",
      "client = Github(\"ch710798472\",\"Mm456123\")\n",
      "user = client.get_user(USER)\n",
      "repo = user.get_repo(REPO)\n",
      "\n",
      "stargazers = [ s for s in repo.get_stargazers() ] #\u53ef\u4ee5\u5148\u5bf9\u8fd9\u4e9b\u4eba\u6570\u8fdb\u884c\u5206\u7c7b>\u9650\u5236\n",
      "print \"\u5173\u6ce8\u4eba\u7684\u6570\u76ee: %d \\n\" % len(stargazers) \n"
     ],
     "language": "python",
     "metadata": {},
     "outputs": []
    },
    {
     "cell_type": "code",
     "collapsed": false,
     "input": [
      "i = 1\n",
      "for sg in stargazers:\n",
      "    print i\n",
      "    print sg.login,\"-\",sg.email,\"-\",sg.avatar_url,\"-\",sg.followers,\"-\",sg.following,\"-\",sg.created_at\n",
      "    i = i + 1"
     ],
     "language": "python",
     "metadata": {},
     "outputs": []
    },
    {
     "cell_type": "code",
     "collapsed": false,
     "input": [
      "for s in repo.get_forks():\n",
      "    for x in s.get_forks():\n",
      "        print x"
     ],
     "language": "python",
     "metadata": {},
     "outputs": []
    },
    {
     "cell_type": "code",
     "collapsed": false,
     "input": [
      "r=requests.get('https://api.github.com/search/users?access_token=dff8d5a7bbc4f5240eac2fd4114dc5d0e87707ed&q=location:china&sort=followers')"
     ],
     "language": "python",
     "metadata": {},
     "outputs": []
    },
    {
     "cell_type": "code",
     "collapsed": false,
     "input": [
      "d=r.json()\n",
      "total_count = d['total_count']\n",
      "incomplete_results = d['incomplete_results']"
     ],
     "language": "python",
     "metadata": {},
     "outputs": []
    },
    {
     "cell_type": "code",
     "collapsed": false,
     "input": [
      "d = {\"items\":[]}\n",
      "url = 'https://api.github.com/search/users?q=location:china&sort=followers&per_page=100&page='\n",
      "for i in range(10):\n",
      "    print url + str(i+1)\n",
      "    newUrl = url + str(i+1)\n",
      "    r = requests.get(newUrl)\n",
      "    temp = r.json()\n",
      "    d['items'].extend(temp['items'])\n",
      "filename = \"user.json\"\n",
      "json.dump(d, open(filename, 'w'))"
     ],
     "language": "python",
     "metadata": {},
     "outputs": []
    },
    {
     "cell_type": "code",
     "collapsed": false,
     "input": [
      "t = {}\n",
      "j=0\n",
      "for i in d1['items']:\n",
      "#     print i['url']\n",
      "    r = requests.get(i['url'])\n",
      "    temp = r.json()\n",
      "    t[temp['login']] = temp\n",
      "    if (j%50)==0:\n",
      "        print j\n",
      "    j = j + 1\n",
      "filename = \"userinfo.json\"\n",
      "json.dump(t, open(filename, 'w'))"
     ],
     "language": "python",
     "metadata": {},
     "outputs": []
    },
    {
     "cell_type": "code",
     "collapsed": false,
     "input": [
      "with open(\"user.json\", \"r\") as f:\n",
      "    d1 = json.load(f)\n",
      "print d1['items']"
     ],
     "language": "python",
     "metadata": {},
     "outputs": []
    },
    {
     "cell_type": "code",
     "collapsed": false,
     "input": [
      "ACCESS_TOKEN = 'c55b7dfa48b0f4ed3ace41a124b5d35c52368604'\n",
      "client = Github(ACCESS_TOKEN, per_page=100)"
     ],
     "language": "python",
     "metadata": {},
     "outputs": []
    },
    {
     "cell_type": "code",
     "collapsed": false,
     "input": [
      "t = {}\n",
      "notdone=[]\n",
      "j=0\n",
      "for i in d1['items']:\n",
      "    try:\n",
      "        user = client.get_user(i['login'])\n",
      "        t[user._rawData['login']] = user._rawData\n",
      "    except Exception,e:\n",
      "        print \"time out\"\n",
      "        notdone.append(i['login'])\n",
      "    if (j%11)==0:\n",
      "        print j\n",
      "    j = j + 1\n",
      "filename = \"userinfo.json\"\n",
      "json.dump(t, open(filename, 'w'))"
     ],
     "language": "python",
     "metadata": {},
     "outputs": []
    },
    {
     "cell_type": "code",
     "collapsed": false,
     "input": [
      "from pprint import pprint\n",
      "pprint(vars(user))\n",
      "user._rawData['avatar_url']"
     ],
     "language": "python",
     "metadata": {},
     "outputs": []
    },
    {
     "cell_type": "code",
     "collapsed": false,
     "input": [
      "print notdone"
     ],
     "language": "python",
     "metadata": {},
     "outputs": []
    },
    {
     "cell_type": "code",
     "collapsed": false,
     "input": [
      "t1 = {}\n",
      "notdone1=[]\n",
      "j=0\n",
      "for i in notdone:\n",
      "    try:\n",
      "        user = client.get_user(i)\n",
      "        t1[user._rawData['login']] = user._rawData\n",
      "    except Exception,e:\n",
      "        print \"time out\"\n",
      "        notdone1.append(i)\n",
      "filename = \"userinfo.json\"\n",
      "json.dump(t1, open(filename, 'w'))"
     ],
     "language": "python",
     "metadata": {},
     "outputs": []
    },
    {
     "cell_type": "code",
     "collapsed": false,
     "input": [
      "with open(\"userinfo-1.json\", \"r\") as f:\n",
      "    d2 = json.load(f)\n",
      "print len(d2)"
     ],
     "language": "python",
     "metadata": {},
     "outputs": []
    },
    {
     "cell_type": "code",
     "collapsed": false,
     "input": [
      "# apendx = []\n",
      "d = []\n",
      "for i in d1['items']:\n",
      "    for k in d2:\n",
      "        try:\n",
      "            if i['login'] == k:\n",
      "#                 print k\n",
      "                d.append(d2[k])\n",
      "#                 apendx.append(k)\n",
      "        except Exception,e:\n",
      "            pass\n",
      "# print len(apendx)"
     ],
     "language": "python",
     "metadata": {},
     "outputs": []
    },
    {
     "cell_type": "code",
     "collapsed": false,
     "input": [
      "filename = \"userMoreInfo.json\"\n",
      "json.dump(d, open(filename, 'w'))"
     ],
     "language": "python",
     "metadata": {},
     "outputs": []
    },
    {
     "cell_type": "code",
     "collapsed": false,
     "input": [
      "print d[111]['avatar_url']"
     ],
     "language": "python",
     "metadata": {},
     "outputs": []
    },
    {
     "cell_type": "code",
     "collapsed": false,
     "input": [
      "#\u83b7\u53d6\u7528\u6237\u5934\u50cf\u56fe\u7247\u5e76\u4fdd\u5b58\n",
      "import os\n",
      "import urllib2\n",
      "def getImage(filePath,addr):\n",
      "\ttry:\n",
      "\t\tsplitPath = addr.split('/')\n",
      "\t\tfName = splitPath.pop()\n",
      "# \t\tprint fName\n",
      "\t\t\n",
      "\t\topen(filePath+fName, \"wb\").write(urllib2.urlopen(addr).read())\n",
      "\texcept Exception,e:\n",
      "\t\tprint \"[Error]Cant't download: %s:%s\" %(fName,e)"
     ],
     "language": "python",
     "metadata": {},
     "outputs": []
    },
    {
     "cell_type": "code",
     "collapsed": false,
     "input": [
      "#\u52a0\u8f7d\u672c\u5730\u7528\u6237\u6570\u636e\n",
      "with open(\"userMoreInfo.json\", \"r\") as f:\n",
      "    d = json.load(f)"
     ],
     "language": "python",
     "metadata": {},
     "outputs": []
    },
    {
     "cell_type": "code",
     "collapsed": false,
     "input": [
      "#\u4e0b\u8f7d\u7528\u6237\u5934\u50cf\u56fe\u7247\u7f13\u5b58\u5230\u672c\u5730\n",
      "filePath = 'userImages/'\n",
      "for i in d:\n",
      "    getImage(filePath,i['avatar_url'])"
     ],
     "language": "python",
     "metadata": {},
     "outputs": []
    },
    {
     "cell_type": "code",
     "collapsed": false,
     "input": [
      "#\u83b7\u53d6\u4e2d\u56fd\u533aC\u8bed\u8a00\u7684\u6392\u540d(\u524d\uff11\uff10\uff10\u540d)\n",
      "d = {\"items\":[]}\n",
      "url = 'https://api.github.com/search/users?sort=followers&q=location:china+language:C&per_page=100&page='\n",
      "rank_count=1\n",
      "for i in range(rank_count):\n",
      "    print url + str(i+1)\n",
      "    newUrl = url + str(i+1)\n",
      "    r = requests.get(newUrl)\n",
      "    temp = r.json()\n",
      "    d['items'].extend(temp['items'])\n",
      "filename = \"c_user.json\"\n",
      "json.dump(d, open(filename, 'w'))"
     ],
     "language": "python",
     "metadata": {},
     "outputs": []
    },
    {
     "cell_type": "code",
     "collapsed": false,
     "input": [
      "with open(\"c_user.json\", \"r\") as f:\n",
      "    d1 = json.load(f)\n",
      "ACCESS_TOKEN = 'e986ae79943cf8735d8906fd4d77182cdb3f6cd7'\n",
      "client = Github(ACCESS_TOKEN, per_page=100)\n",
      "t = {}\n",
      "notdone=[]\n",
      "j=0\n",
      "for i in d1['items']:\n",
      "    try:\n",
      "        user = client.get_user(i['login'])\n",
      "        t[user._rawData['login']] = user._rawData\n",
      "    except Exception,e:\n",
      "        print \"time out\"\n",
      "        notdone.append(i['login'])\n",
      "    if (j%11)==0:\n",
      "        print j\n",
      "    j = j + 1\n",
      "filename = \"c_userinfo.json\"\n",
      "json.dump(t, open(filename, 'w'))"
     ],
     "language": "python",
     "metadata": {},
     "outputs": []
    },
    {
     "cell_type": "code",
     "collapsed": false,
     "input": [
      "with open(\"c_userinfo.json\", \"r\") as f:\n",
      "    d2 = json.load(f)\n",
      "with open(\"c_user.json\", \"r\") as f:\n",
      "    d1 = json.load(f)\n",
      "d = []\n",
      "for i in d1['items']:\n",
      "    for k in d2:\n",
      "        try:\n",
      "            if i['login'] == k:\n",
      "#                 print k\n",
      "                d.append(d2[k])\n",
      "#                 apendx.append(k)\n",
      "        except Exception,e:\n",
      "            pass\n",
      "filename = \"c_userMoreInfo.json\"\n",
      "json.dump(d, open(filename, 'w'))\n",
      "#\u9700\u8981\u5b8c\u6210\u5934\u50cf\u7f13\u5b58\uff0c\u4f46\u662f\u4e2d\u56fd\u533a\u7684\u6392\u540d\u5927\u90e8\u5206\u5df2\u7ecf\u5305\u62ec\u4e86"
     ],
     "language": "python",
     "metadata": {},
     "outputs": []
    },
    {
     "cell_type": "code",
     "collapsed": true,
     "input": [
      "#\u83b7\u53d6\u4e2d\u56fd\u533aPython\u8bed\u8a00\u7684\u6392\u540d(\u524d\uff11\uff10\uff10\u540d)\n",
      "d = {\"items\":[]}\n",
      "url = 'https://api.github.com/search/users?sort=followers&q=location:china+language:python&per_page=100&page='\n",
      "rank_count=1\n",
      "filename = \"py_user.json\"\n",
      "filename1 = \"py_userinfo.json\"\n",
      "filename2 = \"py_userMoreInfo.json\"\n",
      "\n",
      "#\u83b7\u53d6\u6392\u540d\n",
      "for i in range(rank_count):\n",
      "    print url + str(i+1)\n",
      "    newUrl = url + str(i+1)\n",
      "    r = requests.get(newUrl)\n",
      "    temp = r.json()\n",
      "    d['items'].extend(temp['items'])\n",
      "\n",
      "json.dump(d, open(filename, 'w'))\n",
      "print 'finish rank user'\n",
      "\n",
      "#\u83b7\u53d6\u7528\u6237\u8be6\u7ec6\u4fe1\u606f\n",
      "with open(filename, \"r\") as f:\n",
      "    d1 = json.load(f)\n",
      "ACCESS_TOKEN = '0d1c6d6da836bc28b691f87dd34a1fbdc604c895'\n",
      "client = Github(ACCESS_TOKEN, per_page=100)\n",
      "t = {}\n",
      "notdone=[]\n",
      "j=0\n",
      "for i in d1['items']:\n",
      "    try:\n",
      "        user = client.get_user(i['login'])\n",
      "        t[user._rawData['login']] = user._rawData\n",
      "    except Exception,e:\n",
      "        print \"time out\"\n",
      "        notdone.append(i['login'])\n",
      "    if (j%11)==0:\n",
      "        print j\n",
      "    j = j + 1\n",
      "\n",
      "json.dump(t, open(filename1, 'w'))\n",
      "print 'finish user info'\n",
      "\n",
      "#\u91cd\u65b0\u6392\u5e8f\n",
      "with open(filename1, \"r\") as f:\n",
      "    d2 = json.load(f)\n",
      "with open(filename, \"r\") as f:\n",
      "    d1 = json.load(f)\n",
      "\n",
      "d = []\n",
      "for i in d1['items']:\n",
      "    for k in d2:\n",
      "        try:\n",
      "            if i['login'] == k:\n",
      "#                 print k\n",
      "                d.append(d2[k])\n",
      "#                 apendx.append(k)\n",
      "        except Exception,e:\n",
      "            pass\n",
      "\n",
      "json.dump(d, open(filename2, 'w'))\n",
      "print 'DONE'"
     ],
     "language": "python",
     "metadata": {},
     "outputs": []
    },
    {
     "cell_type": "code",
     "collapsed": false,
     "input": [
      "#search\u3000\n",
      "d = {\"items\":[]}\n",
      "url = 'https://api.github.com/search/users?sort=followers&q=location:china+language:python&per_page=100&page='\n",
      "rank_count=1\n",
      "\n",
      "#\u83b7\u53d6\u6392\u540d\n",
      "for i in range(rank_count):\n",
      "    print url + str(i+1)\n",
      "    newUrl = url + str(i+1)\n",
      "    r = requests.get(newUrl)\n",
      "    temp = r.json()\n",
      "    d['items'].extend(temp['items'])\n",
      "\n",
      "print 'finish rank user'\n",
      "\n",
      "#\u83b7\u53d6\u7528\u6237\u8be6\u7ec6\u4fe1\u606f\n",
      "username = 'ch710798472'\n",
      "password = 'Mm456123'\n",
      "ACCESS_TOKEN = '0d1c6d6da836bc28b691f87dd34a1fbdc604c895'\n",
      "client = Github(username,password=password, per_page=100)\n",
      "t = {}\n",
      "notdone=[]\n",
      "j=0\n",
      "for i in d['items']:\n",
      "    try:\n",
      "        user = client.get_user(i['login'])\n",
      "        t[user._rawData['login']] = user._rawData\n",
      "    except Exception,e:\n",
      "        print \"time out\"\n",
      "        notdone.append(i['login'])\n",
      "    if (j%10)==0:\n",
      "        print j\n",
      "    j = j + 1\n",
      "\n",
      "print 'finish user info'\n",
      "\n",
      "#\u91cd\u65b0\u6392\u5e8f\n",
      "\n",
      "d1 = []#\u6700\u540e\u7684\u7ed3\u679c\u5b58\u50a8\n",
      "for i in d['items']:\n",
      "    for k in t:\n",
      "        try:\n",
      "            if i['login'] == k:\n",
      "#                 print k\n",
      "                d1.append(t[k])\n",
      "#                 apendx.append(k)\n",
      "        except Exception,e:\n",
      "            pass\n",
      "\n",
      "print 'DONE'"
     ],
     "language": "python",
     "metadata": {},
     "outputs": []
    },
    {
     "cell_type": "code",
     "collapsed": false,
     "input": [
      "username = 'ch710798472'\n",
      "password = 'Mm456123'\n",
      "client = Github(login_or_token=username,password=password, per_page=100)\n",
      "\n",
      "USER = 'ch710798472'\n",
      "REPO = 'python_aiml_rebot'\n",
      "user = client.get_user(USER)\n",
      "repo = user.get_repo(REPO)\n",
      "\n",
      "stargazers = [ s for s in repo.get_stargazers() ] #\u83b7\u5f97\u5173\u6ce8\u8005\uff0c\u901a\u5e38\u8fd9\u4e2a\u4eba\u6570\u6bd4\u8f83\u591a\n",
      "contributors = [ s for s in repo.get_contributors() ] #\u83b7\u5f97\u8d21\u732e\u8005\n",
      "\n",
      "g = nx.DiGraph()\n",
      "g.add_node(repo.name + '(r)', type='repo', lang=repo.language, owner=user.login)\n",
      "\n",
      "for sg in stargazers:\n",
      "    g.add_node(sg.login + '(u)', type='user')\n",
      "    g.add_edge(sg.login + '(u)', repo.name + '(r)', type='gazes')\n",
      "print 'finish add stargazers'\n",
      "\n",
      "for sg in contributors:\n",
      "    g.add_node(sg.login + '(u)', type='user')\n",
      "    g.add_edge(sg.login + '(u)', repo.name + '(r)', type='conbs')\n",
      "print 'finish add contributors'\n",
      "\n",
      "d = json_graph.node_link_data(g)\n",
      "filename = \"connect.json\"\n",
      "json.dump(d, open(filename, 'w'))"
     ],
     "language": "python",
     "metadata": {},
     "outputs": []
    },
    {
     "cell_type": "code",
     "collapsed": false,
     "input": [
      "w = [ s for s in user.get_watched() ] \n",
      "for sg in w:\n",
      "    print sg.name"
     ],
     "language": "python",
     "metadata": {},
     "outputs": []
    },
    {
     "cell_type": "code",
     "collapsed": false,
     "input": [
      "username = 'ch710798472'\n",
      "password = 'Mm456123'\n",
      "client = Github(login_or_token=username,password=password, per_page=100)\n",
      "\n",
      "USER = 'ch710798472'\n",
      "user = client.get_user(USER)\n",
      "repos = [s for s in user.get_repos()]\n",
      "g = nx.DiGraph()\n",
      "g.add_node(USER + '(u)', type='user')\n",
      "\n",
      "try:\n",
      "    for r in repos:\n",
      "        stargazers = [ s for s in r.get_stargazers() ]\n",
      "        if(len(stargazers)):\n",
      "            g.add_edge(USER + '(u)',r.name + '(r)', type='have')\n",
      "\n",
      "        for sg in stargazers:\n",
      "            g.add_node(sg.login + '(u)', type='user')\n",
      "            g.add_edge(sg.login + '(u)', r.name + '(r)', type='gazes')\n",
      "\n",
      "        contributors = [ s for s in r.get_contributors() ]\n",
      "        for sg in contributors:\n",
      "            g.add_node(sg.login + '(u)', type='user')\n",
      "            g.add_edge(sg.login + '(u)', r.name + '(r)', type='conbs')\n",
      "except Exception,e:\n",
      "    print \"time out\"\n"
     ],
     "language": "python",
     "metadata": {},
     "outputs": []
    },
    {
     "cell_type": "code",
     "collapsed": false,
     "input": [
      "print g.edges()"
     ],
     "language": "python",
     "metadata": {},
     "outputs": []
    },
    {
     "cell_type": "code",
     "collapsed": false,
     "input": [
      "#\u83b7\u53d6\u4ed3\u5e93\u4f7f\u7528\u8bed\u8a00\u6392\u540d\n",
      "d = {\"items\":[]}\n",
      "url = 'https://api.github.com/search/repositories?q=language:&sort=stars&order=desc&per_page=100&page='\n",
      "rank_count=10\n",
      "for i in range(rank_count):\n",
      "    print url + str(i+1)\n",
      "    newUrl = url + str(i+1)\n",
      "    r = requests.get(newUrl)\n",
      "    temp = r.json()\n",
      "    d['items'].extend(temp['items'])\n",
      "filename = \"repo_lang.json\"\n",
      "json.dump(d, open(filename, 'w'))\n",
      "\n",
      "repo_lang = {}\n",
      "for i in range(1000):\n",
      "    temp = d['items'][i-1]['language']\n",
      "    if temp not in repo_lang.keys():\n",
      "        repo_lang[temp]=1\n",
      "    else:\n",
      "         repo_lang[temp]= repo_lang[temp]+1\n",
      "            \n",
      "print repo_lang\n",
      "\n",
      "filename = \"../data/repo_lang.json\"\n",
      "json.dump(repo_lang, open(filename, 'w'))"
     ],
     "language": "python",
     "metadata": {},
     "outputs": []
    },
    {
     "cell_type": "code",
     "collapsed": false,
     "input": [],
     "language": "python",
     "metadata": {},
     "outputs": []
    },
    {
     "cell_type": "code",
     "collapsed": false,
     "input": [],
     "language": "python",
     "metadata": {},
     "outputs": [
      {
       "output_type": "stream",
       "stream": "stdout",
       "text": [
        "{u'TypeScript': 6, u'Java': 79, u'Objective-C++': 1, None: 43, u'LiveScript': 1, u'JavaScript': 141, u'VimL': 11, u'Perl': 10, u'Elm': 1, u'Lua': 9, u'Jupyter Notebook': 1, u'Fancy': 1, u'Factor': 1, u'Haxe': 1, u'R': 4, u'Scheme': 5, u'Red': 1, u'AutoHotkey': 1, u'Shell': 10, u'Assembly': 4, u'Python': 84, u'AppleScript': 1, u'Scala': 22, u'Common Lisp': 1, u'Dart': 2, u'Ada': 1, u'CoffeeScript': 13, u'HTML': 20, u'Rust': 20, u'Elixir': 7, u'Swift': 23, u'Nimrod': 3, u'Chapel': 1, u'Groovy': 7, u'C': 55, u'D': 12, u'Grammatical Framework': 1, u'Kotlin': 1, u'F#': 2, u'Perl6': 1, u'C++': 66, u'TeX': 1, u'Crystal': 5, u'Objective-C': 6, u'Nemerle': 1, u'Mirah': 1, u'Clojure': 21, u'Erlang': 5, u'CSS': 17, u'Prolog': 1, u'Emacs Lisp': 5, u'Smali': 1, u'CMake': 1, u'Gosu': 1, u'Standard ML': 2, u'Ruby': 55, u'Racket': 1, u'OCaml': 13, u'Julia': 4, u'C#': 31, u'Pascal': 1, u'Haskell': 29, u'Xtend': 1, u'Hack': 2, u'Go': 87, u'Ragel in Ruby Host': 1, u'PHP': 31, u'PowerShell': 1, u'Groff': 1}\n"
       ]
      }
     ],
     "prompt_number": 17
    },
    {
     "cell_type": "code",
     "collapsed": false,
     "input": [],
     "language": "python",
     "metadata": {},
     "outputs": []
    },
    {
     "cell_type": "code",
     "collapsed": false,
     "input": [],
     "language": "python",
     "metadata": {},
     "outputs": []
    },
    {
     "cell_type": "code",
     "collapsed": false,
     "input": [],
     "language": "python",
     "metadata": {},
     "outputs": []
    }
   ],
   "metadata": {}
  }
 ]
}