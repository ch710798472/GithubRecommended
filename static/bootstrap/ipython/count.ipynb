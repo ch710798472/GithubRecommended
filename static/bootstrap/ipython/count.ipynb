{
 "worksheets": [
  {
   "cells": [
    {
     "cell_type": "code",
     "execution_count": null,
     "metadata": {},
     "outputs": [],
     "input": [
      "import requests\n",
      "import json\n",
      "from github import Github\n",
      "import networkx as nx\n",
      "from operator import itemgetter\n",
      "from collections import Counter\n",
      "from networkx.readwrite import json_graph\n",
      "import webbrowser\n",
      "import os"
     ],
     "language": "python",
     "prompt_number": 1
    },
    {
     "cell_type": "code",
     "execution_count": null,
     "metadata": {},
     "outputs": [
      {
       "output_type": "stream",
       "stream": "stdout",
       "text": [
        "关注人的数目: 29 \n",
        "\n"
       ]
      }
     ],
     "input": [
      "ACCESS_TOKEN = '1161b718b9555cd76bf7ff9070c8f1ba300ea885'\n",
      "USER = 'edx'\n",
      "REPO = 'edx-documentation'\n",
      "client = Github(ACCESS_TOKEN, per_page=100)\n",
      "user = client.get_user(USER)\n",
      "repo = user.get_repo(REPO)\n",
      "\n",
      "stargazers = [ s for s in repo.get_stargazers() ] #可以先对这些人数进行分类>限制\n",
      "print \"关注人的数目: %d \\n\" % len(stargazers) #如果人数很多，速度很慢"
     ],
     "language": "python",
     "prompt_number": 4
    },
    {
     "cell_type": "code",
     "execution_count": null,
     "metadata": {},
     "outputs": [
      {
       "ename": "AttributeError",
       "evalue": "'Repository' object has no attribute 'user'",
       "output_type": "pyerr",
       "traceback": [
        "\u001b[0;31m---------------------------------------------------------------------------\u001b[0m\n\u001b[0;31mAttributeError\u001b[0m                            Traceback (most recent call last)",
        "\u001b[0;32m<ipython-input-10-4e63fd4c9188>\u001b[0m in \u001b[0;36m<module>\u001b[0;34m()\u001b[0m\n\u001b[1;32m      1\u001b[0m \u001b[0;32mfor\u001b[0m \u001b[0ms\u001b[0m \u001b[0;32min\u001b[0m \u001b[0mrepo\u001b[0m\u001b[0;34m.\u001b[0m\u001b[0mget_forks\u001b[0m\u001b[0;34m(\u001b[0m\u001b[0;34m)\u001b[0m\u001b[0;34m:\u001b[0m\u001b[0;34m\u001b[0m\u001b[0m\n\u001b[0;32m----> 2\u001b[0;31m     \u001b[0;32mprint\u001b[0m \u001b[0ms\u001b[0m\u001b[0;34m.\u001b[0m\u001b[0muser\u001b[0m\u001b[0;34m\u001b[0m\u001b[0m\n\u001b[0m",
        "\u001b[0;31mAttributeError\u001b[0m: 'Repository' object has no attribute 'user'"
       ]
      }
     ],
     "input": [
      "for s in repo.get_forks():\n",
      "    print s.get_"
     ],
     "language": "python",
     "prompt_number": 10
    },
    {
     "cell_type": "code",
     "execution_count": null,
     "metadata": {},
     "outputs": [
      {
       "output_type": "stream",
       "stream": "stdout",
       "text": [
        "KellyChan(u)\n",
        "mhoeber(u)\n",
        "cycomachead(u)\n",
        "rjgrubb(u)\n",
        "jhendersonedx(u)\n",
        "theuserofshift8(u)\n",
        "martinproject(u)\n",
        "rwanyoike(u)\n",
        "duduOliver(u)\n",
        "ghoster(u)\n",
        "elitelinux(u)\n",
        "lamagnifica(u)\n",
        "foxty(u)\n",
        "Petruzzo79(u)\n",
        "bitifirefly(u)\n",
        "jmeers(u)\n",
        "sitdh(u)\n",
        "Natshah(u)\n",
        "igour(u)\n",
        "wxb0712(u)\n",
        "afeef(u)\n",
        "xrzhao(u)\n",
        "applecool(u)\n",
        "michelmb(u)\n",
        "andersonresende(u)\n",
        "conroyiwhiwhu(u)\n",
        "jacklee007(u)\n",
        "gsw945(u)\n",
        "Ginagie(u)\n",
        "正在处理第"
       ]
      },
      {
       "output_type": "stream",
       "stream": "stdout",
       "text": [
        " 1  个关注者。\n",
        "正在处理第"
       ]
      },
      {
       "output_type": "stream",
       "stream": "stdout",
       "text": [
        " 2  个关注者。\n",
        "正在处理第"
       ]
      },
      {
       "output_type": "stream",
       "stream": "stdout",
       "text": [
        " 3  个关注者。\n",
        "正在处理第"
       ]
      },
      {
       "output_type": "stream",
       "stream": "stdout",
       "text": [
        " 4  个关注者。\n",
        "正在处理第"
       ]
      },
      {
       "output_type": "stream",
       "stream": "stdout",
       "text": [
        " 5  个关注者。\n",
        "正在处理第"
       ]
      },
      {
       "output_type": "stream",
       "stream": "stdout",
       "text": [
        " 6  个关注者。\n",
        "正在处理第"
       ]
      },
      {
       "output_type": "stream",
       "stream": "stdout",
       "text": [
        " 7  个关注者。\n",
        "正在处理第"
       ]
      },
      {
       "output_type": "stream",
       "stream": "stdout",
       "text": [
        " 8  个关注者。\n",
        "正在处理第"
       ]
      },
      {
       "output_type": "stream",
       "stream": "stdout",
       "text": [
        " 9  个关注者。\n",
        "正在处理第"
       ]
      },
      {
       "output_type": "stream",
       "stream": "stdout",
       "text": [
        " 10  个关注者。\n",
        "正在处理第"
       ]
      },
      {
       "output_type": "stream",
       "stream": "stdout",
       "text": [
        " 11  个关注者。\n",
        "正在处理第"
       ]
      },
      {
       "output_type": "stream",
       "stream": "stdout",
       "text": [
        " 12  个关注者。\n",
        "正在处理第"
       ]
      },
      {
       "output_type": "stream",
       "stream": "stdout",
       "text": [
        " 13  个关注者。\n",
        "正在处理第"
       ]
      },
      {
       "output_type": "stream",
       "stream": "stdout",
       "text": [
        " 14  个关注者。\n",
        "正在处理第"
       ]
      },
      {
       "output_type": "stream",
       "stream": "stdout",
       "text": [
        " 15  个关注者。\n",
        "正在处理第"
       ]
      },
      {
       "output_type": "stream",
       "stream": "stdout",
       "text": [
        " 16  个关注者。\n",
        "正在处理第"
       ]
      },
      {
       "output_type": "stream",
       "stream": "stdout",
       "text": [
        " 17  个关注者。\n",
        "正在处理第"
       ]
      },
      {
       "output_type": "stream",
       "stream": "stdout",
       "text": [
        " 18  个关注者。\n",
        "正在处理第"
       ]
      },
      {
       "output_type": "stream",
       "stream": "stdout",
       "text": [
        " 19  个关注者。\n",
        "正在处理第"
       ]
      },
      {
       "output_type": "stream",
       "stream": "stdout",
       "text": [
        " 20  个关注者。\n",
        "正在处理第"
       ]
      },
      {
       "output_type": "stream",
       "stream": "stdout",
       "text": [
        " 21  个关注者。\n",
        "正在处理第"
       ]
      },
      {
       "output_type": "stream",
       "stream": "stdout",
       "text": [
        " 22  个关注者。\n",
        "正在处理第"
       ]
      },
      {
       "output_type": "stream",
       "stream": "stdout",
       "text": [
        " 23  个关注者。\n",
        "正在处理第"
       ]
      },
      {
       "output_type": "stream",
       "stream": "stdout",
       "text": [
        " 24  个关注者。\n",
        "正在处理第"
       ]
      },
      {
       "output_type": "stream",
       "stream": "stdout",
       "text": [
        " 25  个关注者。\n",
        "正在处理第"
       ]
      },
      {
       "output_type": "stream",
       "stream": "stdout",
       "text": [
        " 26  个关注者。\n",
        "正在处理第"
       ]
      },
      {
       "output_type": "stream",
       "stream": "stdout",
       "text": [
        " 27  个关注者。\n",
        "正在处理第"
       ]
      },
      {
       "output_type": "stream",
       "stream": "stdout",
       "text": [
        " 28  个关注者。\n",
        "正在处理第"
       ]
      },
      {
       "output_type": "stream",
       "stream": "stdout",
       "text": [
        " 29  个关注者。\n"
       ]
      }
     ],
     "input": [
      "g = nx.DiGraph()\n",
      "    g.add_node(repo.name + '(r)', type='repo', lang=repo.language, owner=user.login)\n",
      "\n",
      "    for sg in stargazers:\n",
      "        g.add_node(sg.login + '(u)', type='user')\n",
      "        g.add_edge(sg.login + '(u)', repo.name + '(r)', type='gazes')\n",
      "        print sg.login + '(u)'\n",
      "\n",
      "    for i, sg in enumerate(stargazers):\n",
      "        try:\n",
      "            for follower in sg.get_followers():\n",
      "                if follower.login + '(u)' in g:\n",
      "                    g.add_edge(follower.login + '(u)', sg.login + '(u)', type='follows')\n",
      "        except Exception, e:\n",
      "            print \"获取追随者失败，跳过\", sg.login, e\n",
      "\n",
      "        print \"正在处理第\", i+1, \" 个关注者。\"\n",
      "    c = Counter([e[1] for e in g.edges_iter(data=True) if e[2]['type'] == 'follows'])\n",
      "    popular_users = [(u, f) for (u, f) in c.most_common() if f > 1]\n",
      "    print \"受欢迎的用户数目：\", len(popular_users)\n",
      "    print \"最受欢迎的10个用户：\", popular_users[:10]"
     ],
     "language": "python",
     "prompt_number": 11
    },
    {
     "cell_type": "code",
     "execution_count": null,
     "metadata": {},
     "outputs": [
      {
       "output_type": "stream",
       "stream": "stdout",
       "text": [
        "KellyChan\n",
        "正在处理"
       ]
      },
      {
       "output_type": "stream",
       "stream": "stdout",
       "text": [
        " 1 加星的仓库\n",
        "mhoeber\n",
        "正在处理"
       ]
      },
      {
       "output_type": "stream",
       "stream": "stdout",
       "text": [
        " 2 加星的仓库\n",
        "cycomachead\n",
        "正在处理"
       ]
      },
      {
       "output_type": "stream",
       "stream": "stdout",
       "text": [
        " 3 加星的仓库\n",
        "rjgrubb\n",
        "正在处理"
       ]
      },
      {
       "output_type": "stream",
       "stream": "stdout",
       "text": [
        " 4 加星的仓库\n",
        "jhendersonedx\n",
        "正在处理"
       ]
      },
      {
       "output_type": "stream",
       "stream": "stdout",
       "text": [
        " 5 加星的仓库\n",
        "theuserofshift8\n",
        "正在处理"
       ]
      },
      {
       "output_type": "stream",
       "stream": "stdout",
       "text": [
        " 6 加星的仓库\n",
        "martinproject\n",
        "正在处理"
       ]
      },
      {
       "output_type": "stream",
       "stream": "stdout",
       "text": [
        " 7 加星的仓库\n",
        "rwanyoike\n",
        "正在处理"
       ]
      },
      {
       "output_type": "stream",
       "stream": "stdout",
       "text": [
        " 8 加星的仓库\n",
        "duduOliver\n",
        "正在处理"
       ]
      },
      {
       "output_type": "stream",
       "stream": "stdout",
       "text": [
        " 9 加星的仓库\n",
        "ghoster\n",
        "正在处理"
       ]
      },
      {
       "output_type": "stream",
       "stream": "stdout",
       "text": [
        " 10 加星的仓库\n",
        "elitelinux\n",
        "正在处理"
       ]
      },
      {
       "output_type": "stream",
       "stream": "stdout",
       "text": [
        " 11 加星的仓库\n",
        "lamagnifica\n",
        "正在处理"
       ]
      },
      {
       "output_type": "stream",
       "stream": "stdout",
       "text": [
        " 12 加星的仓库\n",
        "foxty\n",
        "正在处理"
       ]
      },
      {
       "output_type": "stream",
       "stream": "stdout",
       "text": [
        " 13 加星的仓库\n",
        "Petruzzo79\n",
        "正在处理"
       ]
      },
      {
       "output_type": "stream",
       "stream": "stdout",
       "text": [
        " 14 加星的仓库\n",
        "bitifirefly\n",
        "正在处理"
       ]
      },
      {
       "output_type": "stream",
       "stream": "stdout",
       "text": [
        " 15 加星的仓库\n",
        "jmeers\n",
        "正在处理"
       ]
      },
      {
       "output_type": "stream",
       "stream": "stdout",
       "text": [
        " 16 加星的仓库\n",
        "sitdh\n",
        "正在处理"
       ]
      },
      {
       "output_type": "stream",
       "stream": "stdout",
       "text": [
        " 17 加星的仓库\n",
        "Natshah\n",
        "正在处理"
       ]
      },
      {
       "output_type": "stream",
       "stream": "stdout",
       "text": [
        " 18 加星的仓库\n",
        "igour\n",
        "正在处理"
       ]
      },
      {
       "output_type": "stream",
       "stream": "stdout",
       "text": [
        " 19 加星的仓库\n",
        "wxb0712\n",
        "正在处理"
       ]
      },
      {
       "output_type": "stream",
       "stream": "stdout",
       "text": [
        " 20 加星的仓库\n",
        "afeef\n",
        "正在处理"
       ]
      },
      {
       "output_type": "stream",
       "stream": "stdout",
       "text": [
        " 21 加星的仓库\n",
        "xrzhao\n",
        "正在处理"
       ]
      },
      {
       "output_type": "stream",
       "stream": "stdout",
       "text": [
        " 22 加星的仓库\n",
        "applecool\n",
        "正在处理"
       ]
      },
      {
       "output_type": "stream",
       "stream": "stdout",
       "text": [
        " 23 加星的仓库\n",
        "michelmb\n",
        "正在处理"
       ]
      },
      {
       "output_type": "stream",
       "stream": "stdout",
       "text": [
        " 24 加星的仓库\n",
        "andersonresende\n",
        "正在处理"
       ]
      },
      {
       "output_type": "stream",
       "stream": "stdout",
       "text": [
        " 25 加星的仓库\n",
        "conroyiwhiwhu\n",
        "正在处理"
       ]
      },
      {
       "output_type": "stream",
       "stream": "stdout",
       "text": [
        " 26 加星的仓库\n",
        "jacklee007\n",
        "正在处理"
       ]
      },
      {
       "output_type": "stream",
       "stream": "stdout",
       "text": [
        " 27 加星的仓库\n",
        "gsw945\n",
        "正在处理"
       ]
      },
      {
       "output_type": "stream",
       "stream": "stdout",
       "text": [
        " 28 加星的仓库\n",
        "Ginagie\n",
        "正在处理"
       ]
      },
      {
       "output_type": "stream",
       "stream": "stdout",
       "text": [
        " 29 加星的仓库\n"
       ]
      }
     ],
     "input": [
      "MAX_REPOS = 500\n",
      "\n",
      "    for i, sg in enumerate(stargazers):\n",
      "        print sg.login\n",
      "        try:\n",
      "            for starred in sg.get_starred()[:MAX_REPOS]: # Slice to avoid supernodes\n",
      "                g.add_node(starred.name + '(r)', type='repo', lang=starred.language, owner=starred.owner.login)\n",
      "                g.add_edge(sg.login + '(u)', starred.name + '(r)', type='gazes')\n",
      "        except Exception, e: #ssl.SSLError:\n",
      "            print \"获取加星仓库失败　\", sg.login, \"跳过.\"\n",
      "\n",
      "        print \"正在处理\", i+1, \"加星的仓库\"\n",
      "    filename = \"1.1\"\n",
      "    nx.write_gpickle(g, filename)\n",
      "\n",
      "    d = json_graph.node_link_data(g)\n",
      "    filename = \"1.json\"\n",
      "    json.dump(d, open(filename, 'w'))"
     ],
     "language": "python",
     "prompt_number": 12
    },
    {
     "cell_type": "code",
     "execution_count": null,
     "metadata": {},
     "outputs": [
      {
       "output_type": "stream",
       "stream": "stdout",
       "text": [
        "Name: \n",
        "Type: DiGraph\n",
        "Number of nodes: 3383\n",
        "Number of edges: 3733\n",
        "Average in degree:   1.1035\n",
        "Average out degree:   1.1035\n",
        "{}\n"
       ]
      }
     ],
     "input": [
      "g = nx.read_gpickle(\"1.1\")"
     ],
     "language": "python",
     "prompt_number": 17
    },
    {
     "cell_type": "code",
     "execution_count": null,
     "metadata": {},
     "outputs": [
      {
       "output_type": "stream",
       "stream": "stdout",
       "text": [
        "Name: \n",
        "Type: DiGraph\n",
        "Number of nodes: 3383\n",
        "Number of edges: 3733\n",
        "Average in degree:   1.1035\n",
        "Average out degree:   1.1035\n",
        "3146\n",
        "658\n",
        "[(u'JavaScript', 786), (u'Python', 502), (u'Ruby', 247), (u'Java', 234), (u'PHP', 212), (u'C', 133), (u'CSS', 130), (u'HTML', 128), (u'Erlang', 116), [u'others', 658]]\n"
       ]
      }
     ],
     "input": [
      "print nx.info(g)\n",
      "data = {}\n",
      "for n in g.nodes_iter():\n",
      "    if (g.node[n]['type'] == 'repo' and g.node[n]['lang'] not in data and g.node[n]['lang']):\n",
      "        data[ g.node[n]['lang']] = 1\n",
      "    elif (g.node[n]['type'] == 'repo' and g.node[n]['lang'] in data and g.node[n]['lang']) :\n",
      "        data[ g.node[n]['lang']] = data[ g.node[n]['lang']]+ 1\n",
      "    else:\n",
      "        pass\n",
      "sumRepo = sum([v for k,v in data.iteritems()])\n",
      "data1 =  sorted(data.iteritems(), key=lambda d:d[1], reverse = True )[:9]#排序输出\n",
      "others = 0\n",
      "for v in data1:\n",
      "    others = others + v[1]\n",
      "others =  sumRepo - others\n",
      "dothers = [unicode('others', \"UTF-8\"),others]\n",
      "data1.append(dothers)\n",
      "print sumRepo\n",
      "print others\n",
      "print data1\n",
      "json.dump(data1, open('1.1.pie', 'w'))"
     ],
     "language": "python",
     "prompt_number": 92
    },
    {
     "cell_type": "code",
     "execution_count": null,
     "metadata": {},
     "outputs": [
      {
       "output_type": "stream",
       "stream": "stdout",
       "text": [
        "Popular repositories\n",
        "[(u'edx-documentation(r)', 29), (u'edx-platform(r)', 14), (u'bootstrap(r)', 9), (u'd3(r)', 7), (u'configuration(r)', 7), (u'html5-boilerplate(r)', 5), (u'hacker-scripts(r)', 5), (u'scikit-learn(r)', 4), (u'django(r)', 4), (u'gitbook(r)', 4)]\n"
       ]
      }
     ],
     "input": [
      "print \"Popular repositories\"\n",
      "data2 = sorted([(n,d) for (n,d) in g.in_degree_iter() if g.node[n]['type'] == 'repo'], key=itemgetter(1), reverse=True)[:10]\n",
      "print data2\n",
      "json.dump(data2, open('1.1.rect', 'w'))"
     ],
     "language": "python",
     "prompt_number": 97
    },
    {
     "cell_type": "code",
     "execution_count": null,
     "metadata": {},
     "outputs": [],
     "input": [
      ""
     ],
     "language": "python"
    }
   ]
  }
 ],
 "cells": [],
 "metadata": {
  "name": ""
 },
 "nbformat": 3,
 "nbformat_minor": 0
}