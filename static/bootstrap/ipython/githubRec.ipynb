{
 "metadata": {
  "name": ""
 },
 "nbformat": 3,
 "nbformat_minor": 0,
 "worksheets": [
  {
   "cells": [
    {
     "cell_type": "code",
     "collapsed": false,
     "input": [
      "import requests\n",
      "import json\n",
      "from github import Github\n",
      "import networkx as nx\n",
      "from operator import itemgetter\n",
      "from collections import Counter\n",
      "from networkx.readwrite import json_graph\n",
      "import webbrowser\n",
      "import os"
     ],
     "language": "python",
     "metadata": {},
     "outputs": [],
     "prompt_number": 1
    },
    {
     "cell_type": "code",
     "collapsed": false,
     "input": [
      "ACCESS_TOKEN = '1161b718b9555cd76bf7ff9070c8f1ba300ea885'\n",
      "USER = 'edx'\n",
      "REPO = 'edx-documentation'\n",
      "client = Github(ACCESS_TOKEN, per_page=100)\n",
      "user = client.get_user(USER)\n",
      "repo = user.get_repo(REPO)\n",
      "\n",
      "stargazers = [ s for s in repo.get_stargazers() ] #\u53ef\u4ee5\u5148\u5bf9\u8fd9\u4e9b\u4eba\u6570\u8fdb\u884c\u5206\u7c7b>\u9650\u5236\n",
      "print \"\u5173\u6ce8\u4eba\u7684\u6570\u76ee: %d \\n\" % len(stargazers) #\u5982\u679c\u4eba\u6570\u5f88\u591a\uff0c\u901f\u5ea6\u5f88\u6162"
     ],
     "language": "python",
     "metadata": {},
     "outputs": []
    },
    {
     "cell_type": "code",
     "collapsed": false,
     "input": [
      "for s in repo.get_forks():\n",
      "    print s.get_"
     ],
     "language": "python",
     "metadata": {},
     "outputs": []
    },
    {
     "cell_type": "code",
     "collapsed": false,
     "input": [
      "g = nx.DiGraph()\n",
      "    g.add_node(repo.name + '(r)', type='repo', lang=repo.language, owner=user.login)\n",
      "\n",
      "    for sg in stargazers:\n",
      "        g.add_node(sg.login + '(u)', type='user')\n",
      "        g.add_edge(sg.login + '(u)', repo.name + '(r)', type='gazes')\n",
      "        print sg.login + '(u)'\n",
      "\n",
      "    for i, sg in enumerate(stargazers):\n",
      "        try:\n",
      "            for follower in sg.get_followers():\n",
      "                if follower.login + '(u)' in g:\n",
      "                    g.add_edge(follower.login + '(u)', sg.login + '(u)', type='follows')\n",
      "        except Exception, e:\n",
      "            print \"\u83b7\u53d6\u8ffd\u968f\u8005\u5931\u8d25\uff0c\u8df3\u8fc7\", sg.login, e\n",
      "\n",
      "        print \"\u6b63\u5728\u5904\u7406\u7b2c\", i+1, \" \u4e2a\u5173\u6ce8\u8005\u3002\"\n",
      "    c = Counter([e[1] for e in g.edges_iter(data=True) if e[2]['type'] == 'follows'])\n",
      "    popular_users = [(u, f) for (u, f) in c.most_common() if f > 1]\n",
      "    print \"\u53d7\u6b22\u8fce\u7684\u7528\u6237\u6570\u76ee\uff1a\", len(popular_users)\n",
      "    print \"\u6700\u53d7\u6b22\u8fce\u768410\u4e2a\u7528\u6237\uff1a\", popular_users[:10]"
     ],
     "language": "python",
     "metadata": {},
     "outputs": []
    },
    {
     "cell_type": "code",
     "collapsed": false,
     "input": [
      "MAX_REPOS = 500\n",
      "\n",
      "    for i, sg in enumerate(stargazers):\n",
      "        print sg.login\n",
      "        try:\n",
      "            for starred in sg.get_starred()[:MAX_REPOS]: # Slice to avoid supernodes\n",
      "                g.add_node(starred.name + '(r)', type='repo', lang=starred.language, owner=starred.owner.login)\n",
      "                g.add_edge(sg.login + '(u)', starred.name + '(r)', type='gazes')\n",
      "        except Exception, e: #ssl.SSLError:\n",
      "            print \"\u83b7\u53d6\u52a0\u661f\u4ed3\u5e93\u5931\u8d25\u3000\", sg.login, \"\u8df3\u8fc7.\"\n",
      "\n",
      "        print \"\u6b63\u5728\u5904\u7406\", i+1, \"\u52a0\u661f\u7684\u4ed3\u5e93\"\n",
      "    filename = \"1.1\"\n",
      "    nx.write_gpickle(g, filename)\n",
      "\n",
      "    d = json_graph.node_link_data(g)\n",
      "    filename = \"1.json\"\n",
      "    json.dump(d, open(filename, 'w'))"
     ],
     "language": "python",
     "metadata": {},
     "outputs": []
    },
    {
     "cell_type": "code",
     "collapsed": false,
     "input": [
      "g = nx.read_gpickle(\"1.1\")"
     ],
     "language": "python",
     "metadata": {},
     "outputs": []
    },
    {
     "cell_type": "code",
     "collapsed": false,
     "input": [
      "print nx.info(g)\n",
      "data = {}\n",
      "for n in g.nodes_iter():\n",
      "    if (g.node[n]['type'] == 'repo' and g.node[n]['lang'] not in data and g.node[n]['lang']):\n",
      "        data[ g.node[n]['lang']] = 1\n",
      "    elif (g.node[n]['type'] == 'repo' and g.node[n]['lang'] in data and g.node[n]['lang']) :\n",
      "        data[ g.node[n]['lang']] = data[ g.node[n]['lang']]+ 1\n",
      "    else:\n",
      "        pass\n",
      "sumRepo = sum([v for k,v in data.iteritems()])\n",
      "data1 =  sorted(data.iteritems(), key=lambda d:d[1], reverse = True )[:9]#\u6392\u5e8f\u8f93\u51fa\n",
      "others = 0\n",
      "for v in data1:\n",
      "    others = others + v[1]\n",
      "others =  sumRepo - others\n",
      "dothers = [unicode('others', \"UTF-8\"),others]\n",
      "data1.append(dothers)\n",
      "print sumRepo\n",
      "print others\n",
      "print data1\n",
      "json.dump(data1, open('1.1.pie', 'w'))"
     ],
     "language": "python",
     "metadata": {},
     "outputs": []
    },
    {
     "cell_type": "code",
     "collapsed": false,
     "input": [
      "print \"Popular repositories\"\n",
      "data2 = sorted([(n,d) for (n,d) in g.in_degree_iter() if g.node[n]['type'] == 'repo'], key=itemgetter(1), reverse=True)[:10]\n",
      "print data2\n",
      "json.dump(data2, open('1.1.rect', 'w'))"
     ],
     "language": "python",
     "metadata": {},
     "outputs": []
    },
    {
     "cell_type": "code",
     "collapsed": false,
     "input": [
      "USER = 'edx'\n",
      "REPO = 'edx-documentation'\n",
      "client = Github(\"ch710798472\",\"Mm456123\")\n",
      "user = client.get_user(USER)\n",
      "repo = user.get_repo(REPO)\n",
      "\n",
      "stargazers = [ s for s in repo.get_stargazers() ] #\u53ef\u4ee5\u5148\u5bf9\u8fd9\u4e9b\u4eba\u6570\u8fdb\u884c\u5206\u7c7b>\u9650\u5236\n",
      "print \"\u5173\u6ce8\u4eba\u7684\u6570\u76ee: %d \\n\" % len(stargazers) \n"
     ],
     "language": "python",
     "metadata": {},
     "outputs": []
    },
    {
     "cell_type": "code",
     "collapsed": false,
     "input": [
      "i = 1\n",
      "for sg in stargazers:\n",
      "    print i\n",
      "    print sg.login,\"-\",sg.email,\"-\",sg.avatar_url,\"-\",sg.followers,\"-\",sg.following,\"-\",sg.created_at\n",
      "    i = i + 1"
     ],
     "language": "python",
     "metadata": {},
     "outputs": []
    },
    {
     "cell_type": "code",
     "collapsed": false,
     "input": [
      "for s in repo.get_forks():\n",
      "    for x in s.get_forks():\n",
      "        print x"
     ],
     "language": "python",
     "metadata": {},
     "outputs": []
    },
    {
     "cell_type": "code",
     "collapsed": false,
     "input": [
      "r=requests.get('https://api.github.com/search/users?access_token=dff8d5a7bbc4f5240eac2fd4114dc5d0e87707ed&q=location:china&sort=followers')"
     ],
     "language": "python",
     "metadata": {},
     "outputs": []
    },
    {
     "cell_type": "code",
     "collapsed": false,
     "input": [
      "d=r.json()\n",
      "total_count = d['total_count']\n",
      "incomplete_results = d['incomplete_results']"
     ],
     "language": "python",
     "metadata": {},
     "outputs": []
    },
    {
     "cell_type": "code",
     "collapsed": false,
     "input": [
      "d = {\"items\":[]}\n",
      "url = 'https://api.github.com/search/users?q=location:china&sort=followers&per_page=100&page='\n",
      "for i in range(10):\n",
      "    print url + str(i+1)\n",
      "    newUrl = url + str(i+1)\n",
      "    r = requests.get(newUrl)\n",
      "    temp = r.json()\n",
      "    d['items'].extend(temp['items'])\n",
      "filename = \"user.json\"\n",
      "json.dump(d, open(filename, 'w'))"
     ],
     "language": "python",
     "metadata": {},
     "outputs": []
    },
    {
     "cell_type": "code",
     "collapsed": false,
     "input": [
      "t = {}\n",
      "j=0\n",
      "for i in d1['items']:\n",
      "#     print i['url']\n",
      "    r = requests.get(i['url'])\n",
      "    temp = r.json()\n",
      "    t[temp['login']] = temp\n",
      "    if (j%50)==0:\n",
      "        print j\n",
      "    j = j + 1\n",
      "filename = \"userinfo.json\"\n",
      "json.dump(t, open(filename, 'w'))"
     ],
     "language": "python",
     "metadata": {},
     "outputs": []
    },
    {
     "cell_type": "code",
     "collapsed": false,
     "input": [
      "with open(\"user.json\", \"r\") as f:\n",
      "    d1 = json.load(f)\n",
      "print d1['items']"
     ],
     "language": "python",
     "metadata": {},
     "outputs": []
    },
    {
     "cell_type": "code",
     "collapsed": false,
     "input": [
      "ACCESS_TOKEN = 'c55b7dfa48b0f4ed3ace41a124b5d35c52368604'\n",
      "client = Github(ACCESS_TOKEN, per_page=100)"
     ],
     "language": "python",
     "metadata": {},
     "outputs": []
    },
    {
     "cell_type": "code",
     "collapsed": false,
     "input": [
      "t = {}\n",
      "notdone=[]\n",
      "j=0\n",
      "for i in d1['items']:\n",
      "    try:\n",
      "        user = client.get_user(i['login'])\n",
      "        t[user._rawData['login']] = user._rawData\n",
      "    except Exception,e:\n",
      "        print \"time out\"\n",
      "        notdone.append(i['login'])\n",
      "    if (j%11)==0:\n",
      "        print j\n",
      "    j = j + 1\n",
      "filename = \"userinfo.json\"\n",
      "json.dump(t, open(filename, 'w'))"
     ],
     "language": "python",
     "metadata": {},
     "outputs": []
    },
    {
     "cell_type": "code",
     "collapsed": false,
     "input": [
      "from pprint import pprint\n",
      "pprint(vars(user))\n",
      "user._rawData['avatar_url']"
     ],
     "language": "python",
     "metadata": {},
     "outputs": []
    },
    {
     "cell_type": "code",
     "collapsed": false,
     "input": [
      "print notdone"
     ],
     "language": "python",
     "metadata": {},
     "outputs": []
    },
    {
     "cell_type": "code",
     "collapsed": false,
     "input": [
      "t1 = {}\n",
      "notdone1=[]\n",
      "j=0\n",
      "for i in notdone:\n",
      "    try:\n",
      "        user = client.get_user(i)\n",
      "        t1[user._rawData['login']] = user._rawData\n",
      "    except Exception,e:\n",
      "        print \"time out\"\n",
      "        notdone1.append(i)\n",
      "filename = \"userinfo.json\"\n",
      "json.dump(t1, open(filename, 'w'))"
     ],
     "language": "python",
     "metadata": {},
     "outputs": []
    },
    {
     "cell_type": "code",
     "collapsed": false,
     "input": [
      "with open(\"userinfo-1.json\", \"r\") as f:\n",
      "    d2 = json.load(f)\n",
      "print len(d2)"
     ],
     "language": "python",
     "metadata": {},
     "outputs": []
    },
    {
     "cell_type": "code",
     "collapsed": false,
     "input": [
      "# apendx = []\n",
      "d = []\n",
      "for i in d1['items']:\n",
      "    for k in d2:\n",
      "        try:\n",
      "            if i['login'] == k:\n",
      "#                 print k\n",
      "                d.append(d2[k])\n",
      "#                 apendx.append(k)\n",
      "        except Exception,e:\n",
      "            pass\n",
      "# print len(apendx)"
     ],
     "language": "python",
     "metadata": {},
     "outputs": []
    },
    {
     "cell_type": "code",
     "collapsed": false,
     "input": [
      "filename = \"userMoreInfo.json\"\n",
      "json.dump(d, open(filename, 'w'))"
     ],
     "language": "python",
     "metadata": {},
     "outputs": []
    },
    {
     "cell_type": "code",
     "collapsed": false,
     "input": [
      "print d[111]['avatar_url']"
     ],
     "language": "python",
     "metadata": {},
     "outputs": []
    },
    {
     "cell_type": "code",
     "collapsed": false,
     "input": [
      "#\u83b7\u53d6\u7528\u6237\u5934\u50cf\u56fe\u7247\u5e76\u4fdd\u5b58\n",
      "import os\n",
      "import urllib2\n",
      "def getImage(filePath,addr):\n",
      "\ttry:\n",
      "\t\tsplitPath = addr.split('/')\n",
      "\t\tfName = splitPath.pop()\n",
      "# \t\tprint fName\n",
      "\t\t\n",
      "\t\topen(filePath+fName, \"wb\").write(urllib2.urlopen(addr).read())\n",
      "\texcept Exception,e:\n",
      "\t\tprint \"[Error]Cant't download: %s:%s\" %(fName,e)"
     ],
     "language": "python",
     "metadata": {},
     "outputs": []
    },
    {
     "cell_type": "code",
     "collapsed": false,
     "input": [
      "#\u52a0\u8f7d\u672c\u5730\u7528\u6237\u6570\u636e\n",
      "with open(\"userMoreInfo.json\", \"r\") as f:\n",
      "    d = json.load(f)"
     ],
     "language": "python",
     "metadata": {},
     "outputs": []
    },
    {
     "cell_type": "code",
     "collapsed": false,
     "input": [
      "#\u4e0b\u8f7d\u7528\u6237\u5934\u50cf\u56fe\u7247\u7f13\u5b58\u5230\u672c\u5730\n",
      "filePath = 'userImages/'\n",
      "for i in d:\n",
      "    getImage(filePath,i['avatar_url'])"
     ],
     "language": "python",
     "metadata": {},
     "outputs": []
    },
    {
     "cell_type": "code",
     "collapsed": false,
     "input": [
      "#\u83b7\u53d6\u4e2d\u56fd\u533aC\u8bed\u8a00\u7684\u6392\u540d(\u524d\uff11\uff10\uff10\u540d)\n",
      "d = {\"items\":[]}\n",
      "url = 'https://api.github.com/search/users?sort=followers&q=location:china+language:C&per_page=100&page='\n",
      "rank_count=1\n",
      "for i in range(rank_count):\n",
      "    print url + str(i+1)\n",
      "    newUrl = url + str(i+1)\n",
      "    r = requests.get(newUrl)\n",
      "    temp = r.json()\n",
      "    d['items'].extend(temp['items'])\n",
      "filename = \"c_user.json\"\n",
      "json.dump(d, open(filename, 'w'))"
     ],
     "language": "python",
     "metadata": {},
     "outputs": [],
     "prompt_number": 23
    },
    {
     "cell_type": "code",
     "collapsed": false,
     "input": [
      "with open(\"c_user.json\", \"r\") as f:\n",
      "    d1 = json.load(f)\n",
      "ACCESS_TOKEN = 'e986ae79943cf8735d8906fd4d77182cdb3f6cd7'\n",
      "client = Github(ACCESS_TOKEN, per_page=100)\n",
      "t = {}\n",
      "notdone=[]\n",
      "j=0\n",
      "for i in d1['items']:\n",
      "    try:\n",
      "        user = client.get_user(i['login'])\n",
      "        t[user._rawData['login']] = user._rawData\n",
      "    except Exception,e:\n",
      "        print \"time out\"\n",
      "        notdone.append(i['login'])\n",
      "    if (j%11)==0:\n",
      "        print j\n",
      "    j = j + 1\n",
      "filename = \"c_userinfo.json\"\n",
      "json.dump(t, open(filename, 'w'))"
     ],
     "language": "python",
     "metadata": {},
     "outputs": []
    },
    {
     "cell_type": "code",
     "collapsed": false,
     "input": [
      "with open(\"c_userinfo.json\", \"r\") as f:\n",
      "    d2 = json.load(f)\n",
      "with open(\"c_user.json\", \"r\") as f:\n",
      "    d1 = json.load(f)\n",
      "d = []\n",
      "for i in d1['items']:\n",
      "    for k in d2:\n",
      "        try:\n",
      "            if i['login'] == k:\n",
      "#                 print k\n",
      "                d.append(d2[k])\n",
      "#                 apendx.append(k)\n",
      "        except Exception,e:\n",
      "            pass\n",
      "filename = \"c_userMoreInfo.json\"\n",
      "json.dump(d, open(filename, 'w'))\n",
      "#\u9700\u8981\u5b8c\u6210\u5934\u50cf\u7f13\u5b58\uff0c\u4f46\u662f\u4e2d\u56fd\u533a\u7684\u6392\u540d\u5927\u90e8\u5206\u5df2\u7ecf\u5305\u62ec\u4e86"
     ],
     "language": "python",
     "metadata": {},
     "outputs": []
    },
    {
     "cell_type": "code",
     "collapsed": true,
     "input": [
      "#\u83b7\u53d6\u4e2d\u56fd\u533aPython\u8bed\u8a00\u7684\u6392\u540d(\u524d\uff11\uff10\uff10\u540d)\n",
      "d = {\"items\":[]}\n",
      "url = 'https://api.github.com/search/users?sort=followers&q=location:china+language:python&per_page=100&page='\n",
      "rank_count=1\n",
      "filename = \"py_user.json\"\n",
      "filename1 = \"py_userinfo.json\"\n",
      "filename2 = \"py_userMoreInfo.json\"\n",
      "\n",
      "#\u83b7\u53d6\u6392\u540d\n",
      "for i in range(rank_count):\n",
      "    print url + str(i+1)\n",
      "    newUrl = url + str(i+1)\n",
      "    r = requests.get(newUrl)\n",
      "    temp = r.json()\n",
      "    d['items'].extend(temp['items'])\n",
      "\n",
      "json.dump(d, open(filename, 'w'))\n",
      "print 'finish rank user'\n",
      "\n",
      "#\u83b7\u53d6\u7528\u6237\u8be6\u7ec6\u4fe1\u606f\n",
      "with open(filename, \"r\") as f:\n",
      "    d1 = json.load(f)\n",
      "ACCESS_TOKEN = '0d1c6d6da836bc28b691f87dd34a1fbdc604c895'\n",
      "client = Github(ACCESS_TOKEN, per_page=100)\n",
      "t = {}\n",
      "notdone=[]\n",
      "j=0\n",
      "for i in d1['items']:\n",
      "    try:\n",
      "        user = client.get_user(i['login'])\n",
      "        t[user._rawData['login']] = user._rawData\n",
      "    except Exception,e:\n",
      "        print \"time out\"\n",
      "        notdone.append(i['login'])\n",
      "    if (j%11)==0:\n",
      "        print j\n",
      "    j = j + 1\n",
      "\n",
      "json.dump(t, open(filename1, 'w'))\n",
      "print 'finish user info'\n",
      "\n",
      "#\u91cd\u65b0\u6392\u5e8f\n",
      "with open(filename1, \"r\") as f:\n",
      "    d2 = json.load(f)\n",
      "with open(filename, \"r\") as f:\n",
      "    d1 = json.load(f)\n",
      "\n",
      "d = []\n",
      "for i in d1['items']:\n",
      "    for k in d2:\n",
      "        try:\n",
      "            if i['login'] == k:\n",
      "#                 print k\n",
      "                d.append(d2[k])\n",
      "#                 apendx.append(k)\n",
      "        except Exception,e:\n",
      "            pass\n",
      "\n",
      "json.dump(d, open(filename2, 'w'))\n",
      "print 'DONE'"
     ],
     "language": "python",
     "metadata": {},
     "outputs": [
      {
       "output_type": "stream",
       "stream": "stdout",
       "text": [
        "https://api.github.com/search/users?sort=followers&q=location:china+language:python&per_page=100&page=1\n",
        "finish rank user"
       ]
      },
      {
       "output_type": "stream",
       "stream": "stdout",
       "text": [
        "\n",
        "0"
       ]
      },
      {
       "output_type": "stream",
       "stream": "stdout",
       "text": [
        "\n",
        "11"
       ]
      },
      {
       "output_type": "stream",
       "stream": "stdout",
       "text": [
        "\n",
        "22"
       ]
      },
      {
       "output_type": "stream",
       "stream": "stdout",
       "text": [
        "\n",
        "33"
       ]
      },
      {
       "output_type": "stream",
       "stream": "stdout",
       "text": [
        "\n",
        "44"
       ]
      },
      {
       "output_type": "stream",
       "stream": "stdout",
       "text": [
        "\n",
        "55"
       ]
      },
      {
       "output_type": "stream",
       "stream": "stdout",
       "text": [
        "\n",
        "66"
       ]
      },
      {
       "output_type": "stream",
       "stream": "stdout",
       "text": [
        "\n",
        "77"
       ]
      },
      {
       "output_type": "stream",
       "stream": "stdout",
       "text": [
        "\n",
        "88"
       ]
      },
      {
       "output_type": "stream",
       "stream": "stdout",
       "text": [
        "\n",
        "time out"
       ]
      },
      {
       "output_type": "stream",
       "stream": "stdout",
       "text": [
        "\n",
        "99"
       ]
      },
      {
       "output_type": "stream",
       "stream": "stdout",
       "text": [
        "\n",
        "finish user info\n",
        "DONE"
       ]
      },
      {
       "output_type": "stream",
       "stream": "stdout",
       "text": [
        "\n"
       ]
      }
     ],
     "prompt_number": 3
    },
    {
     "cell_type": "code",
     "collapsed": false,
     "input": [
      "#search\u3000\n",
      "d = {\"items\":[]}\n",
      "url = 'https://api.github.com/search/users?sort=followers&q=location:china+language:python&per_page=100&page='\n",
      "rank_count=1\n",
      "\n",
      "#\u83b7\u53d6\u6392\u540d\n",
      "for i in range(rank_count):\n",
      "    print url + str(i+1)\n",
      "    newUrl = url + str(i+1)\n",
      "    r = requests.get(newUrl)\n",
      "    temp = r.json()\n",
      "    d['items'].extend(temp['items'])\n",
      "\n",
      "print 'finish rank user'\n",
      "\n",
      "#\u83b7\u53d6\u7528\u6237\u8be6\u7ec6\u4fe1\u606f\n",
      "username = 'ch710798472'\n",
      "password = 'Mm456123'\n",
      "ACCESS_TOKEN = '0d1c6d6da836bc28b691f87dd34a1fbdc604c895'\n",
      "client = Github(username,password=password, per_page=100)\n",
      "t = {}\n",
      "notdone=[]\n",
      "j=0\n",
      "for i in d['items']:\n",
      "    try:\n",
      "        user = client.get_user(i['login'])\n",
      "        t[user._rawData['login']] = user._rawData\n",
      "    except Exception,e:\n",
      "        print \"time out\"\n",
      "        notdone.append(i['login'])\n",
      "    if (j%10)==0:\n",
      "        print j\n",
      "    j = j + 1\n",
      "\n",
      "print 'finish user info'\n",
      "\n",
      "#\u91cd\u65b0\u6392\u5e8f\n",
      "\n",
      "d1 = []#\u6700\u540e\u7684\u7ed3\u679c\u5b58\u50a8\n",
      "for i in d['items']:\n",
      "    for k in t:\n",
      "        try:\n",
      "            if i['login'] == k:\n",
      "#                 print k\n",
      "                d1.append(t[k])\n",
      "#                 apendx.append(k)\n",
      "        except Exception,e:\n",
      "            pass\n",
      "\n",
      "print 'DONE'"
     ],
     "language": "python",
     "metadata": {},
     "outputs": [
      {
       "output_type": "stream",
       "stream": "stdout",
       "text": [
        "https://api.github.com/search/users?sort=followers&q=location:china+language:python&per_page=100&page=1\n",
        "finish rank user"
       ]
      },
      {
       "output_type": "stream",
       "stream": "stdout",
       "text": [
        "\n",
        "0"
       ]
      },
      {
       "output_type": "stream",
       "stream": "stdout",
       "text": [
        "\n",
        "11"
       ]
      },
      {
       "output_type": "stream",
       "stream": "stdout",
       "text": [
        "\n",
        "22"
       ]
      },
      {
       "output_type": "stream",
       "stream": "stdout",
       "text": [
        "\n",
        "33"
       ]
      },
      {
       "output_type": "stream",
       "stream": "stdout",
       "text": [
        "\n",
        "44"
       ]
      },
      {
       "output_type": "stream",
       "stream": "stdout",
       "text": [
        "\n",
        "55"
       ]
      },
      {
       "output_type": "stream",
       "stream": "stdout",
       "text": [
        "\n",
        "66"
       ]
      },
      {
       "output_type": "stream",
       "stream": "stdout",
       "text": [
        "\n",
        "77"
       ]
      },
      {
       "output_type": "stream",
       "stream": "stdout",
       "text": [
        "\n",
        "88"
       ]
      },
      {
       "output_type": "stream",
       "stream": "stdout",
       "text": [
        "\n",
        "99"
       ]
      },
      {
       "output_type": "stream",
       "stream": "stdout",
       "text": [
        "\n",
        "finish user info\n",
        "DONE\n"
       ]
      }
     ],
     "prompt_number": 3
    },
    {
     "cell_type": "code",
     "collapsed": false,
     "input": [
      "username = 'ch710798472'\n",
      "password = 'Mm456123'\n",
      "client = Github(login_or_token=username,password=password, per_page=100)\n",
      "\n",
      "USER = 'ch710798472'\n",
      "REPO = 'python_aiml_rebot'\n",
      "user = client.get_user(USER)\n",
      "repo = user.get_repo(REPO)\n",
      "\n",
      "stargazers = [ s for s in repo.get_stargazers() ] #\u83b7\u5f97\u5173\u6ce8\u8005\uff0c\u901a\u5e38\u8fd9\u4e2a\u4eba\u6570\u6bd4\u8f83\u591a\n",
      "contributors = [ s for s in repo.get_contributors() ] #\u83b7\u5f97\u8d21\u732e\u8005\n",
      "\n",
      "g = nx.DiGraph()\n",
      "g.add_node(repo.name + '(r)', type='repo', lang=repo.language, owner=user.login)\n",
      "\n",
      "for sg in stargazers:\n",
      "    g.add_node(sg.login + '(u)', type='user')\n",
      "    g.add_edge(sg.login + '(u)', repo.name + '(r)', type='gazes')\n",
      "print 'finish add stargazers'\n",
      "\n",
      "for sg in contributors:\n",
      "    g.add_node(sg.login + '(u)', type='user')\n",
      "    g.add_edge(sg.login + '(u)', repo.name + '(r)', type='conbs')\n",
      "print 'finish add contributors'\n",
      "\n",
      "d = json_graph.node_link_data(g)\n",
      "filename = \"connect.json\"\n",
      "json.dump(d, open(filename, 'w'))"
     ],
     "language": "python",
     "metadata": {},
     "outputs": [
      {
       "output_type": "stream",
       "stream": "stdout",
       "text": [
        "ch710798472\n",
        "aceport\n",
        "finish add stargazers\n",
        "ch710798472\n",
        "finish add contributors\n",
        "\n"
       ]
      }
     ],
     "prompt_number": 8
    },
    {
     "cell_type": "code",
     "collapsed": false,
     "input": [
      "w = [ s for s in user.get_watched() ] \n",
      "for sg in w:\n",
      "    print sg.name"
     ],
     "language": "python",
     "metadata": {},
     "outputs": [
      {
       "output_type": "stream",
       "stream": "stdout",
       "text": [
        "linux\n",
        "GithubRecommended\n",
        "dive-into-machine-learning\n",
        "Data-Analysis-and-Machine-Learning-Projects\n",
        "PocketHub\n",
        "zh-django-best-practices\n",
        "XposedBridge\n",
        "TheSevenWeapons\n",
        "github-widget-user\n",
        "hosts\n",
        "k-vim\n",
        "Monkey\n",
        "githot\n",
        "simple-data\n",
        "github-ranking\n",
        "bootstrap\n",
        "githuber.info\n",
        "edx_analytics_ustc\n",
        "oh-my-fish\n",
        "oh-my-zsh\n",
        "python_aiml_rebot\n",
        "WeRoBot\n",
        "wechat-bot\n",
        "django_chatterbot\n",
        "hubot\n",
        "ChatterBot\n",
        "CloudBot\n",
        "tcexam\n",
        "scikit-learn-tutorial\n",
        "libsvm\n",
        "awesome-interviews\n",
        "ibis\n",
        "edunext-platform\n",
        "edx_cypress_docker\n",
        "d3py\n",
        "OpenRefine\n",
        "Mining-the-Social-Web-2nd-Edition\n",
        "Mining-the-Social-Web\n",
        "python\n",
        "ANALYSE\n",
        "ANALYSE\n",
        "edx-platform\n",
        "sshuttle\n",
        "ch710798472.github.io\n",
        "just_fork_blog\n",
        "EZLippi.github.io\n",
        "awesome-machine-learning\n",
        "finish add contributors\n"
       ]
      }
     ],
     "prompt_number": 5
    },
    {
     "cell_type": "code",
     "collapsed": false,
     "input": [
      "username = 'ch710798472'\n",
      "password = 'Mm456123'\n",
      "client = Github(login_or_token=username,password=password, per_page=100)\n",
      "\n",
      "USER = 'ch710798472'\n",
      "user = client.get_user(USER)\n",
      "repos = [s for s in user.get_repos()]\n",
      "g = nx.DiGraph()\n",
      "g.add_node(USER + '(u)', type='user')\n",
      "\n",
      "try:\n",
      "    for r in repos:\n",
      "        stargazers = [ s for s in r.get_stargazers() ]\n",
      "        if(len(stargazers)):\n",
      "            g.add_edge(USER + '(u)',r.name + '(r)', type='have')\n",
      "\n",
      "        for sg in stargazers:\n",
      "            g.add_node(sg.login + '(u)', type='user')\n",
      "            g.add_edge(sg.login + '(u)', r.name + '(r)', type='gazes')\n",
      "\n",
      "        contributors = [ s for s in r.get_contributors() ]\n",
      "        for sg in contributors:\n",
      "            g.add_node(sg.login + '(u)', type='user')\n",
      "            g.add_edge(sg.login + '(u)', r.name + '(r)', type='conbs')\n",
      "except Exception,e:\n",
      "    print \"time out\"\n"
     ],
     "language": "python",
     "metadata": {},
     "outputs": [
      {
       "output_type": "stream",
       "stream": "stdout",
       "text": [
        "start add contributors\n",
        "finish add stargazers\n",
        "start add contributors\n",
        "finish add contributors"
       ]
      },
      {
       "output_type": "stream",
       "stream": "stdout",
       "text": [
        "\n",
        "start add contributors"
       ]
      },
      {
       "output_type": "stream",
       "stream": "stdout",
       "text": [
        "\n",
        "finish add stargazers\n",
        "start add contributors\n",
        "finish add contributors"
       ]
      },
      {
       "output_type": "stream",
       "stream": "stdout",
       "text": [
        "\n",
        "start add contributors"
       ]
      },
      {
       "output_type": "stream",
       "stream": "stdout",
       "text": [
        "\n",
        "finish add stargazers\n",
        "start add contributors\n",
        "finish add contributors"
       ]
      },
      {
       "output_type": "stream",
       "stream": "stdout",
       "text": [
        "\n",
        "start add contributors"
       ]
      },
      {
       "output_type": "stream",
       "stream": "stdout",
       "text": [
        "\n",
        "finish add stargazers\n",
        "start add contributors\n",
        "finish add contributors"
       ]
      },
      {
       "output_type": "stream",
       "stream": "stdout",
       "text": [
        "\n",
        "start add contributors"
       ]
      },
      {
       "output_type": "stream",
       "stream": "stdout",
       "text": [
        "\n",
        "finish add stargazers\n",
        "start add contributors\n",
        "finish add contributors"
       ]
      },
      {
       "output_type": "stream",
       "stream": "stdout",
       "text": [
        "\n",
        "start add contributors"
       ]
      },
      {
       "output_type": "stream",
       "stream": "stdout",
       "text": [
        "\n",
        "finish add stargazers\n",
        "start add contributors\n",
        "finish add contributors"
       ]
      },
      {
       "output_type": "stream",
       "stream": "stdout",
       "text": [
        "\n",
        "start add contributors"
       ]
      },
      {
       "output_type": "stream",
       "stream": "stdout",
       "text": [
        "\n",
        "finish add stargazers\n",
        "start add contributors\n",
        "finish add contributors"
       ]
      },
      {
       "output_type": "stream",
       "stream": "stdout",
       "text": [
        "\n",
        "start add contributors"
       ]
      },
      {
       "output_type": "stream",
       "stream": "stdout",
       "text": [
        "\n",
        "finish add stargazers\n",
        "start add contributors\n",
        "finish add contributors"
       ]
      },
      {
       "output_type": "stream",
       "stream": "stdout",
       "text": [
        "\n",
        "start add contributors"
       ]
      },
      {
       "output_type": "stream",
       "stream": "stdout",
       "text": [
        "\n",
        "finish add stargazers\n",
        "start add contributors\n",
        "finish add contributors"
       ]
      },
      {
       "output_type": "stream",
       "stream": "stdout",
       "text": [
        "\n",
        "start add contributors"
       ]
      },
      {
       "output_type": "stream",
       "stream": "stdout",
       "text": [
        "\n",
        "finish add stargazers\n",
        "start add contributors\n",
        "finish add contributors"
       ]
      },
      {
       "output_type": "stream",
       "stream": "stdout",
       "text": [
        "\n",
        "start add contributors"
       ]
      },
      {
       "output_type": "stream",
       "stream": "stdout",
       "text": [
        "\n",
        "finish add stargazers\n",
        "start add contributors\n",
        "finish add contributors"
       ]
      },
      {
       "output_type": "stream",
       "stream": "stdout",
       "text": [
        "\n",
        "start add contributors"
       ]
      },
      {
       "output_type": "stream",
       "stream": "stdout",
       "text": [
        "\n",
        "finish add stargazers\n",
        "start add contributors\n",
        "finish add contributors"
       ]
      },
      {
       "output_type": "stream",
       "stream": "stdout",
       "text": [
        "\n",
        "start add contributors"
       ]
      },
      {
       "output_type": "stream",
       "stream": "stdout",
       "text": [
        "\n",
        "finish add stargazers\n",
        "start add contributors\n",
        "finish add contributors"
       ]
      },
      {
       "output_type": "stream",
       "stream": "stdout",
       "text": [
        "\n",
        "start add contributors"
       ]
      },
      {
       "output_type": "stream",
       "stream": "stdout",
       "text": [
        "\n",
        "finish add stargazers\n",
        "start add contributors\n",
        "finish add contributors"
       ]
      },
      {
       "output_type": "stream",
       "stream": "stdout",
       "text": [
        "\n",
        "start add contributors"
       ]
      },
      {
       "output_type": "stream",
       "stream": "stdout",
       "text": [
        "\n",
        "finish add stargazers\n",
        "start add contributors\n",
        "finish add contributors"
       ]
      },
      {
       "output_type": "stream",
       "stream": "stdout",
       "text": [
        "\n",
        "start add contributors"
       ]
      },
      {
       "output_type": "stream",
       "stream": "stdout",
       "text": [
        "\n",
        "finish add stargazers\n",
        "start add contributors\n",
        "finish add contributors"
       ]
      },
      {
       "output_type": "stream",
       "stream": "stdout",
       "text": [
        "\n",
        "start add contributors"
       ]
      },
      {
       "output_type": "stream",
       "stream": "stdout",
       "text": [
        "\n",
        "finish add stargazers\n",
        "start add contributors\n",
        "finish add contributors"
       ]
      },
      {
       "output_type": "stream",
       "stream": "stdout",
       "text": [
        "\n",
        "start add contributors"
       ]
      },
      {
       "output_type": "stream",
       "stream": "stdout",
       "text": [
        "\n",
        "finish add stargazers\n",
        "start add contributors\n",
        "finish add contributors"
       ]
      },
      {
       "output_type": "stream",
       "stream": "stdout",
       "text": [
        "\n",
        "start add contributors"
       ]
      },
      {
       "output_type": "stream",
       "stream": "stdout",
       "text": [
        "\n",
        "finish add stargazers\n",
        "start add contributors\n",
        "finish add contributors"
       ]
      },
      {
       "output_type": "stream",
       "stream": "stdout",
       "text": [
        "\n",
        "start add contributors"
       ]
      },
      {
       "output_type": "stream",
       "stream": "stdout",
       "text": [
        "\n",
        "finish add stargazers\n",
        "start add contributors\n",
        "finish add contributors"
       ]
      },
      {
       "output_type": "stream",
       "stream": "stdout",
       "text": [
        "\n",
        "start add contributors"
       ]
      },
      {
       "output_type": "stream",
       "stream": "stdout",
       "text": [
        "\n",
        "finish add stargazers\n",
        "start add contributors\n",
        "finish add contributors"
       ]
      },
      {
       "output_type": "stream",
       "stream": "stdout",
       "text": [
        "\n",
        "start add contributors"
       ]
      },
      {
       "output_type": "stream",
       "stream": "stdout",
       "text": [
        "\n",
        "finish add stargazers\n",
        "start add contributors\n",
        "finish add contributors"
       ]
      },
      {
       "output_type": "stream",
       "stream": "stdout",
       "text": [
        "\n",
        "start add contributors"
       ]
      },
      {
       "output_type": "stream",
       "stream": "stdout",
       "text": [
        "\n",
        "finish add stargazers\n",
        "start add contributors\n",
        "finish add contributors"
       ]
      },
      {
       "output_type": "stream",
       "stream": "stdout",
       "text": [
        "\n",
        "start add contributors"
       ]
      },
      {
       "output_type": "stream",
       "stream": "stdout",
       "text": [
        "\n",
        "finish add stargazers\n",
        "start add contributors\n",
        "finish add contributors"
       ]
      },
      {
       "output_type": "stream",
       "stream": "stdout",
       "text": [
        "\n",
        "start add contributors"
       ]
      },
      {
       "output_type": "stream",
       "stream": "stdout",
       "text": [
        "\n",
        "finish add stargazers\n",
        "start add contributors\n",
        "finish add contributors"
       ]
      },
      {
       "output_type": "stream",
       "stream": "stdout",
       "text": [
        "\n",
        "start add contributors"
       ]
      },
      {
       "output_type": "stream",
       "stream": "stdout",
       "text": [
        "\n",
        "finish add stargazers\n",
        "start add contributors\n",
        "finish add contributors"
       ]
      },
      {
       "output_type": "stream",
       "stream": "stdout",
       "text": [
        "\n",
        "start add contributors"
       ]
      },
      {
       "output_type": "stream",
       "stream": "stdout",
       "text": [
        "\n",
        "finish add stargazers\n",
        "start add contributors\n",
        "finish add contributors"
       ]
      },
      {
       "output_type": "stream",
       "stream": "stdout",
       "text": [
        "\n",
        "start add contributors"
       ]
      },
      {
       "output_type": "stream",
       "stream": "stdout",
       "text": [
        "\n",
        "finish add stargazers\n",
        "start add contributors\n",
        "finish add contributors"
       ]
      },
      {
       "output_type": "stream",
       "stream": "stdout",
       "text": [
        "\n",
        "start add contributors"
       ]
      },
      {
       "output_type": "stream",
       "stream": "stdout",
       "text": [
        "\n",
        "finish add stargazers\n",
        "start add contributors\n",
        "finish add contributors"
       ]
      },
      {
       "output_type": "stream",
       "stream": "stdout",
       "text": [
        "\n",
        "start add contributors"
       ]
      },
      {
       "output_type": "stream",
       "stream": "stdout",
       "text": [
        "\n",
        "finish add stargazers\n",
        "start add contributors\n",
        "finish add contributors"
       ]
      },
      {
       "output_type": "stream",
       "stream": "stdout",
       "text": [
        "\n"
       ]
      }
     ],
     "prompt_number": 23
    },
    {
     "cell_type": "code",
     "collapsed": false,
     "input": [
      "print g.edges()"
     ],
     "language": "python",
     "metadata": {},
     "outputs": [
      {
       "output_type": "stream",
       "stream": "stdout",
       "text": [
        "[(u'bridger(u)', u'ANALYSE(r)'), (u'bridger(u)', u'edx-platform(r)'), (u'dimfeld(u)', u'luigi(r)'), (u'jcftang(u)', u'sshuttle(r)'), (u'Lyla-Fischer(u)', u'ANALYSE(r)'), (u'Lyla-Fischer(u)', u'edx-platform(r)'), (u'ueg1990(u)', u'edx_data_research(r)'), (u'peter-fogg(u)', u'ANALYSE(r)'), (u'peter-fogg(u)', u'edx-platform(r)'), (u'lamagnifica(u)', u'ANALYSE(r)'), (u'lamagnifica(u)', u'edx-analytics-dashboard(r)'), (u'lamagnifica(u)', u'edx-platform(r)'), (u'lamagnifica(u)', u'edx-analytics-data-api(r)'), (u'zjhzxhz(u)', u'XX-Net(r)'), (u'michaelchum(u)', u'edx_data_research(r)'), (u'rantav(u)', u'luigi(r)'), (u'wangjiezhe(u)', u'free-programming-books-zh_CN(r)'), (u'Marco-Santoni(u)', u'luigi(r)'), (u'jmeagher(u)', u'luigi(r)'), (u'justjavac(u)', u'free-programming-books-zh_CN(r)'), (u'kunminghouzz(u)', u'luigi(r)'), (u'paxan(u)', u'luigi(r)'), (u'lusfold(u)', u'XX-Net(r)'), (u'shawone(u)', u'ANALYSE(r)'), (u'shawone(u)', u'edx-platform(r)'), (u'jfeala(u)', u'luigi(r)'), (u'yfdyh000(u)', u'XX-Net(r)'), (u'andy-armstrong(u)', u'ANALYSE(r)'), (u'andy-armstrong(u)', u'edx-platform(r)'), (u'a-nassif(u)', u'ANALYSE(r)'), (u'a-nassif(u)', u'edx-platform(r)'), (u'edkurowski(u)', u'luigi(r)'), (u'jtauber(u)', u'ANALYSE(r)'), (u'jtauber(u)', u'edx-platform(r)'), (u'tnorum(u)', u'ANALYSE(r)'), (u'tnorum(u)', u'edx-platform(r)'), (u'e-kolpakov(u)', u'ANALYSE(r)'), (u'e-kolpakov(u)', u'edx-platform(r)'), (u'oncereply(u)', u'free-programming-books-zh_CN(r)'), (u'JuanitoFatas(u)', u'free-programming-books-zh_CN(r)'), (u'geowurster(u)', u'luigi(r)'), (u'danielcebrian(u)', u'ANALYSE(r)'), (u'danielcebrian(u)', u'edx-platform(r)'), (u'pmitros(u)', u'ANALYSE(r)'), (u'pmitros(u)', u'edx-platform(r)'), (u'hadesbox(u)', u'luigi(r)'), (u'hblanks(u)', u'luigi(r)'), (u'dmitchell(u)', u'ANALYSE(r)'), (u'dmitchell(u)', u'edx-platform(r)'), (u'arjun810(u)', u'ANALYSE(r)'), (u'arjun810(u)', u'edx-platform(r)'), (u'mikepii(u)', u'luigi(r)'), (u'macdiesel(u)', u'edx-platform(r)'), (u'mulby(u)', u'ANALYSE(r)'), (u'mulby(u)', u'edx-analytics-pipeline(r)'), (u'mulby(u)', u'edx-analytics-dashboard(r)'), (u'mulby(u)', u'edx-platform(r)'), (u'mulby(u)', u'edx-analytics-data-api(r)'), (u'gar(u)', u'Mining-the-Social-Web(r)'), (u'asadiqbal08(u)', u'ANALYSE(r)'), (u'asadiqbal08(u)', u'edx-platform(r)'), (u'dhruvg(u)', u'luigi(r)'), (u'invalid-email-address(u)', u'ANALYSE(r)'), (u'invalid-email-address(u)', u'edx-platform(r)'), (u'eepstein(u)', u'luigi(r)'), (u'johnespinosa(u)', u'edx-platform(r)'), (u'JonahStanley(u)', u'ANALYSE(r)'), (u'JonahStanley(u)', u'edx-platform(r)'), (u'singingwolfboy(u)', u'ANALYSE(r)'), (u'singingwolfboy(u)', u'edx-analytics-dashboard(r)'), (u'singingwolfboy(u)', u'edx-platform(r)'), (u'pdehaye(u)', u'ANALYSE(r)'), (u'pdehaye(u)', u'edx-platform(r)'), (u'jcdyer(u)', u'edx-platform(r)'), (u'ichuang(u)', u'ANALYSE(r)'), (u'ichuang(u)', u'edx-platform(r)'), (u'Mooophy(u)', u'free-programming-books-zh_CN(r)'), (u'benjaminhawkeslewis(u)', u'luigi(r)'), (u'htareque(u)', u'ANALYSE(r)'), (u'htareque(u)', u'edx-platform(r)'), (u'chencl(u)', u'free-programming-books-zh_CN(r)'), (u'qha0731(u)', u'free-programming-books-zh_CN(r)'), (u'yonromai(u)', u'luigi(r)'), (u'martynjames(u)', u'ANALYSE(r)'), (u'martynjames(u)', u'edx-platform(r)'), (u'mjmayank(u)', u'edx-platform(r)'), (u'terman(u)', u'ANALYSE(r)'), (u'terman(u)', u'edx-platform(r)'), (u'mirjamsk(u)', u'edx-platform(r)'), (u'lapentab(u)', u'ANALYSE(r)'), (u'lapentab(u)', u'edx-platform(r)'), (u'nevillelyh(u)', u'luigi(r)'), (u'aldanor(u)', u'luigi(r)'), (u'mikigoyal(u)', u'ANALYSE(r)'), (u'mikigoyal(u)', u'edx-platform(r)'), (u'leto(u)', u'sshuttle(r)'), (u'moandcompany(u)', u'luigi(r)'), (u'mjfrey(u)', u'edx-platform(r)'), (u'Binrun(u)', u'free-programming-books-zh_CN(r)'), (u'ccp0101(u)', u'ANALYSE(r)'), (u'ccp0101(u)', u'edx-platform(r)'), (u'ahsan-ul-haq(u)', u'edx-platform(r)'), (u'AnuragRamdasan(u)', u'ANALYSE(r)'), (u'AnuragRamdasan(u)', u'edx-platform(r)'), (u'jruiperezv(u)', u'ANALYSE(r)'), (u'davestgermain(u)', u'ANALYSE(r)'), (u'davestgermain(u)', u'edx-platform(r)'), (u'httpe(u)', u'XX-Net(r)'), (u'gouthambs(u)', u'luigi(r)'), (u'ajornetic3(u)', u'luigi(r)'), (u'giocalitri(u)', u'edx-platform(r)'), (u'debugzxcv(u)', u'XX-Net(r)'), (u'kaizoku(u)', u'sshuttle(r)'), (u'Tarrasch(u)', u'luigi(r)'), (u'tianyicui(u)', u'sshuttle(r)'), (u'robrap(u)', u'edx-platform(r)'), (u'soxofaan(u)', u'luigi(r)'), (u'chocolateboy(u)', u'sshuttle(r)'), (u'grissiom(u)', u'sshuttle(r)'), (u'daveFNbuck(u)', u'luigi(r)'), (u'Sergeant007(u)', u'luigi(r)'), (u'interskh(u)', u'luigi(r)'), (u'cguardia(u)', u'edx-platform(r)'), (u'steenzout(u)', u'luigi(r)'), (u'gward(u)', u'luigi(r)'), (u'laserson(u)', u'luigi(r)'), (u'bstempi(u)', u'luigi(r)'), (u'BenjiLee(u)', u'edx-platform(r)'), (u'AndrewLiesinger(u)', u'Data-Analysis-and-Machine-Learning-Projects(r)'), (u'iralls(u)', u'luigi(r)'), (u'penelopy(u)', u'luigi(r)'), (u'cahrens(u)', u'ANALYSE(r)'), (u'cahrens(u)', u'edx-platform(r)'), (u'mbifulco(u)', u'edx-platform(r)'), (u'shnayder(u)', u'ANALYSE(r)'), (u'shnayder(u)', u'edx-platform(r)'), (u'talbs(u)', u'ANALYSE(r)'), (u'talbs(u)', u'edx-platform(r)'), (u'swdanielli(u)', u'ANALYSE(r)'), (u'swdanielli(u)', u'edx-platform(r)'), (u'tasawernawaz(u)', u'edx-platform(r)'), (u'miku(u)', u'luigi(r)'), (u'davidxia(u)', u'luigi(r)'), (u'Shrhawk(u)', u'edx-platform(r)'), (u'mjankowski(u)', u'ANALYSE(r)'), (u'mjankowski(u)', u'edx-platform(r)'), (u'mbruggmann(u)', u'luigi(r)'), (u'tconklin(u)', u'luigi(r)'), (u'hikari-boulders(u)', u'ANALYSE(r)'), (u'hikari-boulders(u)', u'edx-platform(r)'), (u'ph87(u)', u'free-programming-books-zh_CN(r)'), (u'fmyzjs(u)', u'ANALYSE(r)'), (u'fmyzjs(u)', u'edx-platform(r)'), (u'amir-qayyum-khan(u)', u'edx-platform(r)'), (u'cheng-shiwen(u)', u'ANALYSE(r)'), (u'cheng-shiwen(u)', u'edx-platform(r)'), (u'danielfrg(u)', u'luigi(r)'), (u'sarina(u)', u'ANALYSE(r)'), (u'sarina(u)', u'edx-analytics-dashboard(r)'), (u'sarina(u)', u'edx-platform(r)'), (u'polesye(u)', u'ANALYSE(r)'), (u'polesye(u)', u'edx-platform(r)'), (u'kmather73(u)', u'pydata-book(r)'), (u'jeremykarn(u)', u'luigi(r)'), (u'arthurian(u)', u'ANALYSE(r)'), (u'arthurian(u)', u'edx-platform(r)'), (u'jysperm(u)', u'free-programming-books-zh_CN(r)'), (u'leenewton75(u)', u'edx-platform(r)'), (u'flowerhack(u)', u'ANALYSE(r)'), (u'flowerhack(u)', u'edx-platform(r)'), (u'fredsmith(u)', u'ANALYSE(r)'), (u'fredsmith(u)', u'edx-platform(r)'), (u'liquid-sky(u)', u'luigi(r)'), (u'tusbar(u)', u'ANALYSE(r)'), (u'tusbar(u)', u'edx-platform(r)'), (u'awais786(u)', u'edx-platform(r)'), (u'wajeeha-khalid(u)', u'edx-platform(r)'), (u'xxnet(u)', u'XX-Net(r)'), (u'mat-peterson(u)', u'ANALYSE(r)'), (u'mat-peterson(u)', u'edx-platform(r)'), (u'bdero(u)', u'ANALYSE(r)'), (u'bdero(u)', u'edx-platform(r)'), (u'mcpanic(u)', u'ANALYSE(r)'), (u'mcpanic(u)', u'edx-platform(r)'), (u'clytwynec(u)', u'ANALYSE(r)'), (u'clytwynec(u)', u'edx-analytics-dashboard(r)'), (u'clytwynec(u)', u'edx-platform(r)'), (u'VikParuchuri(u)', u'ANALYSE(r)'), (u'VikParuchuri(u)', u'edx-platform(r)'), (u'lundstrj(u)', u'luigi(r)'), (u'xcompass(u)', u'edx-platform(r)'), (u'frrrances(u)', u'ANALYSE(r)'), (u'frrrances(u)', u'edx-platform(r)'), (u'carsongee(u)', u'ANALYSE(r)'), (u'carsongee(u)', u'edx-platform(r)'), (u'ataki(u)', u'edx-platform(r)'), (u'odise(u)', u'luigi(r)'), (u'auraz(u)', u'ANALYSE(r)'), (u'auraz(u)', u'edx-platform(r)'), (u'zubair-arbi(u)', u'ANALYSE(r)'), (u'zubair-arbi(u)', u'edx-platform(r)'), (u'caesar2164(u)', u'ANALYSE(r)'), (u'caesar2164(u)', u'edx-platform(r)'), (u'noisecapella(u)', u'edx-platform(r)'), (u'tommyengstrom(u)', u'luigi(r)'), (u'blooshirt(u)', u'luigi(r)'), (u'rhiever(u)', u'Data-Analysis-and-Machine-Learning-Projects(r)'), (u'p5k6(u)', u'luigi(r)'), (u'JonNelson(u)', u'luigi(r)'), (u'AkA84(u)', u'edx-platform(r)'), (u'dyygtfx(u)', u'free-programming-books-zh_CN(r)'), (u'lazybird(u)', u'edx-platform(r)'), (u'jbarciauskas(u)', u'edx-platform(r)'), (u'wwj718(u)', u'luigi(r)'), (u'wwj718(u)', u'edx_cypress_docker(r)'), (u'wwj718(u)', u'edx-platform(r)'), (u'wwj718(u)', u'free-programming-books-zh_CN(r)'), (u'SamRozen(u)', u'luigi(r)'), (u'yarko(u)', u'ANALYSE(r)'), (u'yarko(u)', u'edx-platform(r)'), (u'robbles(u)', u'luigi(r)'), (u'nrh(u)', u'luigi(r)'), (u'AlasdairSwan(u)', u'ANALYSE(r)'), (u'AlasdairSwan(u)', u'edx-platform(r)'), (u'drheld(u)', u'sshuttle(r)'), (u'chancyWu(u)', u'free-programming-books-zh_CN(r)'), (u'cbowns(u)', u'sshuttle(r)'), (u'kimth(u)', u'ANALYSE(r)'), (u'kimth(u)', u'edx-platform(r)'), (u'ryaanwells(u)', u'luigi(r)'), (u'juananpe(u)', u'ANALYSE(r)'), (u'juananpe(u)', u'edx-platform(r)'), (u'xuxiaodong(u)', u'free-programming-books-zh_CN(r)'), (u'Leobouloc(u)', u'XX-Net(r)'), (u'olmar(u)', u'ANALYSE(r)'), (u'olmar(u)', u'edx-platform(r)'), (u'ruchee(u)', u'free-programming-books-zh_CN(r)'), (u'a1k0n(u)', u'luigi(r)'), (u'kiyoto(u)', u'luigi(r)'), (u'Yixiaohan(u)', u'free-programming-books-zh_CN(r)'), (u'vivshri(u)', u'luigi(r)'), (u'hacke2(u)', u'free-programming-books-zh_CN(r)'), (u'cewing(u)', u'edx-platform(r)'), (u'Liam0205(u)', u'free-programming-books-zh_CN(r)'), (u'ksteph(u)', u'ANALYSE(r)'), (u'ksteph(u)', u'edx-platform(r)'), (u'dglance(u)', u'ANALYSE(r)'), (u'dglance(u)', u'edx-platform(r)'), (u'deathbymochi(u)', u'luigi(r)'), (u'kalaidin(u)', u'luigi(r)'), (u'rtshadow(u)', u'luigi(r)'), (u'halogenandtoast(u)', u'ANALYSE(r)'), (u'halogenandtoast(u)', u'edx-platform(r)'), (u'linkgod(u)', u'free-programming-books-zh_CN(r)'), (u'Nickersoft(u)', u'edx-platform(r)'), (u'cb372(u)', u'Mining-the-Social-Web(r)'), (u'catong(u)', u'ANALYSE(r)'), (u'catong(u)', u'edx-platform(r)'), (u'symbolist(u)', u'ANALYSE(r)'), (u'symbolist(u)', u'edx-platform(r)'), (u'starit(u)', u'free-programming-books-zh_CN(r)'), (u'akjags(u)', u'ANALYSE(r)'), (u'akjags(u)', u'edx-platform(r)'), (u'Kelketek(u)', u'ANALYSE(r)'), (u'Kelketek(u)', u'edx-platform(r)'), (u'jpaille(u)', u'edx-platform(r)'), (u'davemt(u)', u'luigi(r)'), (u'oliviermarquez(u)', u'ANALYSE(r)'), (u'oliviermarquez(u)', u'edx-platform(r)'), (u'aleksbreian1103(u)', u'https-github.com-ptwobrussell-Mining-the-Social-Web-2nd-Edition(r)'), (u'msegado(u)', u'ANALYSE(r)'), (u'msegado(u)', u'edx-platform(r)'), (u'aceport(u)', u'python_aiml_rebot(r)'), (u'ibrahima(u)', u'ANALYSE(r)'), (u'ibrahima(u)', u'edx-platform(r)'), (u'kevinchugh(u)', u'ANALYSE(r)'), (u'kevinchugh(u)', u'edx-platform(r)'), (u'mcgachey(u)', u'edx-platform(r)'), (u'beardeer(u)', u'edx-platform(r)'), (u'cos800(u)', u'free-programming-books-zh_CN(r)'), (u'linhua55(u)', u'XX-Net(r)'), (u'ystopia(u)', u'luigi(r)'), (u'ajschumacher(u)', u'https-github.com-ptwobrussell-Mining-the-Social-Web-2nd-Edition(r)'), (u'JackDanger(u)', u'luigi(r)'), (u'pbarrera(u)', u'luigi(r)'), (u'simonasd(u)', u'XX-Net(r)'), (u'efischer19(u)', u'edx-platform(r)'), (u'samthebest(u)', u'luigi(r)'), (u'wwek(u)', u'free-programming-books-zh_CN(r)'), (u'ziky90(u)', u'luigi(r)'), (u'clrux(u)', u'edx-platform(r)'), (u'ulzha(u)', u'luigi(r)'), (u'stephensanchez(u)', u'edx-platform(r)'), (u'aleffert(u)', u'ANALYSE(r)'), (u'aleffert(u)', u'edx-platform(r)'), (u'dcadams(u)', u'ANALYSE(r)'), (u'dcadams(u)', u'edx-platform(r)'), (u'jmvt(u)', u'ANALYSE(r)'), (u'jmvt(u)', u'edx-platform(r)'), (u'ali123(u)', u'ANALYSE(r)'), (u'ali123(u)', u'edx-platform(r)'), (u'IainNZ(u)', u'ANALYSE(r)'), (u'IainNZ(u)', u'edx-platform(r)'), (u'brianhw(u)', u'edx-analytics-dashboard(r)'), (u'brianhw(u)', u'edx-platform(r)'), (u'brianhw(u)', u'edx-analytics-data-api(r)'), (u'brianhw(u)', u'luigi(r)'), (u'brianhw(u)', u'ANALYSE(r)'), (u'brianhw(u)', u'edx-analytics-pipeline(r)'), (u'withwind93(u)', u'free-programming-books-zh_CN(r)'), (u'marcotuts(u)', u'ANALYSE(r)'), (u'marcotuts(u)', u'edx-platform(r)'), (u'ihoover(u)', u'ANALYSE(r)'), (u'ihoover(u)', u'edx-platform(r)'), (u'unityoxb(u)', u'free-programming-books-zh_CN(r)'), (u'man2life(u)', u'ANALYSE(r)'), (u'man2life(u)', u'edx-platform(r)'), (u'Xuanwo(u)', u'free-programming-books-zh_CN(r)'), (u'johnhess(u)', u'ANALYSE(r)'), (u'johnhess(u)', u'edx-platform(r)'), (u'lichunqiang(u)', u'free-programming-books-zh_CN(r)'), (u'MarkRoddy(u)', u'luigi(r)'), (u'boosh(u)', u'luigi(r)'), (u'marjev(u)', u'edx-platform(r)'), (u'SDLyu(u)', u'free-programming-books-zh_CN(r)'), (u'actsasgeek(u)', u'luigi(r)'), (u'streetdaddy(u)', u'luigi(r)'), (u'Cat7373(u)', u'XX-Net(r)'), (u'rmoch(u)', u'edx-platform(r)'), (u'minhtuev(u)', u'ANALYSE(r)'), (u'minhtuev(u)', u'edx-platform(r)'), (u'vistier(u)', u'XX-Net(r)'), (u'tlindaliu(u)', u'edx-platform(r)'), (u'tmacwill(u)', u'ANALYSE(r)'), (u'tmacwill(u)', u'edx-platform(r)'), (u'yaph(u)', u'Data-Analysis-and-Machine-Learning-Projects(r)'), (u'sefk(u)', u'ANALYSE(r)'), (u'sefk(u)', u'edx-platform(r)'), (u'albertliangcode(u)', u'edx-platform(r)'), (u'johnjlee(u)', u'edx-platform(r)'), (u'jnater(u)', u'ANALYSE(r)'), (u'jnater(u)', u'edx-platform(r)'), (u'Kisesy(u)', u'XX-Net(r)'), (u'mvj3(u)', u'luigi(r)'), (u'Gadal(u)', u'edx-platform(r)'), (u'dsjen(u)', u'ANALYSE(r)'), (u'dsjen(u)', u'edx-analytics-dashboard(r)'), (u'dsjen(u)', u'edx-platform(r)'), (u'dsjen(u)', u'edx-analytics-data-api(r)'), (u'vkaracic(u)', u'edx-platform(r)'), (u'hydrogen18(u)', u'luigi(r)'), (u'rando305(u)', u'edx-platform(r)'), (u'srpearce(u)', u'ANALYSE(r)'), (u'srpearce(u)', u'edx-platform(r)'), (u'waheedahmed(u)', u'ANALYSE(r)'), (u'waheedahmed(u)', u'edx-platform(r)'), (u'maxrothman(u)', u'edx-platform(r)'), (u'DavW(u)', u'luigi(r)'), (u'andpol(u)', u'luigi(r)'), (u'fabriziodemaria(u)', u'luigi(r)'), (u'tomquisel(u)', u'luigi(r)'), (u'kylefiedler(u)', u'ANALYSE(r)'), (u'kylefiedler(u)', u'edx-platform(r)'), (u'bmaggard(u)', u'luigi(r)'), (u'fphilipe(u)', u'luigi(r)'), (u'DongwookYoon(u)', u'edx-platform(r)'), (u'muzaffaryousaf(u)', u'edx-platform(r)'), (u'haobug(u)', u'XX-Net(r)'), (u'MrChrisJohnson(u)', u'luigi(r)'), (u'daleroberts(u)', u'luigi(r)'), (u'flyhigher139(u)', u'free-programming-books-zh_CN(r)'), (u'HassanJaveed84(u)', u'edx-analytics-pipeline(r)'), (u'fephsun(u)', u'ANALYSE(r)'), (u'fephsun(u)', u'edx-platform(r)'), (u'dragonfi(u)', u'ANALYSE(r)'), (u'dragonfi(u)', u'edx-platform(r)'), (u'alexbw(u)', u'luigi(r)'), (u'splusminusx(u)', u'luigi(r)'), (u'prizos(u)', u'luigi(r)'), (u'pbaratta(u)', u'ANALYSE(r)'), (u'pbaratta(u)', u'edx-platform(r)'), (u'muhhshoaib(u)', u'ANALYSE(r)'), (u'muhhshoaib(u)', u'edx-platform(r)'), (u'benmcmorran(u)', u'ANALYSE(r)'), (u'benmcmorran(u)', u'edx-platform(r)'), (u'lorrin(u)', u'luigi(r)'), (u'afzalwali(u)', u'edx-platform(r)'), (u'dino-cikatic(u)', u'edx-platform(r)'), (u'sgottschalk(u)', u'luigi(r)'), (u'wedaly(u)', u'ANALYSE(r)'), (u'wedaly(u)', u'edx-platform(r)'), (u'jthi3rry(u)', u'luigi(r)'), (u'zenlucent(u)', u'luigi(r)'), (u'marcore(u)', u'ANALYSE(r)'), (u'marcore(u)', u'edx-platform(r)'), (u'thatneat(u)', u'luigi(r)'), (u'emcee-spice(u)', u'edx-platform(r)'), (u'muhammad-ammar(u)', u'ANALYSE(r)'), (u'muhammad-ammar(u)', u'edx-analytics-dashboard(r)'), (u'muhammad-ammar(u)', u'edx-platform(r)'), (u'muhammad-ammar(u)', u'edx-analytics-data-api(r)'), ('ch710798472(u)', u'learn_python(r)'), ('ch710798472(u)', u'edx_cypress_docker(r)'), ('ch710798472(u)', u'python_aiml_rebot(r)'), ('ch710798472(u)', u'blog(r)'), ('ch710798472(u)', u'BusQuerySystemForWuHan(r)'), ('ch710798472(u)', u'just_fork_blog(r)'), ('ch710798472(u)', u'Real-time-query-system-based-on-HBase(r)'), ('ch710798472(u)', u'GithubRecommended(r)'), ('ch710798472(u)', u'ch710798472.github.io(r)'), ('ch710798472(u)', u'edx_note(r)'), ('ch710798472(u)', u'edx-platform(r)'), ('ch710798472(u)', u'SkyDrive(r)'), ('ch710798472(u)', u'ANALYSE(r)'), ('ch710798472(u)', u'thefirsttest(r)'), ('ch710798472(u)', u'edx_analytics_ustc(r)'), ('ch710798472(u)', u'my_home_page(r)'), ('ch710798472(u)', u'learn_c(r)'), (u'pchiu33(u)', u'edx-analytics-pipeline(r)'), (u'mlaldrid(u)', u'luigi(r)'), (u'apenney(u)', u'ANALYSE(r)'), (u'apenney(u)', u'edx-platform(r)'), (u'vaxXxa(u)', u'ANALYSE(r)'), (u'vaxXxa(u)', u'edx-platform(r)'), (u'scommab(u)', u'sshuttle(r)'), (u'berkerpeksag(u)', u'luigi(r)'), (u'stvstnfrd(u)', u'ANALYSE(r)'), (u'stvstnfrd(u)', u'edx-platform(r)'), (u'vitorbaptista(u)', u'luigi(r)'), (u'bcheng42(u)', u'ANALYSE(r)'), (u'bcheng42(u)', u'edx-platform(r)'), (u'kluo(u)', u'ANALYSE(r)'), (u'kluo(u)', u'edx-platform(r)'), (u'natehardison(u)', u'ANALYSE(r)'), (u'natehardison(u)', u'edx-platform(r)'), (u'danmbyrd(u)', u'luigi(r)'), (u'utkjad(u)', u'edx-platform(r)'), (u'ddaniels888(u)', u'luigi(r)'), (u'mtyaka(u)', u'ANALYSE(r)'), (u'mtyaka(u)', u'edx-platform(r)'), (u'ivuk(u)', u'luigi(r)'), (u'wouterdebie(u)', u'luigi(r)'), (u'kutschkem(u)', u'luigi(r)'), (u'pswaminathan(u)', u'luigi(r)'), (u'demoray(u)', u'luigi(r)'), (u'kaishin(u)', u'ANALYSE(r)'), (u'kaishin(u)', u'edx-platform(r)'), (u'me115(u)', u'free-programming-books-zh_CN(r)'), (u'aboudreault(u)', u'ANALYSE(r)'), (u'aboudreault(u)', u'edx-platform(r)'), (u'johncox-google(u)', u'ANALYSE(r)'), (u'johncox-google(u)', u'edx-platform(r)'), (u'zlsun(u)', u'XX-Net(r)'), (u'mollydb(u)', u'edx-platform(r)'), (u'rlucioni(u)', u'ANALYSE(r)'), (u'rlucioni(u)', u'edx-analytics-dashboard(r)'), (u'rlucioni(u)', u'edx-platform(r)'), (u'nomadium(u)', u'sshuttle(r)'), (u'drincruz(u)', u'luigi(r)'), (u'hasnain-naveed(u)', u'edx-platform(r)'), (u'pdpinch(u)', u'ANALYSE(r)'), (u'pdpinch(u)', u'edx-platform(r)'), (u'jorr-at-google(u)', u'ANALYSE(r)'), (u'jorr-at-google(u)', u'edx-platform(r)'), (u'OmarIthawi(u)', u'ANALYSE(r)'), (u'OmarIthawi(u)', u'edx-platform(r)'), (u'cgoldberg(u)', u'edx-platform(r)'), (u'hwrdprkns(u)', u'luigi(r)'), (u'robertjmarks(u)', u'ANALYSE(r)'), (u'robertjmarks(u)', u'edx-platform(r)'), (u'applecool(u)', u'edx-platform(r)'), (u'shindere(u)', u'ANALYSE(r)'), (u'shindere(u)', u'edx-platform(r)'), (u'supergrubby(u)', u'free-programming-books-zh_CN(r)'), (u'mgschwan(u)', u'Data-Analysis-and-Machine-Learning-Projects(r)'), (u'jkarni(u)', u'ANALYSE(r)'), (u'jkarni(u)', u'edx-platform(r)'), (u'onlynone(u)', u'luigi(r)'), (u'blindlf(u)', u'XX-Net(r)'), (u'dmin7b5(u)', u'ANALYSE(r)'), (u'dmin7b5(u)', u'edx-platform(r)'), (u'tym-oao(u)', u'luigi(r)'), (u'e0d(u)', u'ANALYSE(r)'), (u'e0d(u)', u'edx-analytics-pipeline(r)'), (u'e0d(u)', u'edx-analytics-dashboard(r)'), (u'e0d(u)', u'edx-platform(r)'), (u'e0d(u)', u'edx-analytics-data-api(r)'), (u'goncha(u)', u'ANALYSE(r)'), (u'goncha(u)', u'edx-platform(r)'), (u'0532(u)', u'free-programming-books-zh_CN(r)'), (u'chrisngan24(u)', u'luigi(r)'), (u'mlkwaqas(u)', u'ANALYSE(r)'), (u'mlkwaqas(u)', u'edx-platform(r)'), (u'hoosin(u)', u'free-programming-books-zh_CN(r)'), (u'jeffhoek(u)', u'Mining-the-Social-Web(r)'), (u'antoviaque(u)', u'ANALYSE(r)'), (u'antoviaque(u)', u'edx-platform(r)'), (u'majj(u)', u'luigi(r)'), (u'wbzyl(u)', u'https-github.com-ptwobrussell-Mining-the-Social-Web-2nd-Edition(r)'), (u'sammyrulez(u)', u'Mining-the-Social-Web(r)'), (u'neurolit(u)', u'ANALYSE(r)'), (u'neurolit(u)', u'edx-platform(r)'), (u'sjang92(u)', u'ANALYSE(r)'), (u'sjang92(u)', u'edx-platform(r)'), (u'jhelbert(u)', u'ANALYSE(r)'), (u'jhelbert(u)', u'edx-analytics-pipeline(r)'), (u'jhelbert(u)', u'edx-analytics-dashboard(r)'), (u'jhelbert(u)', u'edx-platform(r)'), (u'jhelbert(u)', u'edx-analytics-data-api(r)'), (u'ysagal(u)', u'luigi(r)'), (u'RobCherry(u)', u'luigi(r)'), (u'spiside(u)', u'luigi(r)'), (u'qddegtya(u)', u'free-programming-books-zh_CN(r)'), (u'gwax(u)', u'luigi(r)'), (u'MarCnu(u)', u'ANALYSE(r)'), (u'MarCnu(u)', u'edx-platform(r)'), (u'dianakhuang(u)', u'ANALYSE(r)'), (u'dianakhuang(u)', u'edx-platform(r)'), (u'danielhfrank(u)', u'luigi(r)'), (u'teichmaj(u)', u'luigi(r)'), (u'jmclaus(u)', u'ANALYSE(r)'), (u'jmclaus(u)', u'edx-platform(r)'), (u'FiloSottile(u)', u'ANALYSE(r)'), (u'FiloSottile(u)', u'edx-platform(r)'), (u'phunter(u)', u'luigi(r)'), (u'puntxo(u)', u'ANALYSE(r)'), (u'puntxo(u)', u'edx-platform(r)'), (u'kawaa(u)', u'luigi(r)'), (u'itsjeyd(u)', u'edx-platform(r)'), (u'mbfhunzaker(u)', u'https-github.com-ptwobrussell-Mining-the-Social-Web-2nd-Edition(r)'), (u'cptvitamin(u)', u'edx-platform(r)'), (u'adregner(u)', u'luigi(r)'), (u'simultech(u)', u'edx-platform(r)'), (u'Colin-Fredericks(u)', u'edx-platform(r)'), (u'Earthstar(u)', u'ANALYSE(r)'), (u'Earthstar(u)', u'edx-platform(r)'), (u'TheJJ(u)', u'ANALYSE(r)'), (u'TheJJ(u)', u'edx-platform(r)'), (u'jcdavis(u)', u'luigi(r)'), (u'dan-f(u)', u'ANALYSE(r)'), (u'dan-f(u)', u'edx-analytics-dashboard(r)'), (u'dan-f(u)', u'edx-platform(r)'), (u'gngh(u)', u'XX-Net(r)'), (u'wwajerowicz(u)', u'luigi(r)'), (u'nicolehedblom(u)', u'luigi(r)'), (u'grubino(u)', u'luigi(r)'), (u'joshk(u)', u'luigi(r)'), (u'Ljhero(u)', u'free-programming-books-zh_CN(r)'), (u'wesm(u)', u'pydata-book(r)'), (u'vansteki(u)', u'free-programming-books-zh_CN(r)'), (u'jvns(u)', u'luigi(r)'), (u'regisb(u)', u'edx-platform(r)'), (u'clintonb(u)', u'ANALYSE(r)'), (u'clintonb(u)', u'edx-analytics-pipeline(r)'), (u'clintonb(u)', u'edx-analytics-dashboard(r)'), (u'clintonb(u)', u'edx-platform(r)'), (u'clintonb(u)', u'edx-analytics-data-api(r)'), (u'bradenmacdonald(u)', u'ANALYSE(r)'), (u'bradenmacdonald(u)', u'edx-analytics-pipeline(r)'), (u'bradenmacdonald(u)', u'edx-platform(r)'), (u'bradenmacdonald(u)', u'luigi(r)'), (u'2dxgujun(u)', u'free-programming-books-zh_CN(r)'), (u'jinpa(u)', u'ANALYSE(r)'), (u'jinpa(u)', u'edx-platform(r)'), (u'jarv(u)', u'ANALYSE(r)'), (u'jarv(u)', u'edx-platform(r)'), (u'jarv(u)', u'edx-analytics-data-api(r)'), (u'itsbenweeks(u)', u'ANALYSE(r)'), (u'itsbenweeks(u)', u'edx-platform(r)'), (u'jalkjaer(u)', u'luigi(r)'), (u'yales2015(u)', u'edx_analytics_ustc(r)'), (u'lpil(u)', u'ANALYSE(r)'), (u'lpil(u)', u'edx-platform(r)'), (u'woshiwanting(u)', u'free-programming-books-zh_CN(r)'), (u'thomasxiii(u)', u'ANALYSE(r)'), (u'thomasxiii(u)', u'edx-platform(r)'), (u'louyihua(u)', u'ANALYSE(r)'), (u'louyihua(u)', u'edx-platform(r)'), (u'jibsheet(u)', u'edx-platform(r)'), (u'Flowerowl(u)', u'free-programming-books-zh_CN(r)'), (u'apenwarr(u)', u'sshuttle(r)'), (u'straz(u)', u'ANALYSE(r)'), (u'straz(u)', u'edx-platform(r)'), (u'callinglove(u)', u'free-programming-books-zh_CN(r)'), (u'cupen(u)', u'free-programming-books-zh_CN(r)'), (u'pbamba(u)', u'luigi(r)'), (u'aOJzQT(u)', u'XX-Net(r)'), (u'dsego(u)', u'edx-platform(r)'), (u'marsam(u)', u'https-github.com-ptwobrussell-Mining-the-Social-Web-2nd-Edition(r)'), (u'graingert(u)', u'luigi(r)'), (u'joeshaw(u)', u'luigi(r)'), (u'afzaledx(u)', u'edx-platform(r)'), (u'nparlante(u)', u'ANALYSE(r)'), (u'nparlante(u)', u'edx-platform(r)'), (u'athoune(u)', u'luigi(r)'), (u'tuulos(u)', u'luigi(r)'), (u'awaisdar001(u)', u'edx-platform(r)'), (u'alawibaba(u)', u'edx-platform(r)'), (u'dementrock(u)', u'ANALYSE(r)'), (u'dementrock(u)', u'edx-platform(r)'), (u'mushtaqak(u)', u'edx-platform(r)'), (u'SomeKittens(u)', u'luigi(r)'), (u'eipark(u)', u'ANALYSE(r)'), (u'eipark(u)', u'edx-platform(r)'), (u'think2011(u)', u'XX-Net(r)'), (u'arbabnazar(u)', u'edx-platform(r)'), (u'iceraj(u)', u'ANALYSE(r)'), (u'iceraj(u)', u'edx-platform(r)'), (u'raeeschachar(u)', u'ANALYSE(r)'), (u'raeeschachar(u)', u'edx-platform(r)'), (u'markchang(u)', u'ANALYSE(r)'), (u'markchang(u)', u'edx-platform(r)'), (u'smarnach(u)', u'edx-platform(r)'), (u'jab5569(u)', u'edx-analytics-pipeline(r)'), (u'jab5569(u)', u'edx-platform(r)'), (u'theJohnnyBrown(u)', u'ANALYSE(r)'), (u'theJohnnyBrown(u)', u'edx-platform(r)'), (u'jzoldak(u)', u'ANALYSE(r)'), (u'jzoldak(u)', u'edx-platform(r)'), (u'nailor(u)', u'luigi(r)'), (u'cloudaice(u)', u'simple-data(r)'), (u'chrisrossi(u)', u'ANALYSE(r)'), (u'chrisrossi(u)', u'edx-platform(r)'), (u'alanbbr(u)', u'luigi(r)'), (u'saleem-latif(u)', u'edx-platform(r)'), (u'wmono(u)', u'edx-platform(r)'), (u'hkim823(u)', u'ANALYSE(r)'), (u'hkim823(u)', u'edx-platform(r)'), (u'aadu(u)', u'luigi(r)'), (u'stroilova(u)', u'ANALYSE(r)'), (u'stroilova(u)', u'edx-platform(r)'), (u'pedersen(u)', u'luigi(r)'), (u'vkrest(u)', u'Mining-the-Social-Web(r)'), (u'toidi(u)', u'luigi(r)'), (u'redcat9(u)', u'luigi(r)'), (u'chrisndodge(u)', u'ANALYSE(r)'), (u'chrisndodge(u)', u'edx-platform(r)'), (u'ReadmeCritic(u)', u'XX-Net(r)'), (u'feanil(u)', u'ANALYSE(r)'), (u'feanil(u)', u'edx-analytics-dashboard(r)'), (u'feanil(u)', u'edx-platform(r)'), (u'bolasblack(u)', u'free-programming-books-zh_CN(r)'), (u'rogerwang(u)', u'sshuttle(r)'), (u'Hawstein(u)', u'free-programming-books-zh_CN(r)'), (u'brianmay(u)', u'sshuttle(r)'), (u'jkukul(u)', u'luigi(r)'), (u'benpatterson(u)', u'ANALYSE(r)'), (u'benpatterson(u)', u'edx-analytics-pipeline(r)'), (u'benpatterson(u)', u'edx-analytics-dashboard(r)'), (u'benpatterson(u)', u'edx-platform(r)'), (u'benpatterson(u)', u'edx-analytics-data-api(r)'), (u'AlexanderFuentes(u)', u'edx_data_research(r)'), (u'valera-rozuvan(u)', u'ANALYSE(r)'), (u'valera-rozuvan(u)', u'edx-platform(r)'), (u'dcheck(u)', u'luigi(r)'), (u'ziafazal(u)', u'edx-platform(r)'), (u'spacewander(u)', u'free-programming-books-zh_CN(r)'), (u'dlackty(u)', u'edx-analytics-dashboard(r)'), (u'tymofij(u)', u'ANALYSE(r)'), (u'tymofij(u)', u'edx-platform(r)'), (u'kianho(u)', u'luigi(r)'), (u'Yoone(u)', u'luigi(r)'), (u'belevtsoff(u)', u'luigi(r)'), (u'jackdwyer(u)', u'luigi(r)'), (u'nasthagiri(u)', u'ANALYSE(r)'), (u'nasthagiri(u)', u'edx-platform(r)'), (u'weidongtoml(u)', u'luigi(r)'), (u'cpennington(u)', u'ANALYSE(r)'), (u'cpennington(u)', u'edx-platform(r)'), (u'sjackso(u)', u'edx-platform(r)'), (u'jwsy(u)', u'https-github.com-ptwobrussell-Mining-the-Social-Web-2nd-Edition(r)'), (u'jaidevd(u)', u'luigi(r)'), (u'MatMoore(u)', u'edx-platform(r)'), (u'adampalay(u)', u'ANALYSE(r)'), (u'adampalay(u)', u'edx-platform(r)'), (u'ksky521(u)', u'free-programming-books-zh_CN(r)'), (u'georgeguimaraes(u)', u'sshuttle(r)'), (u'freider(u)', u'luigi(r)'), (u'doctoryes(u)', u'ANALYSE(r)'), (u'doctoryes(u)', u'edx-platform(r)'), (u'themalkolm(u)', u'luigi(r)'), (u'jimabramson(u)', u'ANALYSE(r)'), (u'jimabramson(u)', u'edx-platform(r)'), (u'Bachmann1234(u)', u'ANALYSE(r)'), (u'Bachmann1234(u)', u'edx-platform(r)'), (u'glowe(u)', u'ANALYSE(r)'), (u'glowe(u)', u'edx-platform(r)'), (u'dylanrhodes(u)', u'edx-analytics-pipeline(r)'), (u'dylanrhodes(u)', u'edx-analytics-data-api(r)'), (u'dylanjbarth(u)', u'luigi(r)'), (u'ormsbee(u)', u'ANALYSE(r)'), (u'ormsbee(u)', u'edx-platform(r)'), (u'rocha(u)', u'edx-analytics-dashboard(r)'), (u'rocha(u)', u'edx-platform(r)'), (u'rocha(u)', u'edx-analytics-data-api(r)'), (u'rocha(u)', u'luigi(r)'), (u'rocha(u)', u'ANALYSE(r)'), (u'rocha(u)', u'edx-analytics-pipeline(r)'), (u'freben(u)', u'luigi(r)'), (u'nexcvon(u)', u'free-programming-books-zh_CN(r)'), (u'Slater-Victoroff(u)', u'ANALYSE(r)'), (u'Slater-Victoroff(u)', u'edx-platform(r)'), (u'aamir-khan(u)', u'edx-platform(r)'), (u'bderusha(u)', u'edx-platform(r)'), (u'mattdrayer(u)', u'ANALYSE(r)'), (u'mattdrayer(u)', u'edx-platform(r)'), (u'caijim(u)', u'edx-platform(r)'), (u'afeef(u)', u'edx-platform(r)'), (u'felipemontoya(u)', u'ANALYSE(r)'), (u'felipemontoya(u)', u'edx-platform(r)'), (u'lduarte1991(u)', u'ANALYSE(r)'), (u'lduarte1991(u)', u'edx-platform(r)'), (u'DeaconDesperado(u)', u'luigi(r)'), (u'mikekap(u)', u'luigi(r)'), (u'megansquire(u)', u'Mining-the-Social-Web(r)'), (u'jcrobak(u)', u'luigi(r)'), (u'edwardloveall(u)', u'ANALYSE(r)'), (u'edwardloveall(u)', u'edx-platform(r)'), (u'ChrisBeaumont(u)', u'luigi(r)'), (u'sikachu(u)', u'ANALYSE(r)'), (u'sikachu(u)', u'edx-platform(r)'), (u'njdup(u)', u'ANALYSE(r)'), (u'njdup(u)', u'edx-platform(r)'), (u'mhoeber(u)', u'ANALYSE(r)'), (u'mhoeber(u)', u'edx-analytics-dashboard(r)'), (u'mhoeber(u)', u'edx-platform(r)'), (u'mhoeber(u)', u'edx-analytics-data-api(r)'), (u'ovnicraft(u)', u'ANALYSE(r)'), (u'ovnicraft(u)', u'edx-platform(r)'), (u'gpoulin(u)', u'luigi(r)'), (u'pfhayes(u)', u'luigi(r)'), (u'veficos(u)', u'free-programming-books-zh_CN(r)'), (u'kboots-mit(u)', u'edx-platform(r)'), (u'Ddper(u)', u'luigi(r)'), (u'ptwobrussell(u)', u'Mining-the-Social-Web(r)'), (u'ptwobrussell(u)', u'https-github.com-ptwobrussell-Mining-the-Social-Web-2nd-Edition(r)'), (u'nedbat(u)', u'ANALYSE(r)'), (u'nedbat(u)', u'edx-platform(r)'), (u'jrbl(u)', u'ANALYSE(r)'), (u'jrbl(u)', u'edx-platform(r)'), (u'erikbern(u)', u'luigi(r)'), (u'LucaFoschini(u)', u'luigi(r)'), (u'jrowan(u)', u'edx-analytics-pipeline(r)'), (u'freyes(u)', u'luigi(r)'), (u'f355(u)', u'luigi(r)'), (u'mlsteele(u)', u'ANALYSE(r)'), (u'mlsteele(u)', u'edx-platform(r)'), (u'kern3020(u)', u'ANALYSE(r)'), (u'kern3020(u)', u'edx-platform(r)'), (u'anyman(u)', u'luigi(r)')]\n"
       ]
      }
     ],
     "prompt_number": 24
    },
    {
     "cell_type": "code",
     "collapsed": false,
     "input": [],
     "language": "python",
     "metadata": {},
     "outputs": [],
     "prompt_number": 24
    },
    {
     "cell_type": "code",
     "collapsed": false,
     "input": [],
     "language": "python",
     "metadata": {},
     "outputs": []
    }
   ],
   "metadata": {}
  }
 ]
}